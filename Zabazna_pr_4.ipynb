{
 "cells": [
  {
   "cell_type": "markdown",
   "id": "548b2d1a-3a2e-42c4-adf3-6d48becad512",
   "metadata": {},
   "source": [
    "## Лабораторна робота 4"
   ]
  },
  {
   "cell_type": "code",
   "execution_count": 1,
   "id": "208c4b32-9ba2-4c09-b1ff-de6c9c213179",
   "metadata": {},
   "outputs": [],
   "source": [
    "from sklearn.datasets import load_breast_cancer\n",
    "from sklearn.preprocessing import StandardScaler\n",
    "from sklearn.linear_model import LogisticRegression\n",
    "from sklearn.model_selection import train_test_split, GridSearchCV\n",
    "from sklearn.ensemble import RandomForestClassifier\n",
    "from sklearn.model_selection import cross_val_score\n",
    "from sklearn.tree import DecisionTreeClassifier\n",
    "from sklearn.metrics import accuracy_score, confusion_matrix, ConfusionMatrixDisplay, classification_report, precision_score, recall_score, mean_squared_error\n",
    "from sklearn.neighbors import KNeighborsClassifier\n",
    "from sklearn import svm\n",
    "import pandas as pd\n",
    "import numpy as np\n",
    "import matplotlib.pyplot as plt"
   ]
  },
  {
   "cell_type": "markdown",
   "id": "0d7c5fc4-69ec-4955-b797-0f9f1d9a73e4",
   "metadata": {},
   "source": [
    "<p>1. Завантажте вбудований датасет load_breast_cancer з бібліотеки\r\n",
    "sklearn.datasets</p>"
   ]
  },
  {
   "cell_type": "code",
   "execution_count": 2,
   "id": "4062de10-2ab4-4e13-b355-5284bf43466c",
   "metadata": {},
   "outputs": [],
   "source": [
    "bc_dataset = load_breast_cancer()"
   ]
  },
  {
   "cell_type": "markdown",
   "id": "88e929e4-aaa3-4af0-a965-859ef736de48",
   "metadata": {},
   "source": [
    "<p>2. Проведіть попередній аналіз даних \n",
    "    <ul>\n",
    "        <li>Перегляньте перші кілька рядків</li>\n",
    "        <li>Перевірте назви стовпців та типи даних</li>\n",
    "        <li>Перевірте наявність пропущених значень</li>\n",
    "        <li>Досліджуйте розмір даних</li>\n",
    "    </ul> \n",
    "    </p>/p>"
   ]
  },
  {
   "cell_type": "code",
   "execution_count": 3,
   "id": "b653a7bf-5d00-42c7-8d2d-127b6e7ce0c0",
   "metadata": {},
   "outputs": [
    {
     "data": {
      "text/html": [
       "<div>\n",
       "<style scoped>\n",
       "    .dataframe tbody tr th:only-of-type {\n",
       "        vertical-align: middle;\n",
       "    }\n",
       "\n",
       "    .dataframe tbody tr th {\n",
       "        vertical-align: top;\n",
       "    }\n",
       "\n",
       "    .dataframe thead th {\n",
       "        text-align: right;\n",
       "    }\n",
       "</style>\n",
       "<table border=\"1\" class=\"dataframe\">\n",
       "  <thead>\n",
       "    <tr style=\"text-align: right;\">\n",
       "      <th></th>\n",
       "      <th>mean radius</th>\n",
       "      <th>mean texture</th>\n",
       "      <th>mean perimeter</th>\n",
       "      <th>mean area</th>\n",
       "      <th>mean smoothness</th>\n",
       "      <th>mean compactness</th>\n",
       "      <th>mean concavity</th>\n",
       "      <th>mean concave points</th>\n",
       "      <th>mean symmetry</th>\n",
       "      <th>mean fractal dimension</th>\n",
       "      <th>...</th>\n",
       "      <th>worst texture</th>\n",
       "      <th>worst perimeter</th>\n",
       "      <th>worst area</th>\n",
       "      <th>worst smoothness</th>\n",
       "      <th>worst compactness</th>\n",
       "      <th>worst concavity</th>\n",
       "      <th>worst concave points</th>\n",
       "      <th>worst symmetry</th>\n",
       "      <th>worst fractal dimension</th>\n",
       "      <th>target</th>\n",
       "    </tr>\n",
       "  </thead>\n",
       "  <tbody>\n",
       "    <tr>\n",
       "      <th>0</th>\n",
       "      <td>17.99</td>\n",
       "      <td>10.38</td>\n",
       "      <td>122.80</td>\n",
       "      <td>1001.0</td>\n",
       "      <td>0.11840</td>\n",
       "      <td>0.27760</td>\n",
       "      <td>0.3001</td>\n",
       "      <td>0.14710</td>\n",
       "      <td>0.2419</td>\n",
       "      <td>0.07871</td>\n",
       "      <td>...</td>\n",
       "      <td>17.33</td>\n",
       "      <td>184.60</td>\n",
       "      <td>2019.0</td>\n",
       "      <td>0.1622</td>\n",
       "      <td>0.6656</td>\n",
       "      <td>0.7119</td>\n",
       "      <td>0.2654</td>\n",
       "      <td>0.4601</td>\n",
       "      <td>0.11890</td>\n",
       "      <td>0.0</td>\n",
       "    </tr>\n",
       "    <tr>\n",
       "      <th>1</th>\n",
       "      <td>20.57</td>\n",
       "      <td>17.77</td>\n",
       "      <td>132.90</td>\n",
       "      <td>1326.0</td>\n",
       "      <td>0.08474</td>\n",
       "      <td>0.07864</td>\n",
       "      <td>0.0869</td>\n",
       "      <td>0.07017</td>\n",
       "      <td>0.1812</td>\n",
       "      <td>0.05667</td>\n",
       "      <td>...</td>\n",
       "      <td>23.41</td>\n",
       "      <td>158.80</td>\n",
       "      <td>1956.0</td>\n",
       "      <td>0.1238</td>\n",
       "      <td>0.1866</td>\n",
       "      <td>0.2416</td>\n",
       "      <td>0.1860</td>\n",
       "      <td>0.2750</td>\n",
       "      <td>0.08902</td>\n",
       "      <td>0.0</td>\n",
       "    </tr>\n",
       "    <tr>\n",
       "      <th>2</th>\n",
       "      <td>19.69</td>\n",
       "      <td>21.25</td>\n",
       "      <td>130.00</td>\n",
       "      <td>1203.0</td>\n",
       "      <td>0.10960</td>\n",
       "      <td>0.15990</td>\n",
       "      <td>0.1974</td>\n",
       "      <td>0.12790</td>\n",
       "      <td>0.2069</td>\n",
       "      <td>0.05999</td>\n",
       "      <td>...</td>\n",
       "      <td>25.53</td>\n",
       "      <td>152.50</td>\n",
       "      <td>1709.0</td>\n",
       "      <td>0.1444</td>\n",
       "      <td>0.4245</td>\n",
       "      <td>0.4504</td>\n",
       "      <td>0.2430</td>\n",
       "      <td>0.3613</td>\n",
       "      <td>0.08758</td>\n",
       "      <td>0.0</td>\n",
       "    </tr>\n",
       "    <tr>\n",
       "      <th>3</th>\n",
       "      <td>11.42</td>\n",
       "      <td>20.38</td>\n",
       "      <td>77.58</td>\n",
       "      <td>386.1</td>\n",
       "      <td>0.14250</td>\n",
       "      <td>0.28390</td>\n",
       "      <td>0.2414</td>\n",
       "      <td>0.10520</td>\n",
       "      <td>0.2597</td>\n",
       "      <td>0.09744</td>\n",
       "      <td>...</td>\n",
       "      <td>26.50</td>\n",
       "      <td>98.87</td>\n",
       "      <td>567.7</td>\n",
       "      <td>0.2098</td>\n",
       "      <td>0.8663</td>\n",
       "      <td>0.6869</td>\n",
       "      <td>0.2575</td>\n",
       "      <td>0.6638</td>\n",
       "      <td>0.17300</td>\n",
       "      <td>0.0</td>\n",
       "    </tr>\n",
       "    <tr>\n",
       "      <th>4</th>\n",
       "      <td>20.29</td>\n",
       "      <td>14.34</td>\n",
       "      <td>135.10</td>\n",
       "      <td>1297.0</td>\n",
       "      <td>0.10030</td>\n",
       "      <td>0.13280</td>\n",
       "      <td>0.1980</td>\n",
       "      <td>0.10430</td>\n",
       "      <td>0.1809</td>\n",
       "      <td>0.05883</td>\n",
       "      <td>...</td>\n",
       "      <td>16.67</td>\n",
       "      <td>152.20</td>\n",
       "      <td>1575.0</td>\n",
       "      <td>0.1374</td>\n",
       "      <td>0.2050</td>\n",
       "      <td>0.4000</td>\n",
       "      <td>0.1625</td>\n",
       "      <td>0.2364</td>\n",
       "      <td>0.07678</td>\n",
       "      <td>0.0</td>\n",
       "    </tr>\n",
       "  </tbody>\n",
       "</table>\n",
       "<p>5 rows × 31 columns</p>\n",
       "</div>"
      ],
      "text/plain": [
       "   mean radius  mean texture  mean perimeter  mean area  mean smoothness  \\\n",
       "0        17.99         10.38          122.80     1001.0          0.11840   \n",
       "1        20.57         17.77          132.90     1326.0          0.08474   \n",
       "2        19.69         21.25          130.00     1203.0          0.10960   \n",
       "3        11.42         20.38           77.58      386.1          0.14250   \n",
       "4        20.29         14.34          135.10     1297.0          0.10030   \n",
       "\n",
       "   mean compactness  mean concavity  mean concave points  mean symmetry  \\\n",
       "0           0.27760          0.3001              0.14710         0.2419   \n",
       "1           0.07864          0.0869              0.07017         0.1812   \n",
       "2           0.15990          0.1974              0.12790         0.2069   \n",
       "3           0.28390          0.2414              0.10520         0.2597   \n",
       "4           0.13280          0.1980              0.10430         0.1809   \n",
       "\n",
       "   mean fractal dimension  ...  worst texture  worst perimeter  worst area  \\\n",
       "0                 0.07871  ...          17.33           184.60      2019.0   \n",
       "1                 0.05667  ...          23.41           158.80      1956.0   \n",
       "2                 0.05999  ...          25.53           152.50      1709.0   \n",
       "3                 0.09744  ...          26.50            98.87       567.7   \n",
       "4                 0.05883  ...          16.67           152.20      1575.0   \n",
       "\n",
       "   worst smoothness  worst compactness  worst concavity  worst concave points  \\\n",
       "0            0.1622             0.6656           0.7119                0.2654   \n",
       "1            0.1238             0.1866           0.2416                0.1860   \n",
       "2            0.1444             0.4245           0.4504                0.2430   \n",
       "3            0.2098             0.8663           0.6869                0.2575   \n",
       "4            0.1374             0.2050           0.4000                0.1625   \n",
       "\n",
       "   worst symmetry  worst fractal dimension  target  \n",
       "0          0.4601                  0.11890     0.0  \n",
       "1          0.2750                  0.08902     0.0  \n",
       "2          0.3613                  0.08758     0.0  \n",
       "3          0.6638                  0.17300     0.0  \n",
       "4          0.2364                  0.07678     0.0  \n",
       "\n",
       "[5 rows x 31 columns]"
      ]
     },
     "execution_count": 3,
     "metadata": {},
     "output_type": "execute_result"
    }
   ],
   "source": [
    "df = pd.DataFrame(data=np.c_[bc_dataset.data, bc_dataset.target], columns=np.append(bc_dataset.feature_names, ['target']))\n",
    "df.head()"
   ]
  },
  {
   "cell_type": "code",
   "execution_count": 4,
   "id": "940cbaa2-5feb-4a1f-99fa-2d3b588b9c47",
   "metadata": {},
   "outputs": [
    {
     "data": {
      "text/plain": [
       "Index(['mean radius', 'mean texture', 'mean perimeter', 'mean area',\n",
       "       'mean smoothness', 'mean compactness', 'mean concavity',\n",
       "       'mean concave points', 'mean symmetry', 'mean fractal dimension',\n",
       "       'radius error', 'texture error', 'perimeter error', 'area error',\n",
       "       'smoothness error', 'compactness error', 'concavity error',\n",
       "       'concave points error', 'symmetry error', 'fractal dimension error',\n",
       "       'worst radius', 'worst texture', 'worst perimeter', 'worst area',\n",
       "       'worst smoothness', 'worst compactness', 'worst concavity',\n",
       "       'worst concave points', 'worst symmetry', 'worst fractal dimension',\n",
       "       'target'],\n",
       "      dtype='object')"
      ]
     },
     "execution_count": 4,
     "metadata": {},
     "output_type": "execute_result"
    }
   ],
   "source": [
    "df.columns"
   ]
  },
  {
   "cell_type": "code",
   "execution_count": 5,
   "id": "72df65c5-05ae-4696-868d-60ad40e3bb73",
   "metadata": {},
   "outputs": [
    {
     "data": {
      "text/plain": [
       "mean radius                float64\n",
       "mean texture               float64\n",
       "mean perimeter             float64\n",
       "mean area                  float64\n",
       "mean smoothness            float64\n",
       "mean compactness           float64\n",
       "mean concavity             float64\n",
       "mean concave points        float64\n",
       "mean symmetry              float64\n",
       "mean fractal dimension     float64\n",
       "radius error               float64\n",
       "texture error              float64\n",
       "perimeter error            float64\n",
       "area error                 float64\n",
       "smoothness error           float64\n",
       "compactness error          float64\n",
       "concavity error            float64\n",
       "concave points error       float64\n",
       "symmetry error             float64\n",
       "fractal dimension error    float64\n",
       "worst radius               float64\n",
       "worst texture              float64\n",
       "worst perimeter            float64\n",
       "worst area                 float64\n",
       "worst smoothness           float64\n",
       "worst compactness          float64\n",
       "worst concavity            float64\n",
       "worst concave points       float64\n",
       "worst symmetry             float64\n",
       "worst fractal dimension    float64\n",
       "target                     float64\n",
       "dtype: object"
      ]
     },
     "execution_count": 5,
     "metadata": {},
     "output_type": "execute_result"
    }
   ],
   "source": [
    "df.dtypes"
   ]
  },
  {
   "cell_type": "code",
   "execution_count": 6,
   "id": "3cae75ce-db3c-4735-a9f8-ea739be270ef",
   "metadata": {},
   "outputs": [
    {
     "data": {
      "text/plain": [
       "mean radius                0\n",
       "mean texture               0\n",
       "mean perimeter             0\n",
       "mean area                  0\n",
       "mean smoothness            0\n",
       "mean compactness           0\n",
       "mean concavity             0\n",
       "mean concave points        0\n",
       "mean symmetry              0\n",
       "mean fractal dimension     0\n",
       "radius error               0\n",
       "texture error              0\n",
       "perimeter error            0\n",
       "area error                 0\n",
       "smoothness error           0\n",
       "compactness error          0\n",
       "concavity error            0\n",
       "concave points error       0\n",
       "symmetry error             0\n",
       "fractal dimension error    0\n",
       "worst radius               0\n",
       "worst texture              0\n",
       "worst perimeter            0\n",
       "worst area                 0\n",
       "worst smoothness           0\n",
       "worst compactness          0\n",
       "worst concavity            0\n",
       "worst concave points       0\n",
       "worst symmetry             0\n",
       "worst fractal dimension    0\n",
       "target                     0\n",
       "dtype: int64"
      ]
     },
     "execution_count": 6,
     "metadata": {},
     "output_type": "execute_result"
    }
   ],
   "source": [
    "df.isnull().sum()"
   ]
  },
  {
   "cell_type": "code",
   "execution_count": 7,
   "id": "639b6a1c-db22-4eaf-b747-bd42027cbe07",
   "metadata": {},
   "outputs": [
    {
     "data": {
      "text/plain": [
       "(569, 31)"
      ]
     },
     "execution_count": 7,
     "metadata": {},
     "output_type": "execute_result"
    }
   ],
   "source": [
    "df.shape"
   ]
  },
  {
   "cell_type": "markdown",
   "id": "e15e67ef-ed5f-4e26-a141-2565306e91f6",
   "metadata": {},
   "source": [
    "<p>3. Побудова і налаштування моделей\n",
    "<ul>\n",
    "    <li>Розділіть дані на навчальний і тестовий набори</li>\n",
    "    <li>Побудуйте три моделі класифікації (на власний вибір), \n",
    "наприкла: Логістична регресія, Дерево рішень, Випадковий лісд</li>    <li>Підберіть оптимальні параметри для кожної моделі за допомогою \n",
    "GridSearchCV (можна вибрати інший оптимізатор)</li>\n",
    "\n",
    "</u \n",
    "\n",
    "</p>"
   ]
  },
  {
   "cell_type": "code",
   "execution_count": 8,
   "id": "036098a7-17b6-4811-ada8-ed980ce59a2a",
   "metadata": {},
   "outputs": [],
   "source": [
    "data = bc_dataset.data\n",
    "target = bc_dataset.target\n",
    "X_train, X_test, y_train, y_test = train_test_split(data, target, test_size=0.2, random_state=42)\n",
    "\n",
    "scaler = StandardScaler()\n",
    "X_train_scaled = scaler.fit_transform(X_train)\n",
    "X_test_scaled = scaler.transform(X_test)"
   ]
  },
  {
   "cell_type": "code",
   "execution_count": 9,
   "id": "2a1e00a2-a3ba-4915-8aa3-283f0242d8e3",
   "metadata": {},
   "outputs": [
    {
     "name": "stdout",
     "output_type": "stream",
     "text": [
      "Найкращі параметри:  {'C': 0.1, 'penalty': 'l2', 'solver': 'liblinear'}\n"
     ]
    }
   ],
   "source": [
    "clf = LogisticRegression(random_state=0, max_iter=5000).fit(X_train_scaled, y_train)\n",
    "param_grid = {\n",
    "    'C': [0.1, 1, 10],\n",
    "    'solver': ['liblinear', 'lbfgs', 'saga'],\n",
    "    'penalty': ['l2']\n",
    "}\n",
    "grid_search = GridSearchCV(estimator=clf, param_grid=param_grid, cv=5, scoring='accuracy')\n",
    "grid_search.fit(X_train_scaled, y_train)\n",
    "print(\"Найкращі параметри: \", grid_search.best_params_)\n",
    "\n",
    "best_lr_model = grid_search.best_estimator_"
   ]
  },
  {
   "cell_type": "code",
   "execution_count": 10,
   "id": "c8f3e544-722b-40d3-aa97-3d2280bc6933",
   "metadata": {},
   "outputs": [
    {
     "name": "stdout",
     "output_type": "stream",
     "text": [
      "Fitting 5 folds for each of 54 candidates, totalling 270 fits\n",
      "Найкращі параметри: {'max_depth': None, 'max_features': 'log2', 'min_samples_split': 10, 'n_estimators': 10}\n"
     ]
    }
   ],
   "source": [
    "param_grid = {\n",
    "    'n_estimators': [10, 50, 100],\n",
    "    'max_depth': [None, 10, 20],\n",
    "    'min_samples_split': [2, 5, 10],\n",
    "    'max_features': ['sqrt', 'log2']\n",
    "}\n",
    "clf1 = RandomForestClassifier(random_state=0)\n",
    "grid_search1 = GridSearchCV(estimator=clf1, param_grid=param_grid, cv=5, scoring='accuracy', n_jobs=-1, verbose=2)\n",
    "grid_search1.fit(X_train_scaled, y_train)\n",
    "print(\"Найкращі параметри:\", grid_search1.best_params_)\n",
    "\n",
    "best_rf_model = grid_search1.best_estimator_"
   ]
  },
  {
   "cell_type": "code",
   "execution_count": 11,
   "id": "f9767104-4f7a-4170-9214-c04536bcde63",
   "metadata": {},
   "outputs": [
    {
     "name": "stdout",
     "output_type": "stream",
     "text": [
      "Fitting 5 folds for each of 216 candidates, totalling 1080 fits\n",
      "Найкращі параметри: {'criterion': 'entropy', 'max_depth': 5, 'min_samples_leaf': 1, 'min_samples_split': 2, 'splitter': 'best'}\n"
     ]
    }
   ],
   "source": [
    "param_grid = {\n",
    "    'max_depth': [2, 3, 4, 5, 6, None],\n",
    "    'min_samples_split': [2, 5, 10],\n",
    "    'min_samples_leaf': [1, 2, 4],\n",
    "    'criterion': ['gini', 'entropy'],\n",
    "    'splitter': ['best', 'random']\n",
    "}\n",
    "clf2 = DecisionTreeClassifier(random_state=0)\n",
    "grid_search2 = GridSearchCV(estimator=clf2, param_grid=param_grid, cv=5, scoring='accuracy', n_jobs=-1, verbose=2)\n",
    "grid_search2.fit(X_train_scaled, y_train)\n",
    "print(\"Найкращі параметри:\", grid_search2.best_params_)\n",
    "\n",
    "best_dt_model = grid_search2.best_estimator_"
   ]
  },
  {
   "cell_type": "markdown",
   "id": "fc385719-c459-40c2-ae69-52f09bca94e2",
   "metadata": {},
   "source": [
    "<p>4.Оцініть моделі. Виведіть точність (accuracy) – обов’язково, матрицю \n",
    "помилок (confusion matrix) – за вибором та звіт про класифікацію\r\n",
    "(classification report) для кожної моделі.</p>"
   ]
  },
  {
   "cell_type": "markdown",
   "id": "e664e6ec-0453-4be6-8f38-563ae264840b",
   "metadata": {},
   "source": [
    "### Логістична регресія"
   ]
  },
  {
   "cell_type": "code",
   "execution_count": 12,
   "id": "4402e7eb-42d0-409d-9acc-bf79817ae6c8",
   "metadata": {},
   "outputs": [
    {
     "name": "stdout",
     "output_type": "stream",
     "text": [
      "Точність на тестовому наборі: 0.9912\n"
     ]
    }
   ],
   "source": [
    "y_pred = best_lr_model.predict(X_test_scaled)\n",
    "test_accuracy = accuracy_score(y_test, y_pred)\n",
    "print(\"Точність на тестовому наборі: {:.4f}\".format(test_accuracy))"
   ]
  },
  {
   "cell_type": "code",
   "execution_count": 13,
   "id": "6fc0b6c1-418a-4cfa-8487-708dbb36e31c",
   "metadata": {},
   "outputs": [
    {
     "name": "stdout",
     "output_type": "stream",
     "text": [
      "Матриця помилок:\n",
      "[[42  1]\n",
      " [ 0 71]]\n"
     ]
    },
    {
     "data": {
      "image/png": "[encoded data removed]",
      "text/plain": [
       "<Figure size 640x480 with 2 Axes>"
      ]
     },
     "metadata": {},
     "output_type": "display_data"
    }
   ],
   "source": [
    "cm = confusion_matrix(y_test, y_pred)\n",
    "print(\"Матриця помилок:\")\n",
    "print(cm)\n",
    "disp = ConfusionMatrixDisplay(confusion_matrix=cm, display_labels=best_lr_model.classes_)\n",
    "disp.plot()\n",
    "plt.title(\"Матриця помилок\")\n",
    "plt.show()"
   ]
  },
  {
   "cell_type": "code",
   "execution_count": 14,
   "id": "1581ffc2-8e05-4c9d-b98b-0d44ea1f5a4c",
   "metadata": {},
   "outputs": [
    {
     "name": "stdout",
     "output_type": "stream",
     "text": [
      "\n",
      "Classification Report:\n",
      "              precision    recall  f1-score   support\n",
      "\n",
      "     class 0       1.00      0.98      0.99        43\n",
      "     class 1       0.99      1.00      0.99        71\n",
      "\n",
      "    accuracy                           0.99       114\n",
      "   macro avg       0.99      0.99      0.99       114\n",
      "weighted avg       0.99      0.99      0.99       114\n",
      "\n"
     ]
    }
   ],
   "source": [
    "print(\"\\nClassification Report:\")\n",
    "print(classification_report(y_test, y_pred, target_names=['class 0', 'class 1']))"
   ]
  },
  {
   "cell_type": "markdown",
   "id": "bc9f04e3-57af-45a7-a693-6ee8cf37b2d6",
   "metadata": {},
   "source": [
    "### Дерево рішень"
   ]
  },
  {
   "cell_type": "code",
   "execution_count": 15,
   "id": "7cb0a152-18e8-4886-85c0-f514399a0eb8",
   "metadata": {},
   "outputs": [
    {
     "name": "stdout",
     "output_type": "stream",
     "text": [
      "Точність на тестовому наборі: 0.9561\n"
     ]
    }
   ],
   "source": [
    "y_pred1 = best_dt_model.predict(X_test_scaled)\n",
    "test_accuracy = accuracy_score(y_test, y_pred1)\n",
    "print(\"Точність на тестовому наборі: {:.4f}\".format(test_accuracy))"
   ]
  },
  {
   "cell_type": "code",
   "execution_count": 16,
   "id": "1b1fe003-6f71-431a-a8ab-9a9a4a641fca",
   "metadata": {},
   "outputs": [
    {
     "name": "stdout",
     "output_type": "stream",
     "text": [
      "Матриця помилок:\n",
      "[[39  4]\n",
      " [ 1 70]]\n"
     ]
    },
    {
     "data": {
      "image/png": "[encoded data removed]",
      "text/plain": [
       "<Figure size 640x480 with 2 Axes>"
      ]
     },
     "metadata": {},
     "output_type": "display_data"
    }
   ],
   "source": [
    "cm = confusion_matrix(y_test, y_pred1)\n",
    "print(\"Матриця помилок:\")\n",
    "print(cm)\n",
    "disp = ConfusionMatrixDisplay(confusion_matrix=cm, display_labels=best_dt_model.classes_)\n",
    "disp.plot()\n",
    "plt.title(\"Матриця помилок\")\n",
    "plt.show()"
   ]
  },
  {
   "cell_type": "code",
   "execution_count": 17,
   "id": "aaf2d688-02ee-4098-8cbc-5648d36ef085",
   "metadata": {},
   "outputs": [
    {
     "name": "stdout",
     "output_type": "stream",
     "text": [
      "\n",
      "Classification Report:\n",
      "              precision    recall  f1-score   support\n",
      "\n",
      "     class 0       1.00      0.98      0.99        43\n",
      "     class 1       0.99      1.00      0.99        71\n",
      "\n",
      "    accuracy                           0.99       114\n",
      "   macro avg       0.99      0.99      0.99       114\n",
      "weighted avg       0.99      0.99      0.99       114\n",
      "\n"
     ]
    }
   ],
   "source": [
    "print(\"\\nClassification Report:\")\n",
    "print(classification_report(y_test, y_pred, target_names=['class 0', 'class 1']))"
   ]
  },
  {
   "cell_type": "markdown",
   "id": "8bb974e8-09b5-458e-8a3a-c326cd5cb90c",
   "metadata": {},
   "source": [
    "### Випадковий ліс"
   ]
  },
  {
   "cell_type": "code",
   "execution_count": 18,
   "id": "c24a4333-6af3-4727-a074-370446f4852e",
   "metadata": {},
   "outputs": [
    {
     "name": "stdout",
     "output_type": "stream",
     "text": [
      "Точність на тестовому наборі: 0.9561\n"
     ]
    }
   ],
   "source": [
    "y_pred2 = best_rf_model.predict(X_test_scaled)\n",
    "test_accuracy = accuracy_score(y_test, y_pred2)\n",
    "print(\"Точність на тестовому наборі: {:.4f}\".format(test_accuracy))"
   ]
  },
  {
   "cell_type": "code",
   "execution_count": 19,
   "id": "74daa81f-bce8-473e-b17f-d49586171736",
   "metadata": {},
   "outputs": [
    {
     "name": "stdout",
     "output_type": "stream",
     "text": [
      "Матриця помилок:\n",
      "[[39  4]\n",
      " [ 1 70]]\n"
     ]
    },
    {
     "data": {
      "image/png": "[encoded data removed]",
      "text/plain": [
       "<Figure size 640x480 with 2 Axes>"
      ]
     },
     "metadata": {},
     "output_type": "display_data"
    }
   ],
   "source": [
    "cm = confusion_matrix(y_test, y_pred2)\n",
    "print(\"Матриця помилок:\")\n",
    "print(cm)\n",
    "disp = ConfusionMatrixDisplay(confusion_matrix=cm, display_labels=best_rf_model.classes_)\n",
    "disp.plot()\n",
    "plt.title(\"Матриця помилок\")\n",
    "plt.show()"
   ]
  },
  {
   "cell_type": "code",
   "execution_count": 20,
   "id": "a496fcb8-6e0a-4451-b88d-e3576360acb8",
   "metadata": {},
   "outputs": [
    {
     "name": "stdout",
     "output_type": "stream",
     "text": [
      "\n",
      "Classification Report:\n",
      "              precision    recall  f1-score   support\n",
      "\n",
      "     class 0       0.97      0.91      0.94        43\n",
      "     class 1       0.95      0.99      0.97        71\n",
      "\n",
      "    accuracy                           0.96       114\n",
      "   macro avg       0.96      0.95      0.95       114\n",
      "weighted avg       0.96      0.96      0.96       114\n",
      "\n"
     ]
    }
   ],
   "source": [
    "print(\"\\nClassification Report:\")\n",
    "print(classification_report(y_test, y_pred2, target_names=['class 0', 'class 1']))"
   ]
  },
  {
   "cell_type": "markdown",
   "id": "29871f4d-3443-4c95-a3a5-752189d7de1b",
   "metadata": {},
   "source": [
    "<p>4. Прогнозування і висновки \n",
    "    <ul>\n",
    "        <li>Оберіть найкращу модель на основі метрик продуктивності</li>\n",
    "        <li>Зробіть прогноз на тестовій вибірці</li>\n",
    "        <li>Виведіть результати прогнозування</li>\n",
    "    </ul>.\n",
    "ня.</p>"
   ]
  },
  {
   "cell_type": "markdown",
   "id": "c936357a-ca0c-4f12-a969-9b9bce65e355",
   "metadata": {},
   "source": [
    "<p>Висновки:\n",
    "<ul>\n",
    "    <li>Точність моделі логістичної регресії виявилась найвищою - 0.9912, тому для даної задачі ця модель підходить найбільше</li>\n",
    "    <li>Рішення знайдені моделями дерево рішень та випадковий ліс виявились однаковими</li>\n",
    "    <li>Прогнози для порівняння моделей були зроблені на тестовій вибірці</li>\n",
    "</ul>\n",
    "</p>"
   ]
  },
  {
   "cell_type": "code",
   "execution_count": 21,
   "id": "dcc83d28-4cfa-42a1-a70f-b5c24980c20d",
   "metadata": {},
   "outputs": [
    {
     "data": {
      "text/plain": [
       "array([1, 0, 0, 1, 1, 0, 0, 0, 1, 1, 1, 0, 1, 0, 1, 0, 1, 1, 1, 0, 1, 1,\n",
       "       0, 1, 1, 1, 1, 1, 1, 0, 1, 1, 1, 1, 1, 1, 0, 1, 0, 1, 1, 0, 1, 1,\n",
       "       1, 1, 1, 1, 1, 1, 0, 0, 1, 1, 1, 1, 1, 0, 0, 1, 1, 0, 0, 1, 1, 1,\n",
       "       0, 0, 1, 1, 0, 0, 1, 0, 1, 1, 1, 0, 1, 1, 0, 1, 0, 0, 0, 0, 0, 0,\n",
       "       1, 1, 1, 1, 1, 1, 1, 1, 0, 0, 1, 0, 0, 1, 0, 0, 1, 1, 1, 0, 1, 1,\n",
       "       0, 1, 1, 0])"
      ]
     },
     "execution_count": 21,
     "metadata": {},
     "output_type": "execute_result"
    }
   ],
   "source": [
    "y_pred"
   ]
  },
  {
   "cell_type": "code",
   "execution_count": 22,
   "id": "bcb71322-5c76-4e87-af41-1a46b79fb714",
   "metadata": {},
   "outputs": [
    {
     "data": {
      "text/plain": [
       "array([1, 0, 0, 1, 1, 0, 0, 0, 0, 1, 1, 0, 1, 1, 1, 0, 1, 1, 1, 0, 1, 1,\n",
       "       0, 1, 1, 1, 1, 1, 1, 0, 1, 1, 1, 1, 1, 1, 0, 1, 0, 1, 1, 0, 1, 1,\n",
       "       1, 1, 1, 1, 1, 1, 0, 0, 1, 1, 1, 1, 1, 0, 0, 1, 1, 0, 0, 1, 1, 1,\n",
       "       0, 0, 1, 1, 0, 0, 1, 0, 1, 1, 1, 1, 1, 1, 0, 1, 1, 0, 0, 0, 0, 0,\n",
       "       1, 1, 1, 1, 1, 1, 1, 1, 0, 0, 1, 0, 0, 1, 0, 0, 1, 1, 1, 0, 1, 1,\n",
       "       0, 1, 1, 0])"
      ]
     },
     "execution_count": 22,
     "metadata": {},
     "output_type": "execute_result"
    }
   ],
   "source": [
    "y_pred1"
   ]
  },
  {
   "cell_type": "code",
   "execution_count": 23,
   "id": "f759bf28-2fae-4982-ae8a-281f9eed6db3",
   "metadata": {},
   "outputs": [
    {
     "data": {
      "text/plain": [
       "array([1, 0, 0, 1, 1, 0, 0, 0, 0, 1, 1, 0, 1, 0, 1, 0, 1, 1, 1, 0, 1, 1,\n",
       "       0, 1, 1, 1, 1, 1, 1, 0, 1, 1, 1, 1, 1, 1, 1, 1, 0, 1, 1, 0, 1, 1,\n",
       "       1, 1, 1, 1, 1, 1, 0, 0, 1, 1, 1, 1, 1, 0, 0, 1, 1, 0, 0, 1, 1, 1,\n",
       "       0, 0, 1, 1, 0, 0, 1, 0, 1, 1, 1, 1, 1, 1, 0, 1, 1, 0, 0, 0, 0, 0,\n",
       "       1, 1, 1, 1, 1, 1, 1, 1, 0, 0, 1, 0, 0, 1, 0, 0, 1, 1, 1, 0, 1, 1,\n",
       "       0, 1, 1, 0])"
      ]
     },
     "execution_count": 23,
     "metadata": {},
     "output_type": "execute_result"
    }
   ],
   "source": [
    "y_pred2"
   ]
  },
  {
   "cell_type": "markdown",
   "id": "4a13cd76-8c3d-4e2f-801f-95285c5e7207",
   "metadata": {},
   "source": [
    "<p></p>"
   ]
  },
  {
   "cell_type": "markdown",
   "id": "d2ff5ad6-599f-4561-b64d-6a090e741d36",
   "metadata": {},
   "source": [
    "<p></p>"
   ]
  },
  {
   "cell_type": "markdown",
   "id": "77bd221e-e1f0-438c-a08b-e8d13b34bc5f",
   "metadata": {},
   "source": [
    "### Завдання 2"
   ]
  },
  {
   "cell_type": "markdown",
   "id": "a80a3698-ca06-496b-b329-9119e44a0bcb",
   "metadata": {},
   "source": [
    "<p>Продовжуємо працювати з датасетом titanic.csv \r\n",
    "Завантажуємо, проводимо попередній аналіз даних (лр 2). \r\n",
    "Будуємо 3 класифікатори на вибір, визначаємо оптимальні параметри \r\n",
    "(оптимізатор – на вибір). Вибираємо найкращу модель. Виводимо \r\n",
    "характеристики, метрики. \r\n",
    "Робимо прогноз для 10 випадків.</p>"
   ]
  },
  {
   "cell_type": "code",
   "execution_count": 24,
   "id": "c8ad0275-c8bf-40ef-a137-f7292b8b42e0",
   "metadata": {},
   "outputs": [
    {
     "data": {
      "text/html": [
       "<div>\n",
       "<style scoped>\n",
       "    .dataframe tbody tr th:only-of-type {\n",
       "        vertical-align: middle;\n",
       "    }\n",
       "\n",
       "    .dataframe tbody tr th {\n",
       "        vertical-align: top;\n",
       "    }\n",
       "\n",
       "    .dataframe thead th {\n",
       "        text-align: right;\n",
       "    }\n",
       "</style>\n",
       "<table border=\"1\" class=\"dataframe\">\n",
       "  <thead>\n",
       "    <tr style=\"text-align: right;\">\n",
       "      <th></th>\n",
       "      <th>Survived</th>\n",
       "      <th>Pclass</th>\n",
       "      <th>Age</th>\n",
       "      <th>Fare</th>\n",
       "      <th>Sex_male</th>\n",
       "    </tr>\n",
       "  </thead>\n",
       "  <tbody>\n",
       "    <tr>\n",
       "      <th>0</th>\n",
       "      <td>0</td>\n",
       "      <td>3</td>\n",
       "      <td>34.5</td>\n",
       "      <td>7.8292</td>\n",
       "      <td>True</td>\n",
       "    </tr>\n",
       "    <tr>\n",
       "      <th>1</th>\n",
       "      <td>1</td>\n",
       "      <td>3</td>\n",
       "      <td>47.0</td>\n",
       "      <td>7.0000</td>\n",
       "      <td>False</td>\n",
       "    </tr>\n",
       "    <tr>\n",
       "      <th>2</th>\n",
       "      <td>0</td>\n",
       "      <td>2</td>\n",
       "      <td>62.0</td>\n",
       "      <td>9.6875</td>\n",
       "      <td>True</td>\n",
       "    </tr>\n",
       "    <tr>\n",
       "      <th>3</th>\n",
       "      <td>0</td>\n",
       "      <td>3</td>\n",
       "      <td>27.0</td>\n",
       "      <td>8.6625</td>\n",
       "      <td>True</td>\n",
       "    </tr>\n",
       "    <tr>\n",
       "      <th>4</th>\n",
       "      <td>1</td>\n",
       "      <td>3</td>\n",
       "      <td>22.0</td>\n",
       "      <td>12.2875</td>\n",
       "      <td>False</td>\n",
       "    </tr>\n",
       "  </tbody>\n",
       "</table>\n",
       "</div>"
      ],
      "text/plain": [
       "   Survived  Pclass   Age     Fare  Sex_male\n",
       "0         0       3  34.5   7.8292      True\n",
       "1         1       3  47.0   7.0000     False\n",
       "2         0       2  62.0   9.6875      True\n",
       "3         0       3  27.0   8.6625      True\n",
       "4         1       3  22.0  12.2875     False"
      ]
     },
     "execution_count": 24,
     "metadata": {},
     "output_type": "execute_result"
    }
   ],
   "source": [
    "data = pd.read_csv('titanic.csv')\n",
    "data = data.drop(['Cabin', 'Name'], axis=1)\n",
    "dataset = data[['Survived', 'Pclass', 'Sex', 'Age', 'Fare']]\n",
    "dataset = pd.get_dummies(dataset, columns=['Sex'], drop_first=True)\n",
    "dataset.head()"
   ]
  },
  {
   "cell_type": "code",
   "execution_count": 25,
   "id": "725bc836-259d-436f-a09b-22f1c41dd2e6",
   "metadata": {},
   "outputs": [
    {
     "data": {
      "text/plain": [
       "Survived    0\n",
       "Pclass      0\n",
       "Age         0\n",
       "Fare        0\n",
       "Sex_male    0\n",
       "dtype: int64"
      ]
     },
     "execution_count": 25,
     "metadata": {},
     "output_type": "execute_result"
    }
   ],
   "source": [
    "dataset = dataset.fillna({'Age': dataset['Age'].mean(), 'Fare': dataset['Fare'].mean()})\n",
    "dataset.isnull().sum()"
   ]
  },
  {
   "cell_type": "code",
   "execution_count": 26,
   "id": "768f8f49-b1e1-4ff5-a5be-8010b245f1b1",
   "metadata": {},
   "outputs": [
    {
     "data": {
      "text/html": [
       "<div>\n",
       "<style scoped>\n",
       "    .dataframe tbody tr th:only-of-type {\n",
       "        vertical-align: middle;\n",
       "    }\n",
       "\n",
       "    .dataframe tbody tr th {\n",
       "        vertical-align: top;\n",
       "    }\n",
       "\n",
       "    .dataframe thead th {\n",
       "        text-align: right;\n",
       "    }\n",
       "</style>\n",
       "<table border=\"1\" class=\"dataframe\">\n",
       "  <thead>\n",
       "    <tr style=\"text-align: right;\">\n",
       "      <th></th>\n",
       "      <th>Survived</th>\n",
       "      <th>Pclass</th>\n",
       "      <th>Age</th>\n",
       "      <th>Fare</th>\n",
       "      <th>Sex_male</th>\n",
       "    </tr>\n",
       "  </thead>\n",
       "  <tbody>\n",
       "    <tr>\n",
       "      <th>0</th>\n",
       "      <td>0</td>\n",
       "      <td>3</td>\n",
       "      <td>34.5</td>\n",
       "      <td>7.8292</td>\n",
       "      <td>0</td>\n",
       "    </tr>\n",
       "    <tr>\n",
       "      <th>1</th>\n",
       "      <td>1</td>\n",
       "      <td>3</td>\n",
       "      <td>47.0</td>\n",
       "      <td>7.0000</td>\n",
       "      <td>1</td>\n",
       "    </tr>\n",
       "    <tr>\n",
       "      <th>2</th>\n",
       "      <td>0</td>\n",
       "      <td>2</td>\n",
       "      <td>62.0</td>\n",
       "      <td>9.6875</td>\n",
       "      <td>0</td>\n",
       "    </tr>\n",
       "    <tr>\n",
       "      <th>3</th>\n",
       "      <td>0</td>\n",
       "      <td>3</td>\n",
       "      <td>27.0</td>\n",
       "      <td>8.6625</td>\n",
       "      <td>0</td>\n",
       "    </tr>\n",
       "    <tr>\n",
       "      <th>4</th>\n",
       "      <td>1</td>\n",
       "      <td>3</td>\n",
       "      <td>22.0</td>\n",
       "      <td>12.2875</td>\n",
       "      <td>1</td>\n",
       "    </tr>\n",
       "  </tbody>\n",
       "</table>\n",
       "</div>"
      ],
      "text/plain": [
       "   Survived  Pclass   Age     Fare Sex_male\n",
       "0         0       3  34.5   7.8292        0\n",
       "1         1       3  47.0   7.0000        1\n",
       "2         0       2  62.0   9.6875        0\n",
       "3         0       3  27.0   8.6625        0\n",
       "4         1       3  22.0  12.2875        1"
      ]
     },
     "execution_count": 26,
     "metadata": {},
     "output_type": "execute_result"
    }
   ],
   "source": [
    "pd.set_option('future.no_silent_downcasting', True)\n",
    "dataset = dataset.replace({'Sex_male': {True: 0, False: 1}})\n",
    "dataset.head()"
   ]
  },
  {
   "cell_type": "code",
   "execution_count": 27,
   "id": "a0a18aad-c9ae-4dec-9e96-515f387c2f20",
   "metadata": {},
   "outputs": [],
   "source": [
    "X = dataset.drop('Survived', axis=1)\n",
    "y = dataset['Survived']\n",
    "X_train, X_test, y_train, y_test = train_test_split(X, y, test_size=0.2, random_state=42)"
   ]
  },
  {
   "cell_type": "code",
   "execution_count": 28,
   "id": "7674da2f-8e28-42e9-8ca3-3749c9b0d4d8",
   "metadata": {},
   "outputs": [
    {
     "data": {
      "text/plain": [
       "Survived      int64\n",
       "Pclass        int64\n",
       "Age         float64\n",
       "Fare        float64\n",
       "Sex_male     object\n",
       "dtype: object"
      ]
     },
     "execution_count": 28,
     "metadata": {},
     "output_type": "execute_result"
    }
   ],
   "source": [
    "dataset.dtypes"
   ]
  },
  {
   "cell_type": "code",
   "execution_count": 29,
   "id": "6e31ae73-55a7-4416-8117-5e61e42afe82",
   "metadata": {},
   "outputs": [],
   "source": [
    "scaler = StandardScaler()\n",
    "X_train_scaled = scaler.fit_transform(X_train)\n",
    "X_test_scaled = scaler.transform(X_test)"
   ]
  },
  {
   "cell_type": "markdown",
   "id": "5346c771-450d-433b-a0d4-e656a2173740",
   "metadata": {},
   "source": [
    "<p>Перший класифікатор - Support Vector Machine</p>"
   ]
  },
  {
   "cell_type": "code",
   "execution_count": 38,
   "id": "abc59046-7ec3-4752-ab39-70edbef2e528",
   "metadata": {},
   "outputs": [],
   "source": [
    "parameters = {'kernel':('linear', 'rbf', 'sigmoid'), 'C':[1, 10]}\n",
    "\n",
    "svc = svm.SVC(probability=True, random_state=42)\n",
    "clf = GridSearchCV(svc, parameters)\n",
    "clf.fit(X_train_scaled, y_train)\n",
    "best_svc_model = clf.best_estimator_"
   ]
  },
  {
   "cell_type": "markdown",
   "id": "59ab4e78-9e89-4cbe-9a70-06d63010d524",
   "metadata": {},
   "source": [
    "<p>Другий класифікатор - Random Forest</p>"
   ]
  },
  {
   "cell_type": "code",
   "execution_count": 39,
   "id": "c40e8877-978b-4a0a-8ab1-b796eb9fdbe8",
   "metadata": {},
   "outputs": [],
   "source": [
    "parameters = {'max_depth':[2, 5, 10, 20], \n",
    "              'n_estimators':[20, 50, 100], \n",
    "              'criterion':('gini', 'entropy'), \n",
    "              'bootstrap':[True, False]}\n",
    "\n",
    "rf = RandomForestClassifier()\n",
    "clf1 = GridSearchCV(rf, parameters)\n",
    "clf1.fit(X_train_scaled, y_train)\n",
    "best_rf_model = clf1.best_estimator_"
   ]
  },
  {
   "cell_type": "markdown",
   "id": "a332385f-8e9e-4896-bbc4-d60d642c43a7",
   "metadata": {},
   "source": [
    "<p>Третій класифікатор - K Nearest Neighbours</p>"
   ]
  },
  {
   "cell_type": "code",
   "execution_count": 40,
   "id": "13c8d823-5f57-41bb-b8d3-adbd464886b0",
   "metadata": {},
   "outputs": [],
   "source": [
    "parameters = {'n_neighbors' : [3, 5, 10], \n",
    "              'weights':('uniform', 'distance'), \n",
    "             'algorithm':('auto', 'ball_tree', 'kd_tree', 'brute')}\n",
    "\n",
    "neigh = KNeighborsClassifier()\n",
    "clf2 = GridSearchCV(neigh, parameters)\n",
    "clf2.fit(X_train_scaled, y_train)\n",
    "best_neigh_model = clf2.best_estimator_"
   ]
  },
  {
   "cell_type": "markdown",
   "id": "bcc6e4ef-01f5-4f78-86de-6501b1d0867c",
   "metadata": {},
   "source": [
    "<p><b>Прогнозуємо значення для всіх трьох класифікаторів та порівнюємо метрики</b></p>"
   ]
  },
  {
   "cell_type": "code",
   "execution_count": 41,
   "id": "d06ea8e3-7d2f-461c-8c53-3d8e9740d5e6",
   "metadata": {},
   "outputs": [
    {
     "name": "stdout",
     "output_type": "stream",
     "text": [
      "\n",
      "Metrics for SVC model:\n",
      "\n",
      "Accuracy:1.0000\n",
      "Precision: 1.0000\n",
      "Recall: 1.0000\n",
      "[[50  0]\n",
      " [ 0 34]]\n"
     ]
    }
   ],
   "source": [
    "y_pred1 = best_svc_model.predict(X_test_scaled)\n",
    "\n",
    "print(f'\\nMetrics for SVC model:\\n')\n",
    "print(f'Accuracy:{accuracy_score(y_test, y_pred1):.4f}')\n",
    "print(f\"Precision: {precision_score(y_test, y_pred1):.4f}\")\n",
    "print(f\"Recall: {recall_score(y_test, y_pred1):.4f}\")\n",
    "print(confusion_matrix(y_test, y_pred1))"
   ]
  },
  {
   "cell_type": "code",
   "execution_count": 42,
   "id": "6ad0db50-7431-4708-9282-0f7225ebb402",
   "metadata": {},
   "outputs": [
    {
     "name": "stdout",
     "output_type": "stream",
     "text": [
      "\n",
      "Metrics for RandomForest model:\n",
      "\n",
      "Accuracy:1.0000\n",
      "Precision: 1.0000\n",
      "Recall: 1.0000\n",
      "[[50  0]\n",
      " [ 0 34]]\n"
     ]
    }
   ],
   "source": [
    "y_pred2 = best_rf_model.predict(X_test_scaled)\n",
    "\n",
    "print(f'\\nMetrics for RandomForest model:\\n')\n",
    "print(f'Accuracy:{accuracy_score(y_test, y_pred2):.4f}')\n",
    "print(f\"Precision: {precision_score(y_test, y_pred2):.4f}\")\n",
    "print(f\"Recall: {recall_score(y_test, y_pred2):.4f}\")\n",
    "print(confusion_matrix(y_test, y_pred2))"
   ]
  },
  {
   "cell_type": "code",
   "execution_count": 43,
   "id": "fdcbb6d9-abef-4ecb-841c-f4107e305b76",
   "metadata": {},
   "outputs": [
    {
     "name": "stdout",
     "output_type": "stream",
     "text": [
      "\n",
      "Metrics for RandomForest model:\n",
      "\n",
      "Accuracy:1.0000\n",
      "Precision: 1.0000\n",
      "Recall: 1.0000\n",
      "[[50  0]\n",
      " [ 0 34]]\n"
     ]
    }
   ],
   "source": [
    "y_pred3 = best_neigh_model.predict(X_test_scaled)\n",
    "\n",
    "print(f'\\nMetrics for RandomForest model:\\n')\n",
    "print(f'Accuracy:{accuracy_score(y_test, y_pred3):.4f}')\n",
    "print(f\"Precision: {precision_score(y_test, y_pred3):.4f}\")\n",
    "print(f\"Recall: {recall_score(y_test, y_pred3):.4f}\")\n",
    "print(confusion_matrix(y_test, y_pred3))"
   ]
  },
  {
   "cell_type": "markdown",
   "id": "93becef6-257b-4682-a871-33ee9806aef1",
   "metadata": {},
   "source": [
    "<p>Основні метрики трьох класифікаторів для даної задачі виявились однаковими, тому для прогнозування 10 випадків можна обрати будь яку модель. Обираєм SVC</p>"
   ]
  },
  {
   "cell_type": "code",
   "execution_count": 44,
   "id": "bb25182d-80ea-4efb-a08f-4d337f3d126b",
   "metadata": {},
   "outputs": [],
   "source": [
    "sample_10 = X_test_scaled[:10]\n",
    "predictions = best_svc_model.predict(sample_10)\n",
    "probabilities = best_svc_model.predict_proba(sample_10)[:, 1]"
   ]
  },
  {
   "cell_type": "code",
   "execution_count": 45,
   "id": "81328b00-8d8e-4159-ae8f-ad6429ddf201",
   "metadata": {},
   "outputs": [
    {
     "name": "stdout",
     "output_type": "stream",
     "text": [
      "\n",
      "Прогноз для 10 випадків:\n",
      "Випадок 1: Прогноз - Не вижив, Ймовірність виживання - 0.0046\n",
      "Випадок 2: Прогноз - Вижив, Ймовірність виживання - 0.9917\n",
      "Випадок 3: Прогноз - Не вижив, Ймовірність виживання - 0.0046\n",
      "Випадок 4: Прогноз - Не вижив, Ймовірність виживання - 0.0046\n",
      "Випадок 5: Прогноз - Вижив, Ймовірність виживання - 0.9917\n",
      "Випадок 6: Прогноз - Не вижив, Ймовірність виживання - 0.0046\n",
      "Випадок 7: Прогноз - Вижив, Ймовірність виживання - 0.9917\n",
      "Випадок 8: Прогноз - Не вижив, Ймовірність виживання - 0.0046\n",
      "Випадок 9: Прогноз - Вижив, Ймовірність виживання - 0.9917\n",
      "Випадок 10: Прогноз - Не вижив, Ймовірність виживання - 0.0046\n"
     ]
    }
   ],
   "source": [
    "print(\"\\nПрогноз для 10 випадків:\")\n",
    "for i, (pred, prob) in enumerate(zip(predictions, probabilities)):\n",
    "    print(f\"Випадок {i+1}: Прогноз - {'Вижив' if pred == 1 else 'Не вижив'}, Ймовірність виживання - {prob:.4f}\")"
   ]
  },
  {
   "cell_type": "code",
   "execution_count": null,
   "id": "0547a157-f85d-408f-b3c6-5a4d2f533f63",
   "metadata": {},
   "outputs": [],
   "source": []
  }
 ],
 "metadata": {
  "kernelspec": {
   "display_name": "Python 3 (ipykernel)",
   "language": "python",
   "name": "python3"
  },
  "language_info": {
   "codemirror_mode": {
    "name": "ipython",
    "version": 3
   },
   "file_extension": ".py",
   "mimetype": "text/x-python",
   "name": "python",
   "nbconvert_exporter": "python",
   "pygments_lexer": "ipython3",
   "version": "3.12.0"
  }
 },
 "nbformat": 4,
 "nbformat_minor": 5
}
