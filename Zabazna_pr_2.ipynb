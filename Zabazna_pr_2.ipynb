{
 "cells": [
  {
   "cell_type": "markdown",
   "id": "70dcafc0-d712-45ba-94e5-dbd30fb52db7",
   "metadata": {},
   "source": [
    "## Лабораторна 2"
   ]
  },
  {
   "cell_type": "markdown",
   "id": "c205c52b-5340-4095-a50c-4617c024b637",
   "metadata": {},
   "source": [
    "### Завдання 1"
   ]
  },
  {
   "cell_type": "markdown",
   "id": "0b169072-6843-4aad-931a-3f0fd1f7f699",
   "metadata": {},
   "source": [
    "<p>Зчитати датасет ВВП за країнами з Вікіпедії</p>"
   ]
  },
  {
   "cell_type": "code",
   "execution_count": 1,
   "id": "f9aa3b79-6d96-4667-84de-e2f873c31a32",
   "metadata": {},
   "outputs": [],
   "source": [
    "import pandas as pd\n",
    "import numpy as np\n",
    "import matplotlib.pyplot as plt"
   ]
  },
  {
   "cell_type": "code",
   "execution_count": 2,
   "id": "1b1a5512-9f42-4349-9504-e09518d1cebb",
   "metadata": {},
   "outputs": [],
   "source": [
    "url = 'https://en.wikipedia.org/wiki/List_of_countries_by_GDP_(nominal)'\n",
    "tables = pd.read_html(url)\n",
    "df = tables[2]"
   ]
  },
  {
   "cell_type": "markdown",
   "id": "c02c5aee-bf0d-44c3-bb96-626ca0d0b04e",
   "metadata": {},
   "source": [
    "<p>1. Вивести перші 5 рядків</p>"
   ]
  },
  {
   "cell_type": "code",
   "execution_count": 3,
   "id": "1112808d-8333-4bbb-a376-ce8438e2edf7",
   "metadata": {},
   "outputs": [
    {
     "data": {
      "text/html": [
       "<div>\n",
       "<style scoped>\n",
       "    .dataframe tbody tr th:only-of-type {\n",
       "        vertical-align: middle;\n",
       "    }\n",
       "\n",
       "    .dataframe tbody tr th {\n",
       "        vertical-align: top;\n",
       "    }\n",
       "\n",
       "    .dataframe thead tr th {\n",
       "        text-align: left;\n",
       "    }\n",
       "</style>\n",
       "<table border=\"1\" class=\"dataframe\">\n",
       "  <thead>\n",
       "    <tr>\n",
       "      <th></th>\n",
       "      <th>Country/Territory</th>\n",
       "      <th colspan=\"2\" halign=\"left\">IMF[1][13]</th>\n",
       "      <th colspan=\"2\" halign=\"left\">World Bank[14]</th>\n",
       "      <th colspan=\"2\" halign=\"left\">United Nations[15]</th>\n",
       "    </tr>\n",
       "    <tr>\n",
       "      <th></th>\n",
       "      <th>Country/Territory</th>\n",
       "      <th>Forecast</th>\n",
       "      <th>Year</th>\n",
       "      <th>Estimate</th>\n",
       "      <th>Year</th>\n",
       "      <th>Estimate</th>\n",
       "      <th>Year</th>\n",
       "    </tr>\n",
       "  </thead>\n",
       "  <tbody>\n",
       "    <tr>\n",
       "      <th>0</th>\n",
       "      <td>World</td>\n",
       "      <td>109529216</td>\n",
       "      <td>2024</td>\n",
       "      <td>105435540</td>\n",
       "      <td>2023</td>\n",
       "      <td>100834796</td>\n",
       "      <td>2022</td>\n",
       "    </tr>\n",
       "    <tr>\n",
       "      <th>1</th>\n",
       "      <td>United States</td>\n",
       "      <td>28781083</td>\n",
       "      <td>2024</td>\n",
       "      <td>27360935</td>\n",
       "      <td>2023</td>\n",
       "      <td>25744100</td>\n",
       "      <td>2022</td>\n",
       "    </tr>\n",
       "    <tr>\n",
       "      <th>2</th>\n",
       "      <td>China</td>\n",
       "      <td>18532633</td>\n",
       "      <td>[n 1]2024</td>\n",
       "      <td>17794782</td>\n",
       "      <td>[n 3]2023</td>\n",
       "      <td>17963170</td>\n",
       "      <td>[n 1]2022</td>\n",
       "    </tr>\n",
       "    <tr>\n",
       "      <th>3</th>\n",
       "      <td>Germany</td>\n",
       "      <td>4591100</td>\n",
       "      <td>2024</td>\n",
       "      <td>4456081</td>\n",
       "      <td>2023</td>\n",
       "      <td>4076923</td>\n",
       "      <td>2022</td>\n",
       "    </tr>\n",
       "    <tr>\n",
       "      <th>4</th>\n",
       "      <td>Japan</td>\n",
       "      <td>4110452</td>\n",
       "      <td>2024</td>\n",
       "      <td>4212945</td>\n",
       "      <td>2023</td>\n",
       "      <td>4232173</td>\n",
       "      <td>2022</td>\n",
       "    </tr>\n",
       "  </tbody>\n",
       "</table>\n",
       "</div>"
      ],
      "text/plain": [
       "  Country/Territory IMF[1][13]            World Bank[14]             \\\n",
       "  Country/Territory   Forecast       Year       Estimate       Year   \n",
       "0             World  109529216       2024      105435540       2023   \n",
       "1     United States   28781083       2024       27360935       2023   \n",
       "2             China   18532633  [n 1]2024       17794782  [n 3]2023   \n",
       "3           Germany    4591100       2024        4456081       2023   \n",
       "4             Japan    4110452       2024        4212945       2023   \n",
       "\n",
       "  United Nations[15]             \n",
       "            Estimate       Year  \n",
       "0          100834796       2022  \n",
       "1           25744100       2022  \n",
       "2           17963170  [n 1]2022  \n",
       "3            4076923       2022  \n",
       "4            4232173       2022  "
      ]
     },
     "execution_count": 3,
     "metadata": {},
     "output_type": "execute_result"
    }
   ],
   "source": [
    "df.head(5)"
   ]
  },
  {
   "cell_type": "markdown",
   "id": "0fd41a37-07d2-45e2-bba4-640e9f87e0b3",
   "metadata": {},
   "source": [
    "<p>2. Визначити розмір датасета</p>"
   ]
  },
  {
   "cell_type": "code",
   "execution_count": 4,
   "id": "7b7251c4-acfd-42cc-b4e0-b5a23dfddb77",
   "metadata": {},
   "outputs": [
    {
     "data": {
      "text/plain": [
       "(210, 7)"
      ]
     },
     "execution_count": 4,
     "metadata": {},
     "output_type": "execute_result"
    }
   ],
   "source": [
    "df.shape"
   ]
  },
  {
   "cell_type": "markdown",
   "id": "2177a76e-9ad2-4a33-843c-76bb6de2d5bd",
   "metadata": {},
   "source": [
    "<p>3. Визначити кількість стовпців</p>"
   ]
  },
  {
   "cell_type": "code",
   "execution_count": 5,
   "id": "b18477e3-3247-4359-a87f-d91f14b7b126",
   "metadata": {},
   "outputs": [
    {
     "data": {
      "text/plain": [
       "7"
      ]
     },
     "execution_count": 5,
     "metadata": {},
     "output_type": "execute_result"
    }
   ],
   "source": [
    "len(df.columns)"
   ]
  },
  {
   "cell_type": "markdown",
   "id": "6f9a0574-70ea-4b98-a5e1-5ac674f8642d",
   "metadata": {},
   "source": [
    "<p>4. Змінити назви стовпців на більш зручні</p>"
   ]
  },
  {
   "cell_type": "code",
   "execution_count": 6,
   "id": "3342ef87-e458-4987-a8e7-dd7eb5806893",
   "metadata": {},
   "outputs": [
    {
     "data": {
      "text/plain": [
       "MultiIndex([( 'Country/Territory', 'Country/Territory'),\n",
       "            (        'IMF[1][13]',          'Forecast'),\n",
       "            (        'IMF[1][13]',              'Year'),\n",
       "            (    'World Bank[14]',          'Estimate'),\n",
       "            (    'World Bank[14]',              'Year'),\n",
       "            ('United Nations[15]',          'Estimate'),\n",
       "            ('United Nations[15]',              'Year')],\n",
       "           )"
      ]
     },
     "execution_count": 6,
     "metadata": {},
     "output_type": "execute_result"
    }
   ],
   "source": [
    "df.columns"
   ]
  },
  {
   "cell_type": "code",
   "execution_count": 7,
   "id": "cb19ea3d-c32f-4cdb-9c78-8f613b923d83",
   "metadata": {},
   "outputs": [],
   "source": [
    "normal_columns = [\n",
    "    ('Country'),\n",
    "    ('IMF_Forecast'),\n",
    "    ('IMF_Year'),\n",
    "    ('World_Bank_Estimate'), \n",
    "    ('World_Bank_Year'),\n",
    "    ('United_Nations_Estimate'),\n",
    "    ('United_Nations_Year')]\n",
    "\n",
    "df.columns = normal_columns"
   ]
  },
  {
   "cell_type": "code",
   "execution_count": 8,
   "id": "5e30a424-ae1d-4a58-85c3-5869bb29e3d3",
   "metadata": {},
   "outputs": [
    {
     "data": {
      "text/html": [
       "<div>\n",
       "<style scoped>\n",
       "    .dataframe tbody tr th:only-of-type {\n",
       "        vertical-align: middle;\n",
       "    }\n",
       "\n",
       "    .dataframe tbody tr th {\n",
       "        vertical-align: top;\n",
       "    }\n",
       "\n",
       "    .dataframe thead th {\n",
       "        text-align: right;\n",
       "    }\n",
       "</style>\n",
       "<table border=\"1\" class=\"dataframe\">\n",
       "  <thead>\n",
       "    <tr style=\"text-align: right;\">\n",
       "      <th></th>\n",
       "      <th>Country</th>\n",
       "      <th>IMF_Forecast</th>\n",
       "      <th>IMF_Year</th>\n",
       "      <th>World_Bank_Estimate</th>\n",
       "      <th>World_Bank_Year</th>\n",
       "      <th>United_Nations_Estimate</th>\n",
       "      <th>United_Nations_Year</th>\n",
       "    </tr>\n",
       "  </thead>\n",
       "  <tbody>\n",
       "    <tr>\n",
       "      <th>0</th>\n",
       "      <td>World</td>\n",
       "      <td>109529216</td>\n",
       "      <td>2024</td>\n",
       "      <td>105435540</td>\n",
       "      <td>2023</td>\n",
       "      <td>100834796</td>\n",
       "      <td>2022</td>\n",
       "    </tr>\n",
       "    <tr>\n",
       "      <th>1</th>\n",
       "      <td>United States</td>\n",
       "      <td>28781083</td>\n",
       "      <td>2024</td>\n",
       "      <td>27360935</td>\n",
       "      <td>2023</td>\n",
       "      <td>25744100</td>\n",
       "      <td>2022</td>\n",
       "    </tr>\n",
       "    <tr>\n",
       "      <th>2</th>\n",
       "      <td>China</td>\n",
       "      <td>18532633</td>\n",
       "      <td>[n 1]2024</td>\n",
       "      <td>17794782</td>\n",
       "      <td>[n 3]2023</td>\n",
       "      <td>17963170</td>\n",
       "      <td>[n 1]2022</td>\n",
       "    </tr>\n",
       "    <tr>\n",
       "      <th>3</th>\n",
       "      <td>Germany</td>\n",
       "      <td>4591100</td>\n",
       "      <td>2024</td>\n",
       "      <td>4456081</td>\n",
       "      <td>2023</td>\n",
       "      <td>4076923</td>\n",
       "      <td>2022</td>\n",
       "    </tr>\n",
       "    <tr>\n",
       "      <th>4</th>\n",
       "      <td>Japan</td>\n",
       "      <td>4110452</td>\n",
       "      <td>2024</td>\n",
       "      <td>4212945</td>\n",
       "      <td>2023</td>\n",
       "      <td>4232173</td>\n",
       "      <td>2022</td>\n",
       "    </tr>\n",
       "  </tbody>\n",
       "</table>\n",
       "</div>"
      ],
      "text/plain": [
       "         Country IMF_Forecast   IMF_Year World_Bank_Estimate World_Bank_Year  \\\n",
       "0          World    109529216       2024           105435540            2023   \n",
       "1  United States     28781083       2024            27360935            2023   \n",
       "2          China     18532633  [n 1]2024            17794782       [n 3]2023   \n",
       "3        Germany      4591100       2024             4456081            2023   \n",
       "4          Japan      4110452       2024             4212945            2023   \n",
       "\n",
       "  United_Nations_Estimate United_Nations_Year  \n",
       "0               100834796                2022  \n",
       "1                25744100                2022  \n",
       "2                17963170           [n 1]2022  \n",
       "3                 4076923                2022  \n",
       "4                 4232173                2022  "
      ]
     },
     "execution_count": 8,
     "metadata": {},
     "output_type": "execute_result"
    }
   ],
   "source": [
    "df.head()"
   ]
  },
  {
   "cell_type": "markdown",
   "id": "cf7a7912-f278-4f9b-b75a-a0667d63d86f",
   "metadata": {},
   "source": [
    "<p>5. Визначити тип даних</p>"
   ]
  },
  {
   "cell_type": "code",
   "execution_count": 9,
   "id": "c5d3dd65-1651-4be2-ac1f-7cc78a4e15cc",
   "metadata": {
    "scrolled": true
   },
   "outputs": [
    {
     "data": {
      "text/plain": [
       "Country                    object\n",
       "IMF_Forecast               object\n",
       "IMF_Year                   object\n",
       "World_Bank_Estimate        object\n",
       "World_Bank_Year            object\n",
       "United_Nations_Estimate    object\n",
       "United_Nations_Year        object\n",
       "dtype: object"
      ]
     },
     "execution_count": 9,
     "metadata": {},
     "output_type": "execute_result"
    }
   ],
   "source": [
    "df.dtypes"
   ]
  },
  {
   "cell_type": "markdown",
   "id": "2c7c14d1-12cd-4bf9-977b-d4eb699689ae",
   "metadata": {},
   "source": [
    "<p>Прибираємо посилання на джерела всередині датафрейма</p>"
   ]
  },
  {
   "cell_type": "code",
   "execution_count": 10,
   "id": "73503289-96c8-4880-8e28-3320da8670d5",
   "metadata": {
    "scrolled": true
   },
   "outputs": [
    {
     "data": {
      "text/html": [
       "<div>\n",
       "<style scoped>\n",
       "    .dataframe tbody tr th:only-of-type {\n",
       "        vertical-align: middle;\n",
       "    }\n",
       "\n",
       "    .dataframe tbody tr th {\n",
       "        vertical-align: top;\n",
       "    }\n",
       "\n",
       "    .dataframe thead th {\n",
       "        text-align: right;\n",
       "    }\n",
       "</style>\n",
       "<table border=\"1\" class=\"dataframe\">\n",
       "  <thead>\n",
       "    <tr style=\"text-align: right;\">\n",
       "      <th></th>\n",
       "      <th>Country</th>\n",
       "      <th>IMF_Forecast</th>\n",
       "      <th>IMF_Year</th>\n",
       "      <th>World_Bank_Estimate</th>\n",
       "      <th>World_Bank_Year</th>\n",
       "      <th>United_Nations_Estimate</th>\n",
       "      <th>United_Nations_Year</th>\n",
       "    </tr>\n",
       "  </thead>\n",
       "  <tbody>\n",
       "    <tr>\n",
       "      <th>0</th>\n",
       "      <td>World</td>\n",
       "      <td>109529216</td>\n",
       "      <td>2024</td>\n",
       "      <td>105435540</td>\n",
       "      <td>2023</td>\n",
       "      <td>100834796</td>\n",
       "      <td>2022</td>\n",
       "    </tr>\n",
       "    <tr>\n",
       "      <th>1</th>\n",
       "      <td>United States</td>\n",
       "      <td>28781083</td>\n",
       "      <td>2024</td>\n",
       "      <td>27360935</td>\n",
       "      <td>2023</td>\n",
       "      <td>25744100</td>\n",
       "      <td>2022</td>\n",
       "    </tr>\n",
       "    <tr>\n",
       "      <th>2</th>\n",
       "      <td>China</td>\n",
       "      <td>18532633</td>\n",
       "      <td>2024</td>\n",
       "      <td>17794782</td>\n",
       "      <td>2023</td>\n",
       "      <td>17963170</td>\n",
       "      <td>2022</td>\n",
       "    </tr>\n",
       "    <tr>\n",
       "      <th>3</th>\n",
       "      <td>Germany</td>\n",
       "      <td>4591100</td>\n",
       "      <td>2024</td>\n",
       "      <td>4456081</td>\n",
       "      <td>2023</td>\n",
       "      <td>4076923</td>\n",
       "      <td>2022</td>\n",
       "    </tr>\n",
       "    <tr>\n",
       "      <th>4</th>\n",
       "      <td>Japan</td>\n",
       "      <td>4110452</td>\n",
       "      <td>2024</td>\n",
       "      <td>4212945</td>\n",
       "      <td>2023</td>\n",
       "      <td>4232173</td>\n",
       "      <td>2022</td>\n",
       "    </tr>\n",
       "  </tbody>\n",
       "</table>\n",
       "</div>"
      ],
      "text/plain": [
       "         Country IMF_Forecast IMF_Year World_Bank_Estimate World_Bank_Year  \\\n",
       "0          World    109529216     2024           105435540            2023   \n",
       "1  United States     28781083     2024            27360935            2023   \n",
       "2          China     18532633     2024            17794782            2023   \n",
       "3        Germany      4591100     2024             4456081            2023   \n",
       "4          Japan      4110452     2024             4212945            2023   \n",
       "\n",
       "  United_Nations_Estimate United_Nations_Year  \n",
       "0               100834796                2022  \n",
       "1                25744100                2022  \n",
       "2                17963170                2022  \n",
       "3                 4076923                2022  \n",
       "4                 4232173                2022  "
      ]
     },
     "execution_count": 10,
     "metadata": {},
     "output_type": "execute_result"
    }
   ],
   "source": [
    "df = df.replace(to_replace=r'\\[.*?\\]', value='', regex=True)\n",
    "df.head()"
   ]
  },
  {
   "cell_type": "markdown",
   "id": "9dbccaff-39ae-4912-a0b7-71be2695dc26",
   "metadata": {},
   "source": [
    "<p>Знаходимо унікальні значення стовпців, для того щоб потім почистити датафрейм та залишити в ньому дані тільки за певні відомі роки</p>"
   ]
  },
  {
   "cell_type": "code",
   "execution_count": 11,
   "id": "73b9a647-6e6d-45c7-a1e1-6d6b0472e30d",
   "metadata": {},
   "outputs": [
    {
     "name": "stdout",
     "output_type": "stream",
     "text": [
      "['2024' '2023' '—' '2022']\n",
      "['2023' '—' '2022' '2021']\n",
      "['2022' '—']\n"
     ]
    }
   ],
   "source": [
    "print(df['IMF_Year'].unique())\n",
    "print(df['World_Bank_Year'].unique())\n",
    "print(df['United_Nations_Year'].unique())"
   ]
  },
  {
   "cell_type": "code",
   "execution_count": 12,
   "id": "32c279d2-208f-4d17-a82f-9714ad4ac621",
   "metadata": {},
   "outputs": [],
   "source": [
    "df = df.drop(df[df['IMF_Year'].isin(['2022', '2023', '—'])].index)\n",
    "df = df.drop(df[df['World_Bank_Year'].isin(['2022', '2021', '—'])].index)\n",
    "df = df.drop(df[df['United_Nations_Year'].isin(['—'])].index)"
   ]
  },
  {
   "cell_type": "code",
   "execution_count": 13,
   "id": "7f42f02c-8340-455a-b5ce-9db1c6ed90f2",
   "metadata": {},
   "outputs": [
    {
     "name": "stdout",
     "output_type": "stream",
     "text": [
      "['2024']\n",
      "['2023']\n",
      "['2022']\n"
     ]
    }
   ],
   "source": [
    "print(df['IMF_Year'].unique())\n",
    "print(df['World_Bank_Year'].unique())\n",
    "print(df['United_Nations_Year'].unique())"
   ]
  },
  {
   "cell_type": "markdown",
   "id": "d037df8b-b4c3-424c-b1f2-442f9d6d5964",
   "metadata": {},
   "source": [
    "<p>Тепер ми маємо в датасеті стовпці дані тільки за певними роками в одному стовпці</p>"
   ]
  },
  {
   "cell_type": "markdown",
   "id": "a9b0d850-6a0a-49a2-8f8a-e5e33cb16f67",
   "metadata": {},
   "source": [
    "<p>6. Замініть у таблиці значення \"—\" на значення NaN. Перевірити \r\n",
    "наявність пропущених значень. При наявності, замінити пропущені \r\n",
    "значення на середнє значення.  </p>"
   ]
  },
  {
   "cell_type": "code",
   "execution_count": 14,
   "id": "fbf35818-599d-4e70-b4c9-cb16b005fae1",
   "metadata": {},
   "outputs": [],
   "source": [
    "df.replace(\"—\", np.nan, inplace=True)"
   ]
  },
  {
   "cell_type": "code",
   "execution_count": 15,
   "id": "037f43c7-507e-4cde-9cc4-dec0d417ed36",
   "metadata": {},
   "outputs": [
    {
     "data": {
      "text/plain": [
       "Country                    0\n",
       "IMF_Forecast               0\n",
       "IMF_Year                   0\n",
       "World_Bank_Estimate        0\n",
       "World_Bank_Year            0\n",
       "United_Nations_Estimate    0\n",
       "United_Nations_Year        0\n",
       "dtype: int64"
      ]
     },
     "execution_count": 15,
     "metadata": {},
     "output_type": "execute_result"
    }
   ],
   "source": [
    "df.isnull().sum()"
   ]
  },
  {
   "cell_type": "code",
   "execution_count": 16,
   "id": "31c01093-b801-4818-9dfe-2d4cb6d30ed9",
   "metadata": {},
   "outputs": [],
   "source": [
    "columns_to_convert = df.columns.drop('Country')\n",
    "df[columns_to_convert] = df[columns_to_convert].apply(pd.to_numeric, errors='coerce')\n",
    "df[columns_to_convert] = df[columns_to_convert].fillna(df[columns_to_convert].mean())\n",
    "df[columns_to_convert] = df[columns_to_convert].astype(int)"
   ]
  },
  {
   "cell_type": "markdown",
   "id": "e84fdea1-0851-40cd-8a92-4db7e51daa8a",
   "metadata": {},
   "source": [
    "<p>7. Ще раз перевірити наявність пропущених значень.</p>"
   ]
  },
  {
   "cell_type": "code",
   "execution_count": 17,
   "id": "71c8a40a-f9fa-4e5c-b865-febdad0b99a4",
   "metadata": {},
   "outputs": [
    {
     "data": {
      "text/plain": [
       "Country                    0\n",
       "IMF_Forecast               0\n",
       "IMF_Year                   0\n",
       "World_Bank_Estimate        0\n",
       "World_Bank_Year            0\n",
       "United_Nations_Estimate    0\n",
       "United_Nations_Year        0\n",
       "dtype: int64"
      ]
     },
     "execution_count": 17,
     "metadata": {},
     "output_type": "execute_result"
    }
   ],
   "source": [
    "df.isnull().sum()"
   ]
  },
  {
   "cell_type": "code",
   "execution_count": 18,
   "id": "18e49673-ace0-485d-9475-a329e00abc93",
   "metadata": {},
   "outputs": [
    {
     "data": {
      "text/plain": [
       "Country                    object\n",
       "IMF_Forecast                int32\n",
       "IMF_Year                    int32\n",
       "World_Bank_Estimate         int32\n",
       "World_Bank_Year             int32\n",
       "United_Nations_Estimate     int32\n",
       "United_Nations_Year         int32\n",
       "dtype: object"
      ]
     },
     "execution_count": 18,
     "metadata": {},
     "output_type": "execute_result"
    }
   ],
   "source": [
    "df.dtypes"
   ]
  },
  {
   "cell_type": "markdown",
   "id": "1f2368e7-33f6-4abf-8183-e78dd6e6bb19",
   "metadata": {},
   "source": [
    "<p>8. Перевірити наявність дублікатів. При наявності видалити дублікати</p>"
   ]
  },
  {
   "cell_type": "code",
   "execution_count": 19,
   "id": "ab3b1e06-5441-4a50-9162-f26cf48de0df",
   "metadata": {},
   "outputs": [
    {
     "data": {
      "text/plain": [
       "0"
      ]
     },
     "execution_count": 19,
     "metadata": {},
     "output_type": "execute_result"
    }
   ],
   "source": [
    "df.duplicated().sum()"
   ]
  },
  {
   "cell_type": "markdown",
   "id": "890f125a-9d3e-47ff-8892-a1c668e4ddbe",
   "metadata": {},
   "source": [
    "<p>Дублікатів не виявлено</p>"
   ]
  },
  {
   "cell_type": "markdown",
   "id": "3a640c8b-53b1-4b8f-93ad-89d62e97fbdb",
   "metadata": {},
   "source": [
    "<p>9. Вивести описову статистику датасету describe()</p>"
   ]
  },
  {
   "cell_type": "code",
   "execution_count": 20,
   "id": "825e3498-d246-4d2e-b3c0-c675e7244335",
   "metadata": {},
   "outputs": [
    {
     "data": {
      "text/html": [
       "<div>\n",
       "<style scoped>\n",
       "    .dataframe tbody tr th:only-of-type {\n",
       "        vertical-align: middle;\n",
       "    }\n",
       "\n",
       "    .dataframe tbody tr th {\n",
       "        vertical-align: top;\n",
       "    }\n",
       "\n",
       "    .dataframe thead th {\n",
       "        text-align: right;\n",
       "    }\n",
       "</style>\n",
       "<table border=\"1\" class=\"dataframe\">\n",
       "  <thead>\n",
       "    <tr style=\"text-align: right;\">\n",
       "      <th></th>\n",
       "      <th>IMF_Forecast</th>\n",
       "      <th>IMF_Year</th>\n",
       "      <th>World_Bank_Estimate</th>\n",
       "      <th>World_Bank_Year</th>\n",
       "      <th>United_Nations_Estimate</th>\n",
       "      <th>United_Nations_Year</th>\n",
       "    </tr>\n",
       "  </thead>\n",
       "  <tbody>\n",
       "    <tr>\n",
       "      <th>count</th>\n",
       "      <td>180.00</td>\n",
       "      <td>180.00</td>\n",
       "      <td>180.00</td>\n",
       "      <td>180.00</td>\n",
       "      <td>180.00</td>\n",
       "      <td>180.00</td>\n",
       "    </tr>\n",
       "    <tr>\n",
       "      <th>mean</th>\n",
       "      <td>1207480.72</td>\n",
       "      <td>2024.00</td>\n",
       "      <td>1159462.52</td>\n",
       "      <td>2023.00</td>\n",
       "      <td>1109818.12</td>\n",
       "      <td>2022.00</td>\n",
       "    </tr>\n",
       "    <tr>\n",
       "      <th>std</th>\n",
       "      <td>8531494.42</td>\n",
       "      <td>0.00</td>\n",
       "      <td>8206001.55</td>\n",
       "      <td>0.00</td>\n",
       "      <td>7851453.47</td>\n",
       "      <td>0.00</td>\n",
       "    </tr>\n",
       "    <tr>\n",
       "      <th>min</th>\n",
       "      <td>66.00</td>\n",
       "      <td>2024.00</td>\n",
       "      <td>62.00</td>\n",
       "      <td>2023.00</td>\n",
       "      <td>59.00</td>\n",
       "      <td>2022.00</td>\n",
       "    </tr>\n",
       "    <tr>\n",
       "      <th>25%</th>\n",
       "      <td>13675.50</td>\n",
       "      <td>2024.00</td>\n",
       "      <td>14060.00</td>\n",
       "      <td>2023.00</td>\n",
       "      <td>12824.50</td>\n",
       "      <td>2022.00</td>\n",
       "    </tr>\n",
       "    <tr>\n",
       "      <th>50%</th>\n",
       "      <td>51269.50</td>\n",
       "      <td>2024.00</td>\n",
       "      <td>48238.00</td>\n",
       "      <td>2023.00</td>\n",
       "      <td>44174.50</td>\n",
       "      <td>2022.00</td>\n",
       "    </tr>\n",
       "    <tr>\n",
       "      <th>75%</th>\n",
       "      <td>312511.25</td>\n",
       "      <td>2024.00</td>\n",
       "      <td>332026.75</td>\n",
       "      <td>2023.00</td>\n",
       "      <td>293066.75</td>\n",
       "      <td>2022.00</td>\n",
       "    </tr>\n",
       "    <tr>\n",
       "      <th>max</th>\n",
       "      <td>109529216.00</td>\n",
       "      <td>2024.00</td>\n",
       "      <td>105435540.00</td>\n",
       "      <td>2023.00</td>\n",
       "      <td>100834796.00</td>\n",
       "      <td>2022.00</td>\n",
       "    </tr>\n",
       "  </tbody>\n",
       "</table>\n",
       "</div>"
      ],
      "text/plain": [
       "       IMF_Forecast  IMF_Year  World_Bank_Estimate  World_Bank_Year  \\\n",
       "count        180.00    180.00               180.00           180.00   \n",
       "mean     1207480.72   2024.00           1159462.52          2023.00   \n",
       "std      8531494.42      0.00           8206001.55             0.00   \n",
       "min           66.00   2024.00                62.00          2023.00   \n",
       "25%        13675.50   2024.00             14060.00          2023.00   \n",
       "50%        51269.50   2024.00             48238.00          2023.00   \n",
       "75%       312511.25   2024.00            332026.75          2023.00   \n",
       "max    109529216.00   2024.00         105435540.00          2023.00   \n",
       "\n",
       "       United_Nations_Estimate  United_Nations_Year  \n",
       "count                   180.00               180.00  \n",
       "mean                1109818.12              2022.00  \n",
       "std                 7851453.47                 0.00  \n",
       "min                      59.00              2022.00  \n",
       "25%                   12824.50              2022.00  \n",
       "50%                   44174.50              2022.00  \n",
       "75%                  293066.75              2022.00  \n",
       "max               100834796.00              2022.00  "
      ]
     },
     "execution_count": 20,
     "metadata": {},
     "output_type": "execute_result"
    }
   ],
   "source": [
    "pd.options.display.float_format = '{:.2f}'.format\n",
    "df.describe()"
   ]
  },
  {
   "cell_type": "markdown",
   "id": "6e9eef68-c74c-4a00-a2fb-22ab0f170a16",
   "metadata": {},
   "source": [
    "<p>10.  Визначте відхилення (різницю) між показниками MVF_2024 та \r\n",
    "WorldBank_2023 для кожної країни. У яких країнах ці показники \r\n",
    "найбільше відрізняються (дати відповьдт)? </p>"
   ]
  },
  {
   "cell_type": "code",
   "execution_count": 21,
   "id": "8d1b4535-4cb5-4634-a2b6-4119daf4cee5",
   "metadata": {},
   "outputs": [],
   "source": [
    "df['Difference'] = df['World_Bank_Estimate'] - df['United_Nations_Estimate']\n",
    "df = df[df['Country'] != 'World']"
   ]
  },
  {
   "cell_type": "code",
   "execution_count": 22,
   "id": "edccb13b-b475-4567-a512-cd012b5b2ddb",
   "metadata": {},
   "outputs": [
    {
     "name": "stdout",
     "output_type": "stream",
     "text": [
      "Country: United States\n",
      "Difference: 1616835.00\n"
     ]
    }
   ],
   "source": [
    "max_diff_index = df['Difference'].abs().idxmax()\n",
    "max_country = df.loc[max_diff_index, 'Country']\n",
    "max_difference = df.loc[max_diff_index, 'Difference']\n",
    "print(f\"Country: {max_country}\")\n",
    "print(f\"Difference: {max_difference:.2f}\")"
   ]
  },
  {
   "cell_type": "markdown",
   "id": "58ab279c-0713-4760-a012-bcb3a9126de1",
   "metadata": {},
   "source": [
    "<p>Країна з найбільшою різницею - США</p>"
   ]
  },
  {
   "cell_type": "markdown",
   "id": "3a6027af-c741-4c02-90c7-9fa10c4c9596",
   "metadata": {},
   "source": [
    "<p>11.  Обчисліть кореляцію між показниками MVF_2024, WorldBank_2023 та \r\n",
    "OON_2022. Які пари змінних мають найвищу кореляцію?</p>"
   ]
  },
  {
   "cell_type": "markdown",
   "id": "0e75c2a5-f608-4645-8d95-7ee45a8b16e5",
   "metadata": {},
   "source": [
    "<p>Для визначення кореляції використаємо метод Кендала, бо при інших методах кореляції = 1</p>"
   ]
  },
  {
   "cell_type": "code",
   "execution_count": 23,
   "id": "c0154e01-6635-4a9f-8a93-f37e47ba9158",
   "metadata": {},
   "outputs": [
    {
     "data": {
      "text/html": [
       "<div>\n",
       "<style scoped>\n",
       "    .dataframe tbody tr th:only-of-type {\n",
       "        vertical-align: middle;\n",
       "    }\n",
       "\n",
       "    .dataframe tbody tr th {\n",
       "        vertical-align: top;\n",
       "    }\n",
       "\n",
       "    .dataframe thead th {\n",
       "        text-align: right;\n",
       "    }\n",
       "</style>\n",
       "<table border=\"1\" class=\"dataframe\">\n",
       "  <thead>\n",
       "    <tr style=\"text-align: right;\">\n",
       "      <th></th>\n",
       "      <th>IMF_Forecast</th>\n",
       "      <th>World_Bank_Estimate</th>\n",
       "      <th>United_Nations_Estimate</th>\n",
       "    </tr>\n",
       "  </thead>\n",
       "  <tbody>\n",
       "    <tr>\n",
       "      <th>IMF_Forecast</th>\n",
       "      <td>1.00</td>\n",
       "      <td>0.98</td>\n",
       "      <td>0.96</td>\n",
       "    </tr>\n",
       "    <tr>\n",
       "      <th>World_Bank_Estimate</th>\n",
       "      <td>0.98</td>\n",
       "      <td>1.00</td>\n",
       "      <td>0.97</td>\n",
       "    </tr>\n",
       "    <tr>\n",
       "      <th>United_Nations_Estimate</th>\n",
       "      <td>0.96</td>\n",
       "      <td>0.97</td>\n",
       "      <td>1.00</td>\n",
       "    </tr>\n",
       "  </tbody>\n",
       "</table>\n",
       "</div>"
      ],
      "text/plain": [
       "                         IMF_Forecast  World_Bank_Estimate  \\\n",
       "IMF_Forecast                     1.00                 0.98   \n",
       "World_Bank_Estimate              0.98                 1.00   \n",
       "United_Nations_Estimate          0.96                 0.97   \n",
       "\n",
       "                         United_Nations_Estimate  \n",
       "IMF_Forecast                                0.96  \n",
       "World_Bank_Estimate                         0.97  \n",
       "United_Nations_Estimate                     1.00  "
      ]
     },
     "execution_count": 23,
     "metadata": {},
     "output_type": "execute_result"
    }
   ],
   "source": [
    "correlation = df[['IMF_Forecast', 'World_Bank_Estimate', 'United_Nations_Estimate']].corr(method='kendall')\n",
    "correlation"
   ]
  },
  {
   "cell_type": "markdown",
   "id": "f79bbd29-59ae-4db4-a029-9072f0f3653c",
   "metadata": {},
   "source": [
    "<p>Пара з найбільшою кореляцією = IMF_Forecast та World_Bank_Estimate</p>"
   ]
  },
  {
   "cell_type": "markdown",
   "id": "5d952e7b-005e-4f10-9093-562c245f39e7",
   "metadata": {},
   "source": [
    "<p>12.  Обчисліть середнє значення для кожного стовпця (MVF_2024, \n",
    "WorldBank_2023, OON_2022). Як це середнє значення змінюється між \n",
    "роками?</p>"
   ]
  },
  {
   "cell_type": "code",
   "execution_count": 24,
   "id": "d8ca5029-7985-42b8-b6c9-773f68a630fd",
   "metadata": {},
   "outputs": [
    {
     "data": {
      "text/plain": [
       "IMF_Forecast              602331.36\n",
       "World_Bank_Estimate       576914.60\n",
       "United_Nations_Estimate   552695.34\n",
       "dtype: float64"
      ]
     },
     "execution_count": 24,
     "metadata": {},
     "output_type": "execute_result"
    }
   ],
   "source": [
    "df[['IMF_Forecast' , 'World_Bank_Estimate', 'United_Nations_Estimate']].mean()"
   ]
  },
  {
   "cell_type": "markdown",
   "id": "8693858e-1e91-4521-bd8b-63cd49e49ec9",
   "metadata": {},
   "source": [
    "<p>З роками середнє значення росте</p>"
   ]
  },
  {
   "cell_type": "markdown",
   "id": "619a7c9f-c2b5-4c07-a6fb-8c60692f3328",
   "metadata": {},
   "source": [
    "<p>13.  Обчисліть стандартне відхилення показників для кожної країни. Яка \r\n",
    "країна має найвищу варіативність у показниках між роками? </p>"
   ]
  },
  {
   "cell_type": "code",
   "execution_count": 25,
   "id": "9b2e144d-0abf-4020-8056-e50a34d5563c",
   "metadata": {},
   "outputs": [
    {
     "data": {
      "text/html": [
       "<div>\n",
       "<style scoped>\n",
       "    .dataframe tbody tr th:only-of-type {\n",
       "        vertical-align: middle;\n",
       "    }\n",
       "\n",
       "    .dataframe tbody tr th {\n",
       "        vertical-align: top;\n",
       "    }\n",
       "\n",
       "    .dataframe thead th {\n",
       "        text-align: right;\n",
       "    }\n",
       "</style>\n",
       "<table border=\"1\" class=\"dataframe\">\n",
       "  <thead>\n",
       "    <tr style=\"text-align: right;\">\n",
       "      <th></th>\n",
       "      <th>Country</th>\n",
       "      <th>st_dev</th>\n",
       "    </tr>\n",
       "  </thead>\n",
       "  <tbody>\n",
       "    <tr>\n",
       "      <th>1</th>\n",
       "      <td>United States</td>\n",
       "      <td>1519552.65</td>\n",
       "    </tr>\n",
       "    <tr>\n",
       "      <th>2</th>\n",
       "      <td>China</td>\n",
       "      <td>386666.68</td>\n",
       "    </tr>\n",
       "    <tr>\n",
       "      <th>12</th>\n",
       "      <td>Mexico</td>\n",
       "      <td>278275.87</td>\n",
       "    </tr>\n",
       "    <tr>\n",
       "      <th>3</th>\n",
       "      <td>Germany</td>\n",
       "      <td>266573.60</td>\n",
       "    </tr>\n",
       "    <tr>\n",
       "      <th>5</th>\n",
       "      <td>India</td>\n",
       "      <td>251410.63</td>\n",
       "    </tr>\n",
       "  </tbody>\n",
       "</table>\n",
       "</div>"
      ],
      "text/plain": [
       "          Country     st_dev\n",
       "1   United States 1519552.65\n",
       "2           China  386666.68\n",
       "12         Mexico  278275.87\n",
       "3         Germany  266573.60\n",
       "5           India  251410.63"
      ]
     },
     "execution_count": 25,
     "metadata": {},
     "output_type": "execute_result"
    }
   ],
   "source": [
    "df['st_dev'] = df[['IMF_Forecast' , 'World_Bank_Estimate', 'United_Nations_Estimate']].std(axis=1)\n",
    "result = df.sort_values('st_dev', ascending=False)[['Country', 'st_dev']]\n",
    "result.head()"
   ]
  },
  {
   "cell_type": "markdown",
   "id": "a2658f5c-33e5-4f46-b57c-a7165fd3a7cd",
   "metadata": {},
   "source": [
    "<p>Найвищу варіативність у показниках між роками має США</p>"
   ]
  },
  {
   "cell_type": "markdown",
   "id": "681d77ab-82ed-4957-b693-569d2910df28",
   "metadata": {},
   "source": [
    "<p>14.  Визначення країни з найвищим та найнижчим показниками: Знайдіть \r\n",
    "країну з найвищим та найнижчим показниками у кожному з років \r\n",
    "(MVF_2024, WorldBank_2023, OON_2022).</p>"
   ]
  },
  {
   "cell_type": "code",
   "execution_count": 26,
   "id": "11b232f4-a5e7-4cf0-ad68-48791b80e656",
   "metadata": {},
   "outputs": [
    {
     "name": "stdout",
     "output_type": "stream",
     "text": [
      "\n",
      "Для IMF_Forecast:\n",
      "Найвищий показник: United States (28781083.00)\n",
      "Найнижчий показник: Tuvalu (66.00)\n",
      "\n",
      "Для World_Bank_Estimate:\n",
      "Найвищий показник: United States (27360935.00)\n",
      "Найнижчий показник: Tuvalu (62.00)\n",
      "\n",
      "Для United_Nations_Estimate:\n",
      "Найвищий показник: United States (25744100.00)\n",
      "Найнижчий показник: Tuvalu (59.00)\n"
     ]
    }
   ],
   "source": [
    "columns = ['IMF_Forecast', 'World_Bank_Estimate', 'United_Nations_Estimate']\n",
    "df = df[df['Country'] != 'World']\n",
    "for col in columns:\n",
    "    if col!='World':\n",
    "        max_country = df.loc[df[col].idxmax()]\n",
    "        min_country = df.loc[df[col].idxmin()]\n",
    "        \n",
    "        print(f\"\\nДля {col}:\")\n",
    "        print(f\"Найвищий показник: {max_country['Country']} ({max_country[col]:.2f})\")\n",
    "        print(f\"Найнижчий показник: {min_country['Country']} ({min_country[col]:.2f})\")"
   ]
  },
  {
   "cell_type": "markdown",
   "id": "fc453ddf-fd89-4986-a3bb-83cc0ee51b4c",
   "metadata": {},
   "source": [
    "<p>15.  Побудуйте гістограму для розподілу показників MVF_2024 серед всіх \r\n",
    "країн. Який вигляд має розподіл? Чи є країни, що виділяються?</p>"
   ]
  },
  {
   "cell_type": "code",
   "execution_count": 27,
   "id": "fdb00c91-cfec-4114-84d1-5fee131a9716",
   "metadata": {},
   "outputs": [
    {
     "data": {
      "image/png": "[encoded data removed]",
      "text/plain": [
       "<Figure size 1200x600 with 1 Axes>"
      ]
     },
     "metadata": {},
     "output_type": "display_data"
    }
   ],
   "source": [
    "sorted_data = df.sort_values('IMF_Forecast', ascending=False)\n",
    "top_50 = sorted_data.head(50)\n",
    "\n",
    "plt.figure(figsize=(12, 6))\n",
    "plt.bar(top_50['Country'], top_50['IMF_Forecast'])\n",
    "plt.title('Топ-50 країн за показником IMF_Forecast')\n",
    "plt.xlabel('Країни')\n",
    "plt.ylabel('Значення IMF_Forecast')\n",
    "plt.xticks(rotation=90) \n",
    "plt.tight_layout() \n",
    "plt.show()"
   ]
  },
  {
   "cell_type": "markdown",
   "id": "c5cf6086-ae62-468d-bb03-6828c2d9cfcd",
   "metadata": {},
   "source": [
    "<p>Дві країни, що значно виділяються - United States та China</p>"
   ]
  },
  {
   "cell_type": "markdown",
   "id": "c7bbc333-78d5-476d-9487-08c854060c7c",
   "metadata": {},
   "source": [
    "<p>16.  Розрахуйте частку кожної країни в загальному значенні для кожного \r\n",
    "року (MVF_2024, WorldBank_2023, OON_2022). Як змінюються частки \r\n",
    "країн з часом (дати відповідь)? </p>"
   ]
  },
  {
   "cell_type": "code",
   "execution_count": 28,
   "id": "02ab5bf8-7ede-4c2c-82a8-690311ba14b7",
   "metadata": {},
   "outputs": [],
   "source": [
    "total_2024 = df['IMF_Forecast'].sum()\n",
    "total_2023 = df['World_Bank_Estimate'].sum()\n",
    "total_2022 = df['United_Nations_Estimate'].sum()"
   ]
  },
  {
   "cell_type": "code",
   "execution_count": 29,
   "id": "4e62f6f0-fd2f-4112-ab70-77d984e2765e",
   "metadata": {},
   "outputs": [],
   "source": [
    "df['Share_2024'] = df['IMF_Forecast'] / total_2024 * 100\n",
    "df['Share_2023'] = df['World_Bank_Estimate'] / total_2023 * 100\n",
    "df['Share_2022'] = df['United_Nations_Estimate'] / total_2022 * 100\n",
    "\n",
    "df_sorted = df.sort_values('Share_2024', ascending=False)"
   ]
  },
  {
   "cell_type": "code",
   "execution_count": 30,
   "id": "936b099c-1632-466f-b51d-9f912f9736b2",
   "metadata": {},
   "outputs": [],
   "source": [
    "df_sorted['Change_2023_2024'] = df_sorted['Share_2024'] - df_sorted['Share_2023']\n",
    "df_sorted['Change_2022_2023'] = df_sorted['Share_2023'] - df_sorted['Share_2022']"
   ]
  },
  {
   "cell_type": "code",
   "execution_count": 31,
   "id": "614a37e7-ef6b-4d35-8979-893e565d1206",
   "metadata": {},
   "outputs": [
    {
     "name": "stdout",
     "output_type": "stream",
     "text": [
      "\n",
      "Країни з найбільшим зростанням частки (2023-2024):\n",
      "          Country  Change_2023_2024\n",
      "5           India              0.21\n",
      "1   United States              0.20\n",
      "12         Mexico              0.14\n",
      "8          Brazil              0.06\n",
      "35           Iran              0.04\n",
      "\n",
      "Країни з найбільшим падінням частки (2023-2024):\n",
      "       Country  Change_2023_2024\n",
      "4        Japan             -0.27\n",
      "54     Nigeria             -0.12\n",
      "115      Sudan             -0.08\n",
      "43       Egypt             -0.06\n",
      "25   Argentina             -0.06\n"
     ]
    }
   ],
   "source": [
    "print(\"\\nКраїни з найбільшим зростанням частки (2023-2024):\")\n",
    "print(df_sorted.nlargest(5, 'Change_2023_2024')[['Country', 'Change_2023_2024']])\n",
    "\n",
    "print(\"\\nКраїни з найбільшим падінням частки (2023-2024):\")\n",
    "print(df_sorted.nsmallest(5, 'Change_2023_2024')[['Country', 'Change_2023_2024']])"
   ]
  },
  {
   "cell_type": "code",
   "execution_count": 32,
   "id": "56dda7fd-483d-4f9b-8272-51b42f51131e",
   "metadata": {},
   "outputs": [
    {
     "name": "stdout",
     "output_type": "stream",
     "text": [
      "\n",
      "Країни з найбільшим зростанням частки (2022-2023):\n",
      "          Country  Change_2022_2023\n",
      "1   United States              0.47\n",
      "12         Mexico              0.25\n",
      "3         Germany              0.19\n",
      "8          Brazil              0.16\n",
      "18         Turkey              0.16\n",
      "\n",
      "Країни з найбільшим падінням частки (2022-2023):\n",
      "      Country  Change_2022_2023\n",
      "2       China             -0.93\n",
      "11     Russia             -0.31\n",
      "4       Japan             -0.20\n",
      "54    Nigeria             -0.13\n",
      "13  Australia             -0.13\n"
     ]
    }
   ],
   "source": [
    "print(\"\\nКраїни з найбільшим зростанням частки (2022-2023):\")\n",
    "print(df_sorted.nlargest(5, 'Change_2022_2023')[['Country', 'Change_2022_2023']])\n",
    "\n",
    "print(\"\\nКраїни з найбільшим падінням частки (2022-2023):\")\n",
    "print(df_sorted.nsmallest(5, 'Change_2022_2023')[['Country', 'Change_2022_2023']])"
   ]
  },
  {
   "cell_type": "markdown",
   "id": "3af2c8c1-8a2e-495b-9b56-3839b051e086",
   "metadata": {},
   "source": [
    "<p>17.  Візуалізуйте зміни в показниках для кожної країни за три роки на \n",
    "графіку. Які країни показують стабільне зростання або спад (дати \n",
    "відповідь)? </p>"
   ]
  },
  {
   "cell_type": "code",
   "execution_count": 33,
   "id": "03772959-c482-469a-abe0-efa393a85095",
   "metadata": {},
   "outputs": [
    {
     "data": {
      "image/png": "[encoded data removed]",
      "text/plain": [
       "<Figure size 1200x600 with 1 Axes>"
      ]
     },
     "metadata": {},
     "output_type": "display_data"
    }
   ],
   "source": [
    "top_10_countries = df.nlargest(10, 'IMF_Forecast')['Country'].tolist()\n",
    "\n",
    "# Створюємо графік\n",
    "plt.figure(figsize=(12, 6))\n",
    "\n",
    "for country in top_10_countries:\n",
    "    country_data = df[df['Country'] == country]\n",
    "    plt.plot(['United_Nations_Estimate', 'World_Bank_Estimate', 'IMF_Forecast'], \n",
    "             country_data[['United_Nations_Estimate', 'World_Bank_Estimate', 'IMF_Forecast']].values[0],\n",
    "             marker='o', label=country)\n",
    "\n",
    "plt.title('Зміни показників для топ-10 країн за 2022-2024 роки')\n",
    "plt.xlabel('Роки')\n",
    "plt.ylabel('Показники')\n",
    "plt.legend(bbox_to_anchor=(1.05, 1), loc='upper left')\n",
    "plt.tight_layout()\n",
    "plt.grid(True)\n",
    "plt.show()"
   ]
  },
  {
   "cell_type": "markdown",
   "id": "a7f81144-dd62-4956-91ca-4619918e7fc1",
   "metadata": {},
   "source": [
    "<p>Найбільші зміни спостерігаються у США та Китаї, де за три роки тенденція виросла</p>"
   ]
  },
  {
   "cell_type": "markdown",
   "id": "8df02f3a-b42f-401a-be86-d6985c433d01",
   "metadata": {},
   "source": [
    "<p>Висновки по Завданню 1:\n",
    "<ul>\n",
    "    <li>було проаналізовано датасет ВВП країн за 2022-2024 роки</li>\n",
    "    <li>освоєно навички підготовки датасету для аналізу</li>\n",
    "    <li>між показниками MVF_2024 та WorldBank_2023 найбільша різниця у United States</li>\n",
    "    <li>найбільші показники за всі три роки у United States, найменші показники - у Tuvalu</li>\n",
    "    <li>топ 5 країн з найбільшими показниками за три роки формують - United States, China, Germany, Japan, India, United Kingdom</li>\n",
    "</ul>\n",
    "</p>"
   ]
  },
  {
   "cell_type": "markdown",
   "id": "8f8e6944-0e9d-48da-bdbb-2d4e7ea5ae0c",
   "metadata": {},
   "source": [
    "<p></p>"
   ]
  },
  {
   "cell_type": "markdown",
   "id": "14f0e86f-048a-410c-a8a0-7bdf061e2c9b",
   "metadata": {},
   "source": [
    "<p></p>"
   ]
  },
  {
   "cell_type": "markdown",
   "id": "2738aa6f-728d-459c-baf3-a9edd2d0c757",
   "metadata": {},
   "source": [
    "### Завдання 2"
   ]
  },
  {
   "cell_type": "markdown",
   "id": "150c5417-ec24-4ab7-bd4d-3accd0132585",
   "metadata": {},
   "source": [
    "<p>Завантажити датасет Титанік з Kaggle (або \n",
    "використовуйте вже завантажений файл titanic.csv) </p>"
   ]
  },
  {
   "cell_type": "markdown",
   "id": "12ce6ad7-4ea2-433d-8111-0b4bb3adbe75",
   "metadata": {},
   "source": [
    "<p>1. Вивести перших 5 рядків.</p>"
   ]
  },
  {
   "cell_type": "code",
   "execution_count": 34,
   "id": "740d461a-5b65-408a-bf3a-fd8f8b2622aa",
   "metadata": {},
   "outputs": [
    {
     "data": {
      "text/html": [
       "<div>\n",
       "<style scoped>\n",
       "    .dataframe tbody tr th:only-of-type {\n",
       "        vertical-align: middle;\n",
       "    }\n",
       "\n",
       "    .dataframe tbody tr th {\n",
       "        vertical-align: top;\n",
       "    }\n",
       "\n",
       "    .dataframe thead th {\n",
       "        text-align: right;\n",
       "    }\n",
       "</style>\n",
       "<table border=\"1\" class=\"dataframe\">\n",
       "  <thead>\n",
       "    <tr style=\"text-align: right;\">\n",
       "      <th></th>\n",
       "      <th>PassengerId</th>\n",
       "      <th>Survived</th>\n",
       "      <th>Pclass</th>\n",
       "      <th>Name</th>\n",
       "      <th>Sex</th>\n",
       "      <th>Age</th>\n",
       "      <th>SibSp</th>\n",
       "      <th>Parch</th>\n",
       "      <th>Ticket</th>\n",
       "      <th>Fare</th>\n",
       "      <th>Cabin</th>\n",
       "      <th>Embarked</th>\n",
       "    </tr>\n",
       "  </thead>\n",
       "  <tbody>\n",
       "    <tr>\n",
       "      <th>0</th>\n",
       "      <td>892</td>\n",
       "      <td>0</td>\n",
       "      <td>3</td>\n",
       "      <td>Kelly, Mr. James</td>\n",
       "      <td>male</td>\n",
       "      <td>34.50</td>\n",
       "      <td>0</td>\n",
       "      <td>0</td>\n",
       "      <td>330911</td>\n",
       "      <td>7.83</td>\n",
       "      <td>NaN</td>\n",
       "      <td>Q</td>\n",
       "    </tr>\n",
       "    <tr>\n",
       "      <th>1</th>\n",
       "      <td>893</td>\n",
       "      <td>1</td>\n",
       "      <td>3</td>\n",
       "      <td>Wilkes, Mrs. James (Ellen Needs)</td>\n",
       "      <td>female</td>\n",
       "      <td>47.00</td>\n",
       "      <td>1</td>\n",
       "      <td>0</td>\n",
       "      <td>363272</td>\n",
       "      <td>7.00</td>\n",
       "      <td>NaN</td>\n",
       "      <td>S</td>\n",
       "    </tr>\n",
       "    <tr>\n",
       "      <th>2</th>\n",
       "      <td>894</td>\n",
       "      <td>0</td>\n",
       "      <td>2</td>\n",
       "      <td>Myles, Mr. Thomas Francis</td>\n",
       "      <td>male</td>\n",
       "      <td>62.00</td>\n",
       "      <td>0</td>\n",
       "      <td>0</td>\n",
       "      <td>240276</td>\n",
       "      <td>9.69</td>\n",
       "      <td>NaN</td>\n",
       "      <td>Q</td>\n",
       "    </tr>\n",
       "    <tr>\n",
       "      <th>3</th>\n",
       "      <td>895</td>\n",
       "      <td>0</td>\n",
       "      <td>3</td>\n",
       "      <td>Wirz, Mr. Albert</td>\n",
       "      <td>male</td>\n",
       "      <td>27.00</td>\n",
       "      <td>0</td>\n",
       "      <td>0</td>\n",
       "      <td>315154</td>\n",
       "      <td>8.66</td>\n",
       "      <td>NaN</td>\n",
       "      <td>S</td>\n",
       "    </tr>\n",
       "    <tr>\n",
       "      <th>4</th>\n",
       "      <td>896</td>\n",
       "      <td>1</td>\n",
       "      <td>3</td>\n",
       "      <td>Hirvonen, Mrs. Alexander (Helga E Lindqvist)</td>\n",
       "      <td>female</td>\n",
       "      <td>22.00</td>\n",
       "      <td>1</td>\n",
       "      <td>1</td>\n",
       "      <td>3101298</td>\n",
       "      <td>12.29</td>\n",
       "      <td>NaN</td>\n",
       "      <td>S</td>\n",
       "    </tr>\n",
       "  </tbody>\n",
       "</table>\n",
       "</div>"
      ],
      "text/plain": [
       "   PassengerId  Survived  Pclass  \\\n",
       "0          892         0       3   \n",
       "1          893         1       3   \n",
       "2          894         0       2   \n",
       "3          895         0       3   \n",
       "4          896         1       3   \n",
       "\n",
       "                                           Name     Sex   Age  SibSp  Parch  \\\n",
       "0                              Kelly, Mr. James    male 34.50      0      0   \n",
       "1              Wilkes, Mrs. James (Ellen Needs)  female 47.00      1      0   \n",
       "2                     Myles, Mr. Thomas Francis    male 62.00      0      0   \n",
       "3                              Wirz, Mr. Albert    male 27.00      0      0   \n",
       "4  Hirvonen, Mrs. Alexander (Helga E Lindqvist)  female 22.00      1      1   \n",
       "\n",
       "    Ticket  Fare Cabin Embarked  \n",
       "0   330911  7.83   NaN        Q  \n",
       "1   363272  7.00   NaN        S  \n",
       "2   240276  9.69   NaN        Q  \n",
       "3   315154  8.66   NaN        S  \n",
       "4  3101298 12.29   NaN        S  "
      ]
     },
     "execution_count": 34,
     "metadata": {},
     "output_type": "execute_result"
    }
   ],
   "source": [
    "data = pd.read_csv('titanic.csv')\n",
    "data.head()"
   ]
  },
  {
   "cell_type": "markdown",
   "id": "a2dd462f-9b21-41ec-94aa-063d956230bb",
   "metadata": {},
   "source": [
    "<p>2. Визначити розмір датасета</p>"
   ]
  },
  {
   "cell_type": "code",
   "execution_count": 35,
   "id": "fcde488a-315e-4380-8374-806da6da69aa",
   "metadata": {},
   "outputs": [
    {
     "data": {
      "text/plain": [
       "(418, 12)"
      ]
     },
     "execution_count": 35,
     "metadata": {},
     "output_type": "execute_result"
    }
   ],
   "source": [
    "data.shape"
   ]
  },
  {
   "cell_type": "markdown",
   "id": "f6dcfd7a-c1df-4b24-b432-a74268ad78df",
   "metadata": {},
   "source": [
    "<p>3. Визначити тип даних</p>"
   ]
  },
  {
   "cell_type": "code",
   "execution_count": 36,
   "id": "0fabf9b2-8a69-421f-baab-08686a07f936",
   "metadata": {},
   "outputs": [
    {
     "data": {
      "text/plain": [
       "PassengerId      int64\n",
       "Survived         int64\n",
       "Pclass           int64\n",
       "Name            object\n",
       "Sex             object\n",
       "Age            float64\n",
       "SibSp            int64\n",
       "Parch            int64\n",
       "Ticket          object\n",
       "Fare           float64\n",
       "Cabin           object\n",
       "Embarked        object\n",
       "dtype: object"
      ]
     },
     "execution_count": 36,
     "metadata": {},
     "output_type": "execute_result"
    }
   ],
   "source": [
    "data.dtypes"
   ]
  },
  {
   "cell_type": "markdown",
   "id": "1dbe5477-35d0-4ece-b4d3-fc52b88830b6",
   "metadata": {},
   "source": [
    "<p>4. Визначити наявність пропущених значень. При наявності, замінити \n",
    "пропущені значення на середнє значення</p>>"
   ]
  },
  {
   "cell_type": "code",
   "execution_count": 37,
   "id": "b0a26a81-0cf2-4d7d-95e3-e963edf6b166",
   "metadata": {},
   "outputs": [
    {
     "data": {
      "text/plain": [
       "PassengerId      0\n",
       "Survived         0\n",
       "Pclass           0\n",
       "Name             0\n",
       "Sex              0\n",
       "Age             86\n",
       "SibSp            0\n",
       "Parch            0\n",
       "Ticket           0\n",
       "Fare             1\n",
       "Cabin          327\n",
       "Embarked         0\n",
       "dtype: int64"
      ]
     },
     "execution_count": 37,
     "metadata": {},
     "output_type": "execute_result"
    }
   ],
   "source": [
    "data.isnull().sum()"
   ]
  },
  {
   "cell_type": "markdown",
   "id": "ac20e991-f6ab-4766-ba63-3f05317def5d",
   "metadata": {},
   "source": [
    "<p>Так як стовпець Cabin не відграє значну роль у проведенні аналізу та містить велику к-сть пропущених значень, можна його видалити</p>"
   ]
  },
  {
   "cell_type": "code",
   "execution_count": 38,
   "id": "9d175a68-a055-4f80-95c5-793630a90cfb",
   "metadata": {},
   "outputs": [
    {
     "data": {
      "text/html": [
       "<div>\n",
       "<style scoped>\n",
       "    .dataframe tbody tr th:only-of-type {\n",
       "        vertical-align: middle;\n",
       "    }\n",
       "\n",
       "    .dataframe tbody tr th {\n",
       "        vertical-align: top;\n",
       "    }\n",
       "\n",
       "    .dataframe thead th {\n",
       "        text-align: right;\n",
       "    }\n",
       "</style>\n",
       "<table border=\"1\" class=\"dataframe\">\n",
       "  <thead>\n",
       "    <tr style=\"text-align: right;\">\n",
       "      <th></th>\n",
       "      <th>PassengerId</th>\n",
       "      <th>Survived</th>\n",
       "      <th>Pclass</th>\n",
       "      <th>Name</th>\n",
       "      <th>Sex</th>\n",
       "      <th>Age</th>\n",
       "      <th>SibSp</th>\n",
       "      <th>Parch</th>\n",
       "      <th>Ticket</th>\n",
       "      <th>Fare</th>\n",
       "      <th>Embarked</th>\n",
       "    </tr>\n",
       "  </thead>\n",
       "  <tbody>\n",
       "    <tr>\n",
       "      <th>0</th>\n",
       "      <td>892</td>\n",
       "      <td>0</td>\n",
       "      <td>3</td>\n",
       "      <td>Kelly, Mr. James</td>\n",
       "      <td>male</td>\n",
       "      <td>34.50</td>\n",
       "      <td>0</td>\n",
       "      <td>0</td>\n",
       "      <td>330911</td>\n",
       "      <td>7.83</td>\n",
       "      <td>Q</td>\n",
       "    </tr>\n",
       "    <tr>\n",
       "      <th>1</th>\n",
       "      <td>893</td>\n",
       "      <td>1</td>\n",
       "      <td>3</td>\n",
       "      <td>Wilkes, Mrs. James (Ellen Needs)</td>\n",
       "      <td>female</td>\n",
       "      <td>47.00</td>\n",
       "      <td>1</td>\n",
       "      <td>0</td>\n",
       "      <td>363272</td>\n",
       "      <td>7.00</td>\n",
       "      <td>S</td>\n",
       "    </tr>\n",
       "    <tr>\n",
       "      <th>2</th>\n",
       "      <td>894</td>\n",
       "      <td>0</td>\n",
       "      <td>2</td>\n",
       "      <td>Myles, Mr. Thomas Francis</td>\n",
       "      <td>male</td>\n",
       "      <td>62.00</td>\n",
       "      <td>0</td>\n",
       "      <td>0</td>\n",
       "      <td>240276</td>\n",
       "      <td>9.69</td>\n",
       "      <td>Q</td>\n",
       "    </tr>\n",
       "    <tr>\n",
       "      <th>3</th>\n",
       "      <td>895</td>\n",
       "      <td>0</td>\n",
       "      <td>3</td>\n",
       "      <td>Wirz, Mr. Albert</td>\n",
       "      <td>male</td>\n",
       "      <td>27.00</td>\n",
       "      <td>0</td>\n",
       "      <td>0</td>\n",
       "      <td>315154</td>\n",
       "      <td>8.66</td>\n",
       "      <td>S</td>\n",
       "    </tr>\n",
       "    <tr>\n",
       "      <th>4</th>\n",
       "      <td>896</td>\n",
       "      <td>1</td>\n",
       "      <td>3</td>\n",
       "      <td>Hirvonen, Mrs. Alexander (Helga E Lindqvist)</td>\n",
       "      <td>female</td>\n",
       "      <td>22.00</td>\n",
       "      <td>1</td>\n",
       "      <td>1</td>\n",
       "      <td>3101298</td>\n",
       "      <td>12.29</td>\n",
       "      <td>S</td>\n",
       "    </tr>\n",
       "  </tbody>\n",
       "</table>\n",
       "</div>"
      ],
      "text/plain": [
       "   PassengerId  Survived  Pclass  \\\n",
       "0          892         0       3   \n",
       "1          893         1       3   \n",
       "2          894         0       2   \n",
       "3          895         0       3   \n",
       "4          896         1       3   \n",
       "\n",
       "                                           Name     Sex   Age  SibSp  Parch  \\\n",
       "0                              Kelly, Mr. James    male 34.50      0      0   \n",
       "1              Wilkes, Mrs. James (Ellen Needs)  female 47.00      1      0   \n",
       "2                     Myles, Mr. Thomas Francis    male 62.00      0      0   \n",
       "3                              Wirz, Mr. Albert    male 27.00      0      0   \n",
       "4  Hirvonen, Mrs. Alexander (Helga E Lindqvist)  female 22.00      1      1   \n",
       "\n",
       "    Ticket  Fare Embarked  \n",
       "0   330911  7.83        Q  \n",
       "1   363272  7.00        S  \n",
       "2   240276  9.69        Q  \n",
       "3   315154  8.66        S  \n",
       "4  3101298 12.29        S  "
      ]
     },
     "execution_count": 38,
     "metadata": {},
     "output_type": "execute_result"
    }
   ],
   "source": [
    "data = data.drop('Cabin', axis=1)\n",
    "data.head()"
   ]
  },
  {
   "cell_type": "markdown",
   "id": "ed525424-56d3-40b2-9b06-7950a78f8f73",
   "metadata": {},
   "source": [
    "<p>5. Ще раз перевірити наявність пропущених значень</p>"
   ]
  },
  {
   "cell_type": "code",
   "execution_count": 39,
   "id": "9f104f46-54f3-429d-8589-1c10df36e304",
   "metadata": {},
   "outputs": [
    {
     "name": "stderr",
     "output_type": "stream",
     "text": [
      "C:\\Users\\User\\AppData\\Local\\Temp\\ipykernel_12128\\2946364956.py:1: FutureWarning: A value is trying to be set on a copy of a DataFrame or Series through chained assignment using an inplace method.\n",
      "The behavior will change in pandas 3.0. This inplace method will never work because the intermediate object on which we are setting values always behaves as a copy.\n",
      "\n",
      "For example, when doing 'df[col].method(value, inplace=True)', try using 'df.method({col: value}, inplace=True)' or df[col] = df[col].method(value) instead, to perform the operation inplace on the original object.\n",
      "\n",
      "\n",
      "  data['Age'].fillna(data['Age'].mean(), inplace=True)\n",
      "C:\\Users\\User\\AppData\\Local\\Temp\\ipykernel_12128\\2946364956.py:2: FutureWarning: A value is trying to be set on a copy of a DataFrame or Series through chained assignment using an inplace method.\n",
      "The behavior will change in pandas 3.0. This inplace method will never work because the intermediate object on which we are setting values always behaves as a copy.\n",
      "\n",
      "For example, when doing 'df[col].method(value, inplace=True)', try using 'df.method({col: value}, inplace=True)' or df[col] = df[col].method(value) instead, to perform the operation inplace on the original object.\n",
      "\n",
      "\n",
      "  data['Fare'].fillna(data['Fare'].mean(), inplace=True)\n"
     ]
    },
    {
     "data": {
      "text/plain": [
       "PassengerId    0\n",
       "Survived       0\n",
       "Pclass         0\n",
       "Name           0\n",
       "Sex            0\n",
       "Age            0\n",
       "SibSp          0\n",
       "Parch          0\n",
       "Ticket         0\n",
       "Fare           0\n",
       "Embarked       0\n",
       "dtype: int64"
      ]
     },
     "execution_count": 39,
     "metadata": {},
     "output_type": "execute_result"
    }
   ],
   "source": [
    "data['Age'].fillna(data['Age'].mean(), inplace=True)\n",
    "data['Fare'].fillna(data['Fare'].mean(), inplace=True)\n",
    "data.isnull().sum()"
   ]
  },
  {
   "cell_type": "markdown",
   "id": "0f7077f0-00be-40f2-933a-b51e62aef6a4",
   "metadata": {},
   "source": [
    "<p>6. Перевірити наявність дублікатів. При наявності видалити дублікати </p>"
   ]
  },
  {
   "cell_type": "code",
   "execution_count": 40,
   "id": "6ccdc57e-d45f-4ac3-9cb8-fed8b6328795",
   "metadata": {},
   "outputs": [
    {
     "data": {
      "text/plain": [
       "0"
      ]
     },
     "execution_count": 40,
     "metadata": {},
     "output_type": "execute_result"
    }
   ],
   "source": [
    "data.duplicated().sum()"
   ]
  },
  {
   "cell_type": "markdown",
   "id": "0d7293bd-89cc-4679-a42e-8bb0340de26e",
   "metadata": {},
   "source": [
    "<p>Дублікатів не виявлено</p>"
   ]
  },
  {
   "cell_type": "markdown",
   "id": "55316a8b-feb1-493d-9b35-f0a062284fe8",
   "metadata": {},
   "source": [
    "<p>7. Вивести описову статистику датасету describe()</p>"
   ]
  },
  {
   "cell_type": "code",
   "execution_count": 41,
   "id": "e8c7dffa-6148-4714-99d1-4ee4436d6b3b",
   "metadata": {},
   "outputs": [
    {
     "data": {
      "text/html": [
       "<div>\n",
       "<style scoped>\n",
       "    .dataframe tbody tr th:only-of-type {\n",
       "        vertical-align: middle;\n",
       "    }\n",
       "\n",
       "    .dataframe tbody tr th {\n",
       "        vertical-align: top;\n",
       "    }\n",
       "\n",
       "    .dataframe thead th {\n",
       "        text-align: right;\n",
       "    }\n",
       "</style>\n",
       "<table border=\"1\" class=\"dataframe\">\n",
       "  <thead>\n",
       "    <tr style=\"text-align: right;\">\n",
       "      <th></th>\n",
       "      <th>PassengerId</th>\n",
       "      <th>Survived</th>\n",
       "      <th>Pclass</th>\n",
       "      <th>Age</th>\n",
       "      <th>SibSp</th>\n",
       "      <th>Parch</th>\n",
       "      <th>Fare</th>\n",
       "    </tr>\n",
       "  </thead>\n",
       "  <tbody>\n",
       "    <tr>\n",
       "      <th>count</th>\n",
       "      <td>418.00</td>\n",
       "      <td>418.00</td>\n",
       "      <td>418.00</td>\n",
       "      <td>418.00</td>\n",
       "      <td>418.00</td>\n",
       "      <td>418.00</td>\n",
       "      <td>418.00</td>\n",
       "    </tr>\n",
       "    <tr>\n",
       "      <th>mean</th>\n",
       "      <td>1100.50</td>\n",
       "      <td>0.36</td>\n",
       "      <td>2.27</td>\n",
       "      <td>30.27</td>\n",
       "      <td>0.45</td>\n",
       "      <td>0.39</td>\n",
       "      <td>35.63</td>\n",
       "    </tr>\n",
       "    <tr>\n",
       "      <th>std</th>\n",
       "      <td>120.81</td>\n",
       "      <td>0.48</td>\n",
       "      <td>0.84</td>\n",
       "      <td>12.63</td>\n",
       "      <td>0.90</td>\n",
       "      <td>0.98</td>\n",
       "      <td>55.84</td>\n",
       "    </tr>\n",
       "    <tr>\n",
       "      <th>min</th>\n",
       "      <td>892.00</td>\n",
       "      <td>0.00</td>\n",
       "      <td>1.00</td>\n",
       "      <td>0.17</td>\n",
       "      <td>0.00</td>\n",
       "      <td>0.00</td>\n",
       "      <td>0.00</td>\n",
       "    </tr>\n",
       "    <tr>\n",
       "      <th>25%</th>\n",
       "      <td>996.25</td>\n",
       "      <td>0.00</td>\n",
       "      <td>1.00</td>\n",
       "      <td>23.00</td>\n",
       "      <td>0.00</td>\n",
       "      <td>0.00</td>\n",
       "      <td>7.90</td>\n",
       "    </tr>\n",
       "    <tr>\n",
       "      <th>50%</th>\n",
       "      <td>1100.50</td>\n",
       "      <td>0.00</td>\n",
       "      <td>3.00</td>\n",
       "      <td>30.27</td>\n",
       "      <td>0.00</td>\n",
       "      <td>0.00</td>\n",
       "      <td>14.45</td>\n",
       "    </tr>\n",
       "    <tr>\n",
       "      <th>75%</th>\n",
       "      <td>1204.75</td>\n",
       "      <td>1.00</td>\n",
       "      <td>3.00</td>\n",
       "      <td>35.75</td>\n",
       "      <td>1.00</td>\n",
       "      <td>0.00</td>\n",
       "      <td>31.50</td>\n",
       "    </tr>\n",
       "    <tr>\n",
       "      <th>max</th>\n",
       "      <td>1309.00</td>\n",
       "      <td>1.00</td>\n",
       "      <td>3.00</td>\n",
       "      <td>76.00</td>\n",
       "      <td>8.00</td>\n",
       "      <td>9.00</td>\n",
       "      <td>512.33</td>\n",
       "    </tr>\n",
       "  </tbody>\n",
       "</table>\n",
       "</div>"
      ],
      "text/plain": [
       "       PassengerId  Survived  Pclass    Age  SibSp  Parch   Fare\n",
       "count       418.00    418.00  418.00 418.00 418.00 418.00 418.00\n",
       "mean       1100.50      0.36    2.27  30.27   0.45   0.39  35.63\n",
       "std         120.81      0.48    0.84  12.63   0.90   0.98  55.84\n",
       "min         892.00      0.00    1.00   0.17   0.00   0.00   0.00\n",
       "25%         996.25      0.00    1.00  23.00   0.00   0.00   7.90\n",
       "50%        1100.50      0.00    3.00  30.27   0.00   0.00  14.45\n",
       "75%        1204.75      1.00    3.00  35.75   1.00   0.00  31.50\n",
       "max        1309.00      1.00    3.00  76.00   8.00   9.00 512.33"
      ]
     },
     "execution_count": 41,
     "metadata": {},
     "output_type": "execute_result"
    }
   ],
   "source": [
    "data.describe()"
   ]
  },
  {
   "cell_type": "markdown",
   "id": "430b22a0-9b34-43b5-8110-072282e0f2b9",
   "metadata": {},
   "source": [
    "<p>8. Видалити стовпчик Cabin </p>"
   ]
  },
  {
   "cell_type": "markdown",
   "id": "41717077-27b1-4e9f-9ab7-68a6b45e0a20",
   "metadata": {},
   "source": [
    "<p>Стовпець видалено вище</p>"
   ]
  },
  {
   "cell_type": "markdown",
   "id": "6f239ad0-89da-4a4f-a01f-8440c0fe31ea",
   "metadata": {},
   "source": [
    "<p>9. Сформувати датасет з обраними стовпцями: \r\n",
    "['Survived', 'Pclass', 'Sex', 'Age', 'Fare']] </p>"
   ]
  },
  {
   "cell_type": "code",
   "execution_count": 42,
   "id": "3905fe2d-e15b-42e0-91c9-8ffe18f6a83b",
   "metadata": {},
   "outputs": [
    {
     "data": {
      "text/html": [
       "<div>\n",
       "<style scoped>\n",
       "    .dataframe tbody tr th:only-of-type {\n",
       "        vertical-align: middle;\n",
       "    }\n",
       "\n",
       "    .dataframe tbody tr th {\n",
       "        vertical-align: top;\n",
       "    }\n",
       "\n",
       "    .dataframe thead th {\n",
       "        text-align: right;\n",
       "    }\n",
       "</style>\n",
       "<table border=\"1\" class=\"dataframe\">\n",
       "  <thead>\n",
       "    <tr style=\"text-align: right;\">\n",
       "      <th></th>\n",
       "      <th>Survived</th>\n",
       "      <th>Pclass</th>\n",
       "      <th>Sex</th>\n",
       "      <th>Age</th>\n",
       "      <th>Fare</th>\n",
       "    </tr>\n",
       "  </thead>\n",
       "  <tbody>\n",
       "    <tr>\n",
       "      <th>0</th>\n",
       "      <td>0</td>\n",
       "      <td>3</td>\n",
       "      <td>male</td>\n",
       "      <td>34.50</td>\n",
       "      <td>7.83</td>\n",
       "    </tr>\n",
       "    <tr>\n",
       "      <th>1</th>\n",
       "      <td>1</td>\n",
       "      <td>3</td>\n",
       "      <td>female</td>\n",
       "      <td>47.00</td>\n",
       "      <td>7.00</td>\n",
       "    </tr>\n",
       "    <tr>\n",
       "      <th>2</th>\n",
       "      <td>0</td>\n",
       "      <td>2</td>\n",
       "      <td>male</td>\n",
       "      <td>62.00</td>\n",
       "      <td>9.69</td>\n",
       "    </tr>\n",
       "    <tr>\n",
       "      <th>3</th>\n",
       "      <td>0</td>\n",
       "      <td>3</td>\n",
       "      <td>male</td>\n",
       "      <td>27.00</td>\n",
       "      <td>8.66</td>\n",
       "    </tr>\n",
       "    <tr>\n",
       "      <th>4</th>\n",
       "      <td>1</td>\n",
       "      <td>3</td>\n",
       "      <td>female</td>\n",
       "      <td>22.00</td>\n",
       "      <td>12.29</td>\n",
       "    </tr>\n",
       "  </tbody>\n",
       "</table>\n",
       "</div>"
      ],
      "text/plain": [
       "   Survived  Pclass     Sex   Age  Fare\n",
       "0         0       3    male 34.50  7.83\n",
       "1         1       3  female 47.00  7.00\n",
       "2         0       2    male 62.00  9.69\n",
       "3         0       3    male 27.00  8.66\n",
       "4         1       3  female 22.00 12.29"
      ]
     },
     "execution_count": 42,
     "metadata": {},
     "output_type": "execute_result"
    }
   ],
   "source": [
    "dataset = data[['Survived', 'Pclass', 'Sex', 'Age', 'Fare']]\n",
    "dataset.head()"
   ]
  },
  {
   "cell_type": "markdown",
   "id": "64d00f0f-fde2-4866-856a-eece54123fad",
   "metadata": {},
   "source": [
    "<p> 10. Замінити бінарні ознаки (Стать) на 0 і 1 (але перевірте унікальні \n",
    "значення даного стовпчика).</p>"
   ]
  },
  {
   "cell_type": "code",
   "execution_count": 43,
   "id": "1c290e6a-873b-4517-b6e5-12c203e3f5b3",
   "metadata": {},
   "outputs": [
    {
     "data": {
      "text/plain": [
       "array(['male', 'female'], dtype=object)"
      ]
     },
     "execution_count": 43,
     "metadata": {},
     "output_type": "execute_result"
    }
   ],
   "source": [
    "dataset['Sex'].unique()"
   ]
  },
  {
   "cell_type": "code",
   "execution_count": 44,
   "id": "747da5db-49bb-40e8-83b6-c137e55ec2b6",
   "metadata": {},
   "outputs": [],
   "source": [
    "pd.set_option('future.no_silent_downcasting', True)\n",
    "dataset = dataset.replace({'Sex': {'male': 0, 'female': 1}})"
   ]
  },
  {
   "cell_type": "code",
   "execution_count": 45,
   "id": "07e8c9de-fbf9-4d59-9cbe-ccd4903a96f7",
   "metadata": {},
   "outputs": [
    {
     "data": {
      "text/html": [
       "<div>\n",
       "<style scoped>\n",
       "    .dataframe tbody tr th:only-of-type {\n",
       "        vertical-align: middle;\n",
       "    }\n",
       "\n",
       "    .dataframe tbody tr th {\n",
       "        vertical-align: top;\n",
       "    }\n",
       "\n",
       "    .dataframe thead th {\n",
       "        text-align: right;\n",
       "    }\n",
       "</style>\n",
       "<table border=\"1\" class=\"dataframe\">\n",
       "  <thead>\n",
       "    <tr style=\"text-align: right;\">\n",
       "      <th></th>\n",
       "      <th>Survived</th>\n",
       "      <th>Pclass</th>\n",
       "      <th>Sex</th>\n",
       "      <th>Age</th>\n",
       "      <th>Fare</th>\n",
       "    </tr>\n",
       "  </thead>\n",
       "  <tbody>\n",
       "    <tr>\n",
       "      <th>0</th>\n",
       "      <td>0</td>\n",
       "      <td>3</td>\n",
       "      <td>0</td>\n",
       "      <td>34.50</td>\n",
       "      <td>7.83</td>\n",
       "    </tr>\n",
       "    <tr>\n",
       "      <th>1</th>\n",
       "      <td>1</td>\n",
       "      <td>3</td>\n",
       "      <td>1</td>\n",
       "      <td>47.00</td>\n",
       "      <td>7.00</td>\n",
       "    </tr>\n",
       "    <tr>\n",
       "      <th>2</th>\n",
       "      <td>0</td>\n",
       "      <td>2</td>\n",
       "      <td>0</td>\n",
       "      <td>62.00</td>\n",
       "      <td>9.69</td>\n",
       "    </tr>\n",
       "    <tr>\n",
       "      <th>3</th>\n",
       "      <td>0</td>\n",
       "      <td>3</td>\n",
       "      <td>0</td>\n",
       "      <td>27.00</td>\n",
       "      <td>8.66</td>\n",
       "    </tr>\n",
       "    <tr>\n",
       "      <th>4</th>\n",
       "      <td>1</td>\n",
       "      <td>3</td>\n",
       "      <td>1</td>\n",
       "      <td>22.00</td>\n",
       "      <td>12.29</td>\n",
       "    </tr>\n",
       "  </tbody>\n",
       "</table>\n",
       "</div>"
      ],
      "text/plain": [
       "   Survived  Pclass Sex   Age  Fare\n",
       "0         0       3   0 34.50  7.83\n",
       "1         1       3   1 47.00  7.00\n",
       "2         0       2   0 62.00  9.69\n",
       "3         0       3   0 27.00  8.66\n",
       "4         1       3   1 22.00 12.29"
      ]
     },
     "execution_count": 45,
     "metadata": {},
     "output_type": "execute_result"
    }
   ],
   "source": [
    "dataset.head()"
   ]
  },
  {
   "cell_type": "markdown",
   "id": "61a9e5cb-a6fc-415c-a733-753a49c49a86",
   "metadata": {},
   "source": [
    "<p>11. Ще раз перевірити кількість пропущених даних (впевнитись, що їх \n",
    "немає)</p>"
   ]
  },
  {
   "cell_type": "code",
   "execution_count": 46,
   "id": "bb302e10-0dd5-4aba-af24-3a9734b68125",
   "metadata": {},
   "outputs": [
    {
     "data": {
      "text/plain": [
       "Survived    0\n",
       "Pclass      0\n",
       "Sex         0\n",
       "Age         0\n",
       "Fare        0\n",
       "dtype: int64"
      ]
     },
     "execution_count": 46,
     "metadata": {},
     "output_type": "execute_result"
    }
   ],
   "source": [
    "dataset.isnull().sum()"
   ]
  },
  {
   "cell_type": "markdown",
   "id": "17c89c34-a2ae-4899-ada0-d73b6c6becc0",
   "metadata": {},
   "source": [
    "<p>12.  Вивести 5 перших рядків датасету.  </p>"
   ]
  },
  {
   "cell_type": "code",
   "execution_count": 47,
   "id": "09506eab-a63c-4bf4-b056-b20f7885d4dd",
   "metadata": {},
   "outputs": [
    {
     "data": {
      "text/html": [
       "<div>\n",
       "<style scoped>\n",
       "    .dataframe tbody tr th:only-of-type {\n",
       "        vertical-align: middle;\n",
       "    }\n",
       "\n",
       "    .dataframe tbody tr th {\n",
       "        vertical-align: top;\n",
       "    }\n",
       "\n",
       "    .dataframe thead th {\n",
       "        text-align: right;\n",
       "    }\n",
       "</style>\n",
       "<table border=\"1\" class=\"dataframe\">\n",
       "  <thead>\n",
       "    <tr style=\"text-align: right;\">\n",
       "      <th></th>\n",
       "      <th>Survived</th>\n",
       "      <th>Pclass</th>\n",
       "      <th>Sex</th>\n",
       "      <th>Age</th>\n",
       "      <th>Fare</th>\n",
       "    </tr>\n",
       "  </thead>\n",
       "  <tbody>\n",
       "    <tr>\n",
       "      <th>0</th>\n",
       "      <td>0</td>\n",
       "      <td>3</td>\n",
       "      <td>0</td>\n",
       "      <td>34.50</td>\n",
       "      <td>7.83</td>\n",
       "    </tr>\n",
       "    <tr>\n",
       "      <th>1</th>\n",
       "      <td>1</td>\n",
       "      <td>3</td>\n",
       "      <td>1</td>\n",
       "      <td>47.00</td>\n",
       "      <td>7.00</td>\n",
       "    </tr>\n",
       "    <tr>\n",
       "      <th>2</th>\n",
       "      <td>0</td>\n",
       "      <td>2</td>\n",
       "      <td>0</td>\n",
       "      <td>62.00</td>\n",
       "      <td>9.69</td>\n",
       "    </tr>\n",
       "    <tr>\n",
       "      <th>3</th>\n",
       "      <td>0</td>\n",
       "      <td>3</td>\n",
       "      <td>0</td>\n",
       "      <td>27.00</td>\n",
       "      <td>8.66</td>\n",
       "    </tr>\n",
       "    <tr>\n",
       "      <th>4</th>\n",
       "      <td>1</td>\n",
       "      <td>3</td>\n",
       "      <td>1</td>\n",
       "      <td>22.00</td>\n",
       "      <td>12.29</td>\n",
       "    </tr>\n",
       "  </tbody>\n",
       "</table>\n",
       "</div>"
      ],
      "text/plain": [
       "   Survived  Pclass Sex   Age  Fare\n",
       "0         0       3   0 34.50  7.83\n",
       "1         1       3   1 47.00  7.00\n",
       "2         0       2   0 62.00  9.69\n",
       "3         0       3   0 27.00  8.66\n",
       "4         1       3   1 22.00 12.29"
      ]
     },
     "execution_count": 47,
     "metadata": {},
     "output_type": "execute_result"
    }
   ],
   "source": [
    "dataset.head()"
   ]
  },
  {
   "cell_type": "markdown",
   "id": "4f7eefa6-8551-4d32-a576-56d827039fa3",
   "metadata": {},
   "source": [
    "<p>13. Вивести 5 останніх рядків датасету.</p>"
   ]
  },
  {
   "cell_type": "code",
   "execution_count": 48,
   "id": "790629bd-347f-4591-b0a9-1383037f8582",
   "metadata": {},
   "outputs": [
    {
     "data": {
      "text/html": [
       "<div>\n",
       "<style scoped>\n",
       "    .dataframe tbody tr th:only-of-type {\n",
       "        vertical-align: middle;\n",
       "    }\n",
       "\n",
       "    .dataframe tbody tr th {\n",
       "        vertical-align: top;\n",
       "    }\n",
       "\n",
       "    .dataframe thead th {\n",
       "        text-align: right;\n",
       "    }\n",
       "</style>\n",
       "<table border=\"1\" class=\"dataframe\">\n",
       "  <thead>\n",
       "    <tr style=\"text-align: right;\">\n",
       "      <th></th>\n",
       "      <th>Survived</th>\n",
       "      <th>Pclass</th>\n",
       "      <th>Sex</th>\n",
       "      <th>Age</th>\n",
       "      <th>Fare</th>\n",
       "    </tr>\n",
       "  </thead>\n",
       "  <tbody>\n",
       "    <tr>\n",
       "      <th>413</th>\n",
       "      <td>0</td>\n",
       "      <td>3</td>\n",
       "      <td>0</td>\n",
       "      <td>30.27</td>\n",
       "      <td>8.05</td>\n",
       "    </tr>\n",
       "    <tr>\n",
       "      <th>414</th>\n",
       "      <td>1</td>\n",
       "      <td>1</td>\n",
       "      <td>1</td>\n",
       "      <td>39.00</td>\n",
       "      <td>108.90</td>\n",
       "    </tr>\n",
       "    <tr>\n",
       "      <th>415</th>\n",
       "      <td>0</td>\n",
       "      <td>3</td>\n",
       "      <td>0</td>\n",
       "      <td>38.50</td>\n",
       "      <td>7.25</td>\n",
       "    </tr>\n",
       "    <tr>\n",
       "      <th>416</th>\n",
       "      <td>0</td>\n",
       "      <td>3</td>\n",
       "      <td>0</td>\n",
       "      <td>30.27</td>\n",
       "      <td>8.05</td>\n",
       "    </tr>\n",
       "    <tr>\n",
       "      <th>417</th>\n",
       "      <td>0</td>\n",
       "      <td>3</td>\n",
       "      <td>0</td>\n",
       "      <td>30.27</td>\n",
       "      <td>22.36</td>\n",
       "    </tr>\n",
       "  </tbody>\n",
       "</table>\n",
       "</div>"
      ],
      "text/plain": [
       "     Survived  Pclass Sex   Age   Fare\n",
       "413         0       3   0 30.27   8.05\n",
       "414         1       1   1 39.00 108.90\n",
       "415         0       3   0 38.50   7.25\n",
       "416         0       3   0 30.27   8.05\n",
       "417         0       3   0 30.27  22.36"
      ]
     },
     "execution_count": 48,
     "metadata": {},
     "output_type": "execute_result"
    }
   ],
   "source": [
    "dataset.tail()"
   ]
  },
  {
   "cell_type": "markdown",
   "id": "a59bb2d0-2a01-4640-9d35-4783327e74a2",
   "metadata": {},
   "source": [
    "<p>14.  Аналіз виживання залежно від статі: Обчисліть відсоток виживання \r\n",
    "для кожної статі. Чи була різниця у виживанні між чоловіками та \r\n",
    "жінками?</p>"
   ]
  },
  {
   "cell_type": "code",
   "execution_count": 49,
   "id": "434a36ae-f92f-412d-bd42-ad51b7782274",
   "metadata": {},
   "outputs": [
    {
     "name": "stdout",
     "output_type": "stream",
     "text": [
      "Загальна к-сть виживших:  152\n"
     ]
    }
   ],
   "source": [
    "total = dataset[dataset['Survived']==1]['Survived'].count()\n",
    "print('Загальна к-сть виживших: ', total)"
   ]
  },
  {
   "cell_type": "code",
   "execution_count": 50,
   "id": "6e964028-44ba-413a-af6a-5c1e62906462",
   "metadata": {},
   "outputs": [
    {
     "data": {
      "text/plain": [
       "152"
      ]
     },
     "execution_count": 50,
     "metadata": {},
     "output_type": "execute_result"
    }
   ],
   "source": [
    "female_survived = dataset[(dataset['Sex'] == 1) & (dataset['Survived'] == 1)]['Sex'].count()\n",
    "female_survived"
   ]
  },
  {
   "cell_type": "code",
   "execution_count": 51,
   "id": "4a3acdf4-5a29-438f-a177-a917943af40c",
   "metadata": {},
   "outputs": [
    {
     "name": "stdout",
     "output_type": "stream",
     "text": [
      "0\n"
     ]
    }
   ],
   "source": [
    "male_survived = dataset[(dataset['Sex'] == 0) & (dataset['Survived'] == 1)]['Sex'].count()\n",
    "print(male_survived)"
   ]
  },
  {
   "cell_type": "code",
   "execution_count": 52,
   "id": "0be8b156-8de9-4798-9f76-69f7e3b2f145",
   "metadata": {},
   "outputs": [
    {
     "name": "stdout",
     "output_type": "stream",
     "text": [
      "Відсоток виживших чоловіків: 0.0\n"
     ]
    }
   ],
   "source": [
    "mshare = (male_survived/total)*100\n",
    "print('Відсоток виживших чоловіків:', mshare)"
   ]
  },
  {
   "cell_type": "code",
   "execution_count": 53,
   "id": "d05f758e-7c22-42bb-b488-2ae94f6cf26a",
   "metadata": {},
   "outputs": [
    {
     "name": "stdout",
     "output_type": "stream",
     "text": [
      "Відсоток виживших жінок: 100.0\n"
     ]
    }
   ],
   "source": [
    "fshare = (female_survived/total)*100\n",
    "print('Відсоток виживших жінок:', fshare)"
   ]
  },
  {
   "cell_type": "markdown",
   "id": "9be0c203-4ee2-400a-858f-7979df37b057",
   "metadata": {},
   "source": [
    "<p>З даного набору даних вижившими залишились тільки жінки</p> "
   ]
  },
  {
   "cell_type": "markdown",
   "id": "e833712b-fc05-4c3c-bea8-46d4a80fd519",
   "metadata": {},
   "source": [
    "<p>15. Обчисліть відсоток виживання для кожного класу (Pclass). Який \n",
    "клас мав найвищий рівень виживання (дати відповідь)?</p>"
   ]
  },
  {
   "cell_type": "code",
   "execution_count": 54,
   "id": "14f66b91-6cd7-4f24-90ae-9fb7cdbf43e0",
   "metadata": {},
   "outputs": [
    {
     "data": {
      "text/plain": [
       "array([3, 2, 1], dtype=int64)"
      ]
     },
     "execution_count": 54,
     "metadata": {},
     "output_type": "execute_result"
    }
   ],
   "source": [
    "dataset['Pclass'].unique()"
   ]
  },
  {
   "cell_type": "code",
   "execution_count": 55,
   "id": "72f16a6c-6346-4d0b-90bc-43baf4dc2fb2",
   "metadata": {},
   "outputs": [
    {
     "data": {
      "text/plain": [
       "Pclass\n",
       "1   46.73\n",
       "2   32.26\n",
       "3   33.03\n",
       "Name: Survived, dtype: float64"
      ]
     },
     "execution_count": 55,
     "metadata": {},
     "output_type": "execute_result"
    }
   ],
   "source": [
    "survival_rates = dataset.groupby('Pclass')['Survived'].mean() * 100\n",
    "survival_rates"
   ]
  },
  {
   "cell_type": "markdown",
   "id": "780ea11a-2135-4319-9c94-ac6644c0ef70",
   "metadata": {},
   "source": [
    "<p>Перший клас мав найвищий відсоток виживання</p>"
   ]
  },
  {
   "cell_type": "markdown",
   "id": "1c1e7d9a-5cd6-405a-968c-99506dc1735c",
   "metadata": {},
   "source": [
    "<p>16. Визначте середній вік тих, хто вижив, і тих, хто не вижив. Чи \r\n",
    "впливає вік на виживання (дати відповідь)? </p>"
   ]
  },
  {
   "cell_type": "code",
   "execution_count": 56,
   "id": "36c5db32-f616-4851-b821-7d28b0108a07",
   "metadata": {},
   "outputs": [],
   "source": [
    "survived = dataset[dataset['Survived']==1]\n",
    "died = dataset[dataset['Survived']==0]"
   ]
  },
  {
   "cell_type": "code",
   "execution_count": 57,
   "id": "ac6c4557-a679-43a6-b1c1-0479d7de70c1",
   "metadata": {},
   "outputs": [
    {
     "name": "stdout",
     "output_type": "stream",
     "text": [
      "Середній вік виживших:  30.27239973050095\n"
     ]
    }
   ],
   "source": [
    "print('Середній вік виживших: ', survived['Age'].mean())"
   ]
  },
  {
   "cell_type": "code",
   "execution_count": 58,
   "id": "c8c552b8-6940-47bc-a586-a1128c7ba79d",
   "metadata": {},
   "outputs": [
    {
     "name": "stdout",
     "output_type": "stream",
     "text": [
      "Середній вік невиживших:  30.272699293414263\n"
     ]
    }
   ],
   "source": [
    "print('Середній вік невиживших: ', died['Age'].mean())"
   ]
  },
  {
   "cell_type": "markdown",
   "id": "30c59c44-e6c8-4dd8-835d-e21ddd0041ac",
   "metadata": {},
   "source": [
    "<p>Середній вік між вижившими та невижившими майже не відрізняється. Тож вік ні на що не впливає</p>"
   ]
  },
  {
   "cell_type": "markdown",
   "id": "31635457-be12-480c-a1ff-a6192d86e55d",
   "metadata": {},
   "source": [
    "<p>17. Розподіліть пасажирів на групи за рівнями тарифів (Fare) і \n",
    "обчисліть рівень виживання для кожної групи. Як тариф впливав на \n",
    "шанси виживання (дати відповідь)?</p>"
   ]
  },
  {
   "cell_type": "code",
   "execution_count": 59,
   "id": "949ee282-cc58-4f21-85af-57b2d259b598",
   "metadata": {},
   "outputs": [
    {
     "name": "stdout",
     "output_type": "stream",
     "text": [
      "Рівень виживання для кожної групи тарифів:\n",
      "FareGroup\n",
      "Low           26.32\n",
      "Medium-Low    27.08\n",
      "Medium-High   39.05\n",
      "High          53.40\n",
      "Name: Survived, dtype: float64\n",
      "\n",
      "Група з найвищим рівнем виживання: High\n",
      "Відсоток виживання: 53.40%\n"
     ]
    },
    {
     "name": "stderr",
     "output_type": "stream",
     "text": [
      "C:\\Users\\User\\AppData\\Local\\Temp\\ipykernel_12128\\2863164899.py:3: FutureWarning: The default of observed=False is deprecated and will be changed to True in a future version of pandas. Pass observed=False to retain current behavior or observed=True to adopt the future default and silence this warning.\n",
      "  survival_rates = dataset.groupby('FareGroup')['Survived'].mean() * 100\n"
     ]
    }
   ],
   "source": [
    "dataset['FareGroup'] = pd.qcut(dataset['Fare'], q=4, labels=['Low', 'Medium-Low', 'Medium-High', 'High'])\n",
    "\n",
    "survival_rates = dataset.groupby('FareGroup')['Survived'].mean() * 100\n",
    "\n",
    "print(\"Рівень виживання для кожної групи тарифів:\")\n",
    "print(survival_rates)\n",
    "\n",
    "highest_survival_group = survival_rates.idxmax()\n",
    "highest_survival_rate = survival_rates.max()\n",
    "\n",
    "print(f\"\\nГрупа з найвищим рівнем виживання: {highest_survival_group}\")\n",
    "print(f\"Відсоток виживання: {highest_survival_rate:.2f}%\")"
   ]
  },
  {
   "cell_type": "markdown",
   "id": "28d35bfd-c52e-4aed-b69b-c7c7a1e5cbf9",
   "metadata": {},
   "source": [
    "<p>18. Аналіз класу та тарифу: Визначте середній тариф (Fare) для кожного \r\n",
    "класу (Pclass). Чи існує значна різниця у тарифах між класами (дати \r\n",
    "відповідь)? </p>"
   ]
  },
  {
   "cell_type": "code",
   "execution_count": 60,
   "id": "cb396f56-167f-4e53-a747-ca9f25741853",
   "metadata": {},
   "outputs": [
    {
     "name": "stdout",
     "output_type": "stream",
     "text": [
      "Середній тариф для кожного класу:\n",
      "Pclass\n",
      "1   94.28\n",
      "2   22.20\n",
      "3   12.57\n",
      "Name: Fare, dtype: float64\n",
      "\n",
      "Різниця між найвищим і найнижчим середнім тарифом: 81.71\n"
     ]
    }
   ],
   "source": [
    "average_fares = dataset.groupby('Pclass')['Fare'].mean()\n",
    "print(\"Середній тариф для кожного класу:\")\n",
    "print(average_fares)\n",
    "\n",
    "fare_difference = average_fares.max() - average_fares.min()\n",
    "\n",
    "print(f\"\\nРізниця між найвищим і найнижчим середнім тарифом: {fare_difference:.2f}\")"
   ]
  },
  {
   "cell_type": "markdown",
   "id": "a32998bd-8f51-441b-a303-cdd972184e55",
   "metadata": {},
   "source": [
    "<p>19. Обчисліть середній вік пасажирів для кожного класу (Pclass). Як вік \n",
    "пасажирів розподіляється за класами (дати відповідь)? </p>"
   ]
  },
  {
   "cell_type": "code",
   "execution_count": 61,
   "id": "052854d3-d056-4ec7-96a1-04df3d8ce649",
   "metadata": {},
   "outputs": [
    {
     "name": "stdout",
     "output_type": "stream",
     "text": [
      "Середній вік пасажирів для кожного класу:\n",
      "Pclass\n",
      "1   40.02\n",
      "2   28.86\n",
      "3   26.09\n",
      "Name: Age, dtype: float64\n",
      "\n",
      "Медіана віку пасажирів для кожного класу:\n",
      "Pclass\n",
      "1   39.00\n",
      "2   28.00\n",
      "3   29.50\n",
      "Name: Age, dtype: float64\n"
     ]
    }
   ],
   "source": [
    "average_age = dataset.groupby('Pclass')['Age'].mean()\n",
    "\n",
    "print(\"Середній вік пасажирів для кожного класу:\")\n",
    "print(average_age)\n",
    "median_age = dataset.groupby('Pclass')['Age'].median()\n",
    "\n",
    "print(\"\\nМедіана віку пасажирів для кожного класу:\")\n",
    "print(median_age)"
   ]
  },
  {
   "cell_type": "markdown",
   "id": "0bd0bc21-39dc-4fc4-af3c-852617d8b553",
   "metadata": {},
   "source": [
    "<p> 20. Побудуйте гістограму розподілу віку для тих, хто вижив, і тих, хто \n",
    "не вижив. Чи є видимі відмінності у вікових групах (дати \n",
    "відповідь)? </p>"
   ]
  },
  {
   "cell_type": "code",
   "execution_count": 62,
   "id": "e8826754-aaac-44a5-9ddf-90b84db640a3",
   "metadata": {},
   "outputs": [
    {
     "data": {
      "image/png": "[encoded data removed]",
      "text/plain": [
       "<Figure size 1200x500 with 2 Axes>"
      ]
     },
     "metadata": {},
     "output_type": "display_data"
    }
   ],
   "source": [
    "fig, (ax1, ax2) = plt.subplots(1, 2, figsize=(12, 5))\n",
    "\n",
    "ax1.hist(dataset[dataset['Survived'] == 1]['Age'], bins=20, edgecolor='black')\n",
    "ax1.set_title('Розподіл віку тих, хто вижив')\n",
    "ax1.set_xlabel('Вік')\n",
    "ax1.set_ylabel('Кількість пасажирів')\n",
    "\n",
    "ax2.hist(dataset[dataset['Survived'] == 0]['Age'], bins=20, edgecolor='black')\n",
    "ax2.set_title('Розподіл віку тих, хто не вижив')\n",
    "ax2.set_xlabel('Вік')\n",
    "ax2.set_ylabel('Кількість пасажирів')\n",
    "\n",
    "plt.tight_layout()\n",
    "plt.show()"
   ]
  },
  {
   "cell_type": "markdown",
   "id": "f97d1f66-5410-4f6b-8080-77b4589b1f57",
   "metadata": {},
   "source": [
    "<p>Найбільша кількість людей серед виживших належить до категорії віком від 20-30. Серед загиблих - також від 20-30.</p>"
   ]
  },
  {
   "cell_type": "markdown",
   "id": "4c60e6af-68f3-4548-a07a-9f1749c6f422",
   "metadata": {},
   "source": [
    "<p>21. Обчисліть відсоток виживання для кожної комбінації статі та класу \n",
    "(наприклад, жінки в 1-му класі, чоловіки в 3-му класі). Яка група \n",
    "мала найвищий рівень виживання (дати відповідь)?</p>"
   ]
  },
  {
   "cell_type": "code",
   "execution_count": 63,
   "id": "d07dc27c-3eb2-484f-9bfc-0357afb03fee",
   "metadata": {},
   "outputs": [
    {
     "name": "stdout",
     "output_type": "stream",
     "text": [
      "Відсоток виживання для кожної комбінації статі та класу:\n",
      "Sex  Pclass\n",
      "0    1          0.00\n",
      "     2          0.00\n",
      "     3          0.00\n",
      "1    1        100.00\n",
      "     2        100.00\n",
      "     3        100.00\n",
      "Name: Survived, dtype: float64\n"
     ]
    }
   ],
   "source": [
    "survival_rates = dataset.groupby(['Sex', 'Pclass'])['Survived'].mean() * 100\n",
    "\n",
    "print(\"Відсоток виживання для кожної комбінації статі та класу:\")\n",
    "print(survival_rates)\n",
    "\n",
    "highest_survival_group = survival_rates.idxmax()\n",
    "highest_survival_rate = survival_rates.max()"
   ]
  },
  {
   "cell_type": "markdown",
   "id": "d1da3011-6ebb-40b2-92c3-ce0aa5d7c20b",
   "metadata": {},
   "source": [
    "<p>Для чоловіків у всіх класах (1, 2, 3) відсоток виживання 0%. Для жінок у всіх класах (1, 2, 3) відсоток виживання 100%</p>"
   ]
  },
  {
   "cell_type": "markdown",
   "id": "a74b6d00-6e01-47e2-a7b0-05445b478b2c",
   "metadata": {},
   "source": [
    "<p>22.  Обчисліть кореляцію між усіма числовими змінними (Survived, \n",
    "Pclass, Age, Fare). Які змінні найбільш сильно корелюють з \n",
    "виживанням (дати відповідь)?</p>"
   ]
  },
  {
   "cell_type": "code",
   "execution_count": 64,
   "id": "d1adc116-42e5-4683-b148-47b929a9e542",
   "metadata": {},
   "outputs": [
    {
     "data": {
      "image/png": "[encoded data removed]",
      "text/plain": [
       "<Figure size 1000x800 with 2 Axes>"
      ]
     },
     "metadata": {},
     "output_type": "display_data"
    },
    {
     "name": "stdout",
     "output_type": "stream",
     "text": [
      "Кореляції з виживанням:\n",
      "Survived    1.00\n",
      "Fare        0.19\n",
      "Age        -0.00\n",
      "Pclass     -0.11\n",
      "Name: Survived, dtype: float64\n"
     ]
    }
   ],
   "source": [
    "import seaborn as sns\n",
    "import matplotlib.pyplot as plt\n",
    "\n",
    "correlation_matrix = dataset[['Survived', 'Pclass', 'Age', 'Fare']].corr()\n",
    "\n",
    "plt.figure(figsize=(10, 8))\n",
    "sns.heatmap(correlation_matrix, annot=True, cmap='coolwarm', vmin=-1, vmax=1, center=0)\n",
    "plt.title('Кореляційна матриця')\n",
    "plt.show()\n",
    "\n",
    "survival_correlations = correlation_matrix['Survived'].sort_values(ascending=False)\n",
    "print(\"Кореляції з виживанням:\")\n",
    "print(survival_correlations)"
   ]
  },
  {
   "cell_type": "markdown",
   "id": "46a060ab-a757-4ce4-8521-3c1c44485cfc",
   "metadata": {},
   "source": [
    "<p>Тариф - має найсильнішу позитивну кореляцію з виживанням. Класс - має слабку негативну кореляцію з виживанням. Вік - практично відсутня кореляція з виживанням.</p>"
   ]
  },
  {
   "cell_type": "markdown",
   "id": "897a9e65-f831-4798-9064-1eb310d5b4c5",
   "metadata": {},
   "source": [
    "<p>Висновки:\n",
    "<ul>\n",
    "<li>було проаналізовано датасет Титанік з 418 рядками та 12 стовпців</li>\n",
    "<li>з даного датасету 100% виживших були жінки</li>\n",
    "<li>найбільша к-сть виживших належить до 1-го класу</li>\n",
    "<li>найбільша к-сть виживших віком від 20 до 30 років</li>\n",
    "    <li>найсильніша позитивна кореляція виживання - з тарифом </li>\n",
    "</ul>\n",
    "</p>"
   ]
  },
  {
   "cell_type": "code",
   "execution_count": null,
   "id": "fc45d2b8-ca0c-4057-ba03-1e6d12592c5a",
   "metadata": {},
   "outputs": [],
   "source": []
  }
 ],
 "metadata": {
  "kernelspec": {
   "display_name": "Python 3 (ipykernel)",
   "language": "python",
   "name": "python3"
  },
  "language_info": {
   "codemirror_mode": {
    "name": "ipython",
    "version": 3
   },
   "file_extension": ".py",
   "mimetype": "text/x-python",
   "name": "python",
   "nbconvert_exporter": "python",
   "pygments_lexer": "ipython3",
   "version": "3.12.0"
  }
 },
 "nbformat": 4,
 "nbformat_minor": 5
}
