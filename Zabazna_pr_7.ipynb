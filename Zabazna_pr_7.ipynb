{
  "cells": [
    {
      "cell_type": "markdown",
      "metadata": {
        "id": "view-in-github",
        "colab_type": "text"
      },
      "source": [
        "<a href=\"https://colab.research.google.com/github/katerynazabazna/Machine-Learning-SUTE/blob/main/Zabazna_pr_7.ipynb\" target=\"_parent\"><img src=\"https://colab.research.google.com/assets/colab-badge.svg\" alt=\"Open In Colab\"/></a>"
      ]
    },
    {
      "cell_type": "markdown",
      "id": "77a3cfca-8873-46ef-9e12-bbb1548ef7fc",
      "metadata": {
        "id": "77a3cfca-8873-46ef-9e12-bbb1548ef7fc"
      },
      "source": [
        "## Лабораторна 7"
      ]
    },
    {
      "cell_type": "code",
      "source": [
        "pip install scikit-surprise"
      ],
      "metadata": {
        "colab": {
          "base_uri": "https://localhost:8080/"
        },
        "id": "GW5yOvTiOXqc",
        "outputId": "d6a0755a-61e2-4ec0-ec1a-d8a07424776d"
      },
      "id": "GW5yOvTiOXqc",
      "execution_count": 1,
      "outputs": [
        {
          "output_type": "stream",
          "name": "stdout",
          "text": [
            "Collecting scikit-surprise\n",
            "  Downloading scikit_surprise-1.1.4.tar.gz (154 kB)\n",
            "\u001b[?25l     \u001b[90m━━━━━━━━━━━━━━━━━━━━━━━━━━━━━━━━━━━━━━━━\u001b[0m \u001b[32m0.0/154.4 kB\u001b[0m \u001b[31m?\u001b[0m eta \u001b[36m-:--:--\u001b[0m\r\u001b[2K     \u001b[90m━━━━━━━━━━━━━━━━━━━━━━━━━━━━━━━━━━━━━━━━\u001b[0m \u001b[32m154.4/154.4 kB\u001b[0m \u001b[31m8.7 MB/s\u001b[0m eta \u001b[36m0:00:00\u001b[0m\n",
            "\u001b[?25h  Installing build dependencies ... \u001b[?25l\u001b[?25hdone\n",
            "  Getting requirements to build wheel ... \u001b[?25l\u001b[?25hdone\n",
            "  Preparing metadata (pyproject.toml) ... \u001b[?25l\u001b[?25hdone\n",
            "Requirement already satisfied: joblib>=1.2.0 in /usr/local/lib/python3.10/dist-packages (from scikit-surprise) (1.4.2)\n",
            "Requirement already satisfied: numpy>=1.19.5 in /usr/local/lib/python3.10/dist-packages (from scikit-surprise) (1.26.4)\n",
            "Requirement already satisfied: scipy>=1.6.0 in /usr/local/lib/python3.10/dist-packages (from scikit-surprise) (1.13.1)\n",
            "Building wheels for collected packages: scikit-surprise\n",
            "  Building wheel for scikit-surprise (pyproject.toml) ... \u001b[?25l\u001b[?25hdone\n",
            "  Created wheel for scikit-surprise: filename=scikit_surprise-1.1.4-cp310-cp310-linux_x86_64.whl size=2357275 sha256=2a66bbf7cd3308c937775d07c21f79a350fead479d17ab88d12f311d0c38a8e6\n",
            "  Stored in directory: /root/.cache/pip/wheels/4b/3f/df/6acbf0a40397d9bf3ff97f582cc22fb9ce66adde75bc71fd54\n",
            "Successfully built scikit-surprise\n",
            "Installing collected packages: scikit-surprise\n",
            "Successfully installed scikit-surprise-1.1.4\n"
          ]
        }
      ]
    },
    {
      "cell_type": "markdown",
      "id": "b7db5c2d-145f-45ae-b1ea-1f226b1d1aeb",
      "metadata": {
        "id": "b7db5c2d-145f-45ae-b1ea-1f226b1d1aeb"
      },
      "source": [
        "### Завдання 1"
      ]
    },
    {
      "cell_type": "markdown",
      "id": "933406d7-242b-41cc-bb10-6dc5f49a0530",
      "metadata": {
        "id": "933406d7-242b-41cc-bb10-6dc5f49a0530"
      },
      "source": [
        "<p>1. Завантажте датасет для рецензій  (ml-100k) за допомогою бібліотеки\n",
        "Surprise. </p>"
      ]
    },
    {
      "cell_type": "code",
      "execution_count": 2,
      "id": "1a6660de-1bae-4f33-93da-66d552ba0c2d",
      "metadata": {
        "id": "1a6660de-1bae-4f33-93da-66d552ba0c2d"
      },
      "outputs": [],
      "source": [
        "from surprise import Dataset, accuracy\n",
        "from surprise import SVD, KNNBasic\n",
        "from surprise.model_selection import cross_validate, train_test_split, GridSearchCV\n",
        "import pandas as pd\n",
        "import numpy as np\n",
        "from collections import defaultdict\n",
        "from surprise import AlgoBase, Dataset, PredictionImpossible"
      ]
    },
    {
      "cell_type": "code",
      "execution_count": 3,
      "id": "1fbdaeba-19e2-4a31-b603-ebb1f95c495d",
      "metadata": {
        "id": "1fbdaeba-19e2-4a31-b603-ebb1f95c495d",
        "colab": {
          "base_uri": "https://localhost:8080/"
        },
        "outputId": "3fee7439-4d07-464c-eab0-00462b8f8b8b"
      },
      "outputs": [
        {
          "output_type": "stream",
          "name": "stdout",
          "text": [
            "Dataset ml-100k could not be found. Do you want to download it? [Y/n] y\n",
            "Trying to download dataset from https://files.grouplens.org/datasets/movielens/ml-100k.zip...\n",
            "Done! Dataset ml-100k has been saved to /root/.surprise_data/ml-100k\n"
          ]
        }
      ],
      "source": [
        "data = Dataset.load_builtin('ml-100k')"
      ]
    },
    {
      "cell_type": "markdown",
      "source": [
        "<p>2. Виведіть перші 5 рядків завантаженого датасету.</p>"
      ],
      "metadata": {
        "id": "Gctja7RpOMNr"
      },
      "id": "Gctja7RpOMNr"
    },
    {
      "cell_type": "code",
      "execution_count": 4,
      "id": "3368247c-eb9d-4759-9aab-b61d39da8796",
      "metadata": {
        "colab": {
          "base_uri": "https://localhost:8080/"
        },
        "id": "3368247c-eb9d-4759-9aab-b61d39da8796",
        "outputId": "05abe90e-6f32-4e1f-8f57-949e582dad1b"
      },
      "outputs": [
        {
          "output_type": "stream",
          "name": "stdout",
          "text": [
            "  user_id item_id  rating  timestamp\n",
            "0     196     242     3.0  881250949\n",
            "1     186     302     3.0  891717742\n",
            "2      22     377     1.0  878887116\n",
            "3     244      51     2.0  880606923\n",
            "4     166     346     1.0  886397596\n"
          ]
        }
      ],
      "source": [
        "all_ratings = data.raw_ratings\n",
        "df = pd.DataFrame(all_ratings, columns=['user_id', 'item_id', 'rating', 'timestamp'])\n",
        "print(df.head())"
      ]
    },
    {
      "cell_type": "markdown",
      "source": [
        "<p>3. Реалізуйте два алгоритми для рекомендаційної системи на основі цього\n",
        "датасету. Можна вибрати будь-які алгоритми з бібліотеки Surprise.</p>"
      ],
      "metadata": {
        "id": "4hsbOzCHP0lR"
      },
      "id": "4hsbOzCHP0lR"
    },
    {
      "cell_type": "code",
      "execution_count": 5,
      "id": "7d0f9f46-a738-422b-81d2-41407e8a328e",
      "metadata": {
        "id": "7d0f9f46-a738-422b-81d2-41407e8a328e"
      },
      "outputs": [],
      "source": [
        "trainset, testset = train_test_split(data, test_size=0.25)\n",
        "\n",
        "algo1 = SVD()\n",
        "algo2 = KNNBasic()"
      ]
    },
    {
      "cell_type": "markdown",
      "source": [
        "<p>4. Використайте крос-валідацію для підбору оптимальних параметрів для\n",
        "обох алгоритмів.</p>"
      ],
      "metadata": {
        "id": "GGk3q547esn2"
      },
      "id": "GGk3q547esn2"
    },
    {
      "cell_type": "markdown",
      "source": [
        "<p>Для початку використаємо GridSearchCV.</p>"
      ],
      "metadata": {
        "id": "rUKwWm4aJgsy"
      },
      "id": "rUKwWm4aJgsy"
    },
    {
      "cell_type": "markdown",
      "source": [
        "<p>Для SVD</p>"
      ],
      "metadata": {
        "id": "S7-guQncnkPA"
      },
      "id": "S7-guQncnkPA"
    },
    {
      "cell_type": "code",
      "source": [
        "param_grid = {'n_epochs': [5, 10, 20], 'lr_all': [0.002, 0.005], 'reg_all': [0.4, 0.6]}\n",
        "gs_svd = GridSearchCV(SVD, param_grid, measures=['mae'], cv=5)\n",
        "gs_svd.fit(data)\n",
        "print(\"Найкращі параметри для SVD:\", gs_svd.best_params['mae'])"
      ],
      "metadata": {
        "colab": {
          "base_uri": "https://localhost:8080/"
        },
        "id": "ViyCuMr0npIA",
        "outputId": "5d4d5c28-941a-467f-ee17-c91921f37472"
      },
      "id": "ViyCuMr0npIA",
      "execution_count": 6,
      "outputs": [
        {
          "output_type": "stream",
          "name": "stdout",
          "text": [
            "Найкращі параметри для SVD: {'n_epochs': 20, 'lr_all': 0.005, 'reg_all': 0.4}\n"
          ]
        }
      ]
    },
    {
      "cell_type": "markdown",
      "source": [
        "<p>Для KNNBasic</p>"
      ],
      "metadata": {
        "id": "ZxNwi51anRZ6"
      },
      "id": "ZxNwi51anRZ6"
    },
    {
      "cell_type": "code",
      "execution_count": 7,
      "id": "d97af864-b1b3-4d82-8597-040772ca8c40",
      "metadata": {
        "id": "d97af864-b1b3-4d82-8597-040772ca8c40",
        "colab": {
          "base_uri": "https://localhost:8080/"
        },
        "outputId": "16d6a5a1-2f6f-41c4-8007-9f7b6191849d"
      },
      "outputs": [
        {
          "output_type": "stream",
          "name": "stdout",
          "text": [
            "Computing the msd similarity matrix...\n",
            "Done computing similarity matrix.\n",
            "Computing the msd similarity matrix...\n",
            "Done computing similarity matrix.\n",
            "Computing the msd similarity matrix...\n",
            "Done computing similarity matrix.\n",
            "Computing the msd similarity matrix...\n",
            "Done computing similarity matrix.\n",
            "Computing the msd similarity matrix...\n",
            "Done computing similarity matrix.\n",
            "Computing the msd similarity matrix...\n",
            "Done computing similarity matrix.\n",
            "Computing the msd similarity matrix...\n",
            "Done computing similarity matrix.\n",
            "Computing the msd similarity matrix...\n",
            "Done computing similarity matrix.\n",
            "Computing the msd similarity matrix...\n",
            "Done computing similarity matrix.\n",
            "Computing the msd similarity matrix...\n",
            "Done computing similarity matrix.\n",
            "Computing the cosine similarity matrix...\n",
            "Done computing similarity matrix.\n",
            "Computing the cosine similarity matrix...\n",
            "Done computing similarity matrix.\n",
            "Computing the cosine similarity matrix...\n",
            "Done computing similarity matrix.\n",
            "Computing the cosine similarity matrix...\n",
            "Done computing similarity matrix.\n",
            "Computing the cosine similarity matrix...\n",
            "Done computing similarity matrix.\n",
            "Computing the cosine similarity matrix...\n",
            "Done computing similarity matrix.\n",
            "Computing the cosine similarity matrix...\n",
            "Done computing similarity matrix.\n",
            "Computing the cosine similarity matrix...\n",
            "Done computing similarity matrix.\n",
            "Computing the cosine similarity matrix...\n",
            "Done computing similarity matrix.\n",
            "Computing the cosine similarity matrix...\n",
            "Done computing similarity matrix.\n",
            "Computing the msd similarity matrix...\n",
            "Done computing similarity matrix.\n",
            "Computing the msd similarity matrix...\n",
            "Done computing similarity matrix.\n",
            "Computing the msd similarity matrix...\n",
            "Done computing similarity matrix.\n",
            "Computing the msd similarity matrix...\n",
            "Done computing similarity matrix.\n",
            "Computing the msd similarity matrix...\n",
            "Done computing similarity matrix.\n",
            "Computing the msd similarity matrix...\n",
            "Done computing similarity matrix.\n",
            "Computing the msd similarity matrix...\n",
            "Done computing similarity matrix.\n",
            "Computing the msd similarity matrix...\n",
            "Done computing similarity matrix.\n",
            "Computing the msd similarity matrix...\n",
            "Done computing similarity matrix.\n",
            "Computing the msd similarity matrix...\n",
            "Done computing similarity matrix.\n",
            "Computing the cosine similarity matrix...\n",
            "Done computing similarity matrix.\n",
            "Computing the cosine similarity matrix...\n",
            "Done computing similarity matrix.\n",
            "Computing the cosine similarity matrix...\n",
            "Done computing similarity matrix.\n",
            "Computing the cosine similarity matrix...\n",
            "Done computing similarity matrix.\n",
            "Computing the cosine similarity matrix...\n",
            "Done computing similarity matrix.\n",
            "Computing the cosine similarity matrix...\n",
            "Done computing similarity matrix.\n",
            "Computing the cosine similarity matrix...\n",
            "Done computing similarity matrix.\n",
            "Computing the cosine similarity matrix...\n",
            "Done computing similarity matrix.\n",
            "Computing the cosine similarity matrix...\n",
            "Done computing similarity matrix.\n",
            "Computing the cosine similarity matrix...\n",
            "Done computing similarity matrix.\n",
            "Computing the msd similarity matrix...\n",
            "Done computing similarity matrix.\n",
            "Computing the msd similarity matrix...\n",
            "Done computing similarity matrix.\n",
            "Computing the msd similarity matrix...\n",
            "Done computing similarity matrix.\n",
            "Computing the msd similarity matrix...\n",
            "Done computing similarity matrix.\n",
            "Computing the msd similarity matrix...\n",
            "Done computing similarity matrix.\n",
            "Computing the msd similarity matrix...\n",
            "Done computing similarity matrix.\n",
            "Computing the msd similarity matrix...\n",
            "Done computing similarity matrix.\n",
            "Computing the msd similarity matrix...\n",
            "Done computing similarity matrix.\n",
            "Computing the msd similarity matrix...\n",
            "Done computing similarity matrix.\n",
            "Computing the msd similarity matrix...\n",
            "Done computing similarity matrix.\n",
            "Computing the cosine similarity matrix...\n",
            "Done computing similarity matrix.\n",
            "Computing the cosine similarity matrix...\n",
            "Done computing similarity matrix.\n",
            "Computing the cosine similarity matrix...\n",
            "Done computing similarity matrix.\n",
            "Computing the cosine similarity matrix...\n",
            "Done computing similarity matrix.\n",
            "Computing the cosine similarity matrix...\n",
            "Done computing similarity matrix.\n",
            "Computing the cosine similarity matrix...\n",
            "Done computing similarity matrix.\n",
            "Computing the cosine similarity matrix...\n",
            "Done computing similarity matrix.\n",
            "Computing the cosine similarity matrix...\n",
            "Done computing similarity matrix.\n",
            "Computing the cosine similarity matrix...\n",
            "Done computing similarity matrix.\n",
            "Computing the cosine similarity matrix...\n",
            "Done computing similarity matrix.\n",
            "Найкращі параметри для KNNBasic: {'k': 40, 'sim_options': {'name': 'msd', 'user_based': False}}\n"
          ]
        }
      ],
      "source": [
        "param_grid = {'k': [20, 40, 60], 'sim_options': {'name': ['msd', 'cosine'], 'user_based': [True, False]}}\n",
        "gs_knn = GridSearchCV(KNNBasic, param_grid, measures=['mae'], cv=5)\n",
        "gs_knn.fit(data)\n",
        "print(\"Найкращі параметри для KNNBasic:\", gs_knn.best_params['mae'])"
      ]
    },
    {
      "cell_type": "markdown",
      "source": [
        "<p>5. Оберіть найкращий алгоритм на основі середньої абсолютної помилки\n",
        "(MAE). </p>"
      ],
      "metadata": {
        "id": "kY9CffJtpyW2"
      },
      "id": "kY9CffJtpyW2"
    },
    {
      "cell_type": "code",
      "execution_count": 8,
      "id": "72f76485-0634-42ab-89b2-925f3efeb37a",
      "metadata": {
        "id": "72f76485-0634-42ab-89b2-925f3efeb37a",
        "colab": {
          "base_uri": "https://localhost:8080/"
        },
        "outputId": "f9812107-1a65-4f48-dd48-b12e829d5c24"
      },
      "outputs": [
        {
          "output_type": "stream",
          "name": "stdout",
          "text": [
            "Computing the msd similarity matrix...\n",
            "Done computing similarity matrix.\n",
            "Computing the msd similarity matrix...\n",
            "Done computing similarity matrix.\n",
            "Computing the msd similarity matrix...\n",
            "Done computing similarity matrix.\n",
            "Computing the msd similarity matrix...\n",
            "Done computing similarity matrix.\n",
            "Computing the msd similarity matrix...\n",
            "Done computing similarity matrix.\n",
            "MAE для KNNBasic: 0.7692157466494562\n",
            "MAE для SVD: 0.7658733590811186\n",
            "Найкращий алгоритм: SVD\n"
          ]
        }
      ],
      "source": [
        "best_knn = gs_knn.best_estimator['mae']\n",
        "best_svd = gs_svd.best_estimator['mae']\n",
        "\n",
        "results_knn = cross_validate(best_knn, data, measures=['mae'], cv=5, verbose=False)\n",
        "results_svd = cross_validate(best_svd, data, measures=['mae'], cv=5, verbose=False)\n",
        "\n",
        "mae_knn = results_knn['test_mae'].mean()\n",
        "mae_svd = results_svd['test_mae'].mean()\n",
        "\n",
        "print(f\"MAE для KNNBasic: {mae_knn}\")\n",
        "print(f\"MAE для SVD: {mae_svd}\")\n",
        "\n",
        "best_algo = best_knn if mae_knn < mae_svd else best_svd\n",
        "print(f\"Найкращий алгоритм: {'KNNBasic' if mae_knn < mae_svd else 'SVD'}\")"
      ]
    },
    {
      "cell_type": "markdown",
      "source": [
        "<p>6. Виведи рекомендації (10 фільмів) для конкретного користувача.</p>"
      ],
      "metadata": {
        "id": "9jpoFb97qYNr"
      },
      "id": "9jpoFb97qYNr"
    },
    {
      "cell_type": "code",
      "execution_count": 9,
      "id": "b7b2be8a-9757-49f0-ad2a-5b5ea85854d6",
      "metadata": {
        "id": "b7b2be8a-9757-49f0-ad2a-5b5ea85854d6",
        "colab": {
          "base_uri": "https://localhost:8080/"
        },
        "outputId": "cdcb442f-a699-4c1c-a2e3-1792807aef8b"
      },
      "outputs": [
        {
          "output_type": "stream",
          "name": "stdout",
          "text": [
            "Рекомендації для користувача 196:\n",
            "Фільм: 408, Очікуваний рейтинг: 4.26\n",
            "Фільм: 169, Очікуваний рейтинг: 4.23\n",
            "Фільм: 318, Очікуваний рейтинг: 4.22\n",
            "Фільм: 64, Очікуваний рейтинг: 4.19\n",
            "Фільм: 114, Очікуваний рейтинг: 4.17\n",
            "Фільм: 483, Очікуваний рейтинг: 4.16\n",
            "Фільм: 12, Очікуваний рейтинг: 4.15\n",
            "Фільм: 1449, Очікуваний рейтинг: 4.13\n",
            "Фільм: 603, Очікуваний рейтинг: 4.13\n",
            "Фільм: 178, Очікуваний рейтинг: 4.11\n"
          ]
        }
      ],
      "source": [
        "def get_top_n(predictions, n=10):\n",
        "    # Створюємо словник для рекомендацій {user_id: [топ фільми]}\n",
        "    top_n = defaultdict(list)\n",
        "\n",
        "    for uid, iid, true_r, est, _ in predictions:\n",
        "        top_n[uid].append((iid, est))\n",
        "\n",
        "    # Сортуємо фільми за рейтингом та вибираємо топ-n\n",
        "    for uid, user_ratings in top_n.items():\n",
        "        user_ratings.sort(key=lambda x: x[1], reverse=True)\n",
        "        top_n[uid] = user_ratings[:n]\n",
        "\n",
        "    return top_n\n",
        "\n",
        "# Використовуємо найкращий алгоритм (наприклад, SVD) для рекомендацій\n",
        "best_algo = gs_svd.best_estimator['mae']\n",
        "trainset = data.build_full_trainset()\n",
        "best_algo.fit(trainset)\n",
        "\n",
        "# Робимо передбачення для всіх користувачів\n",
        "testset = trainset.build_anti_testset()\n",
        "predictions = best_algo.test(testset)\n",
        "\n",
        "# Отримуємо топ 10 фільмів для кожного користувача\n",
        "top_n = get_top_n(predictions, n=10)\n",
        "\n",
        "# Виведемо рекомендації для конкретного користувача\n",
        "user_id = '196'  # приклад користувача\n",
        "print(f\"Рекомендації для користувача {user_id}:\")\n",
        "for iid, est in top_n[user_id]:\n",
        "    print(f\"Фільм: {iid}, Очікуваний рейтинг: {est:.2f}\")"
      ]
    },
    {
      "cell_type": "markdown",
      "source": [
        "## Завдання 2"
      ],
      "metadata": {
        "id": "vphCb2MCXd0I"
      },
      "id": "vphCb2MCXd0I"
    },
    {
      "cell_type": "code",
      "source": [
        "from surprise import Dataset, Reader, Trainset\n",
        "from surprise.model_selection import train_test_split\n",
        "\n",
        "# Завантаження датасету ml-100k\n",
        "data = Dataset.load_builtin('ml-100k')\n",
        "\n",
        "# Розбиваємо дані на тренувальний та тестовий набори\n",
        "trainset, testset = train_test_split(data, test_size=0.2)"
      ],
      "metadata": {
        "id": "IgXHp6YQZHXn"
      },
      "id": "IgXHp6YQZHXn",
      "execution_count": 11,
      "outputs": []
    },
    {
      "cell_type": "code",
      "source": [
        "import numpy as np\n",
        "from surprise import AlgoBase, PredictionImpossible\n",
        "\n",
        "class MyOwnAlgorithm(AlgoBase):\n",
        "    def __init__(self):\n",
        "        # Викликаємо конструктор базового класу\n",
        "        AlgoBase.__init__(self)\n",
        "\n",
        "    def fit(self, trainset):\n",
        "        # Викликаємо метод базового класу\n",
        "        AlgoBase.fit(self, trainset)\n",
        "\n",
        "        # Обчислюємо середній рейтинг всіх оцінок\n",
        "        self.global_mean = np.mean([r for (_, _, r) in self.trainset.all_ratings()])\n",
        "\n",
        "        return self\n",
        "\n",
        "    def estimate(self, u, i):\n",
        "        # Якщо користувач або елемент не відомий в тренувальному наборі\n",
        "        if not self.trainset.knows_user(u) or not self.trainset.knows_item(i):\n",
        "            raise PredictionImpossible(\"Користувач або елемент невідомий.\")\n",
        "\n",
        "        # Повертаємо глобальне середнє як прогноз\n",
        "        return self.global_mean"
      ],
      "metadata": {
        "id": "sV9A3_KfcUy8"
      },
      "id": "sV9A3_KfcUy8",
      "execution_count": 12,
      "outputs": []
    },
    {
      "cell_type": "code",
      "source": [
        "from surprise import accuracy\n",
        "from surprise.model_selection import KFold\n",
        "\n",
        "# Створюємо екземпляр нашого алгоритму\n",
        "my_algo = MyOwnAlgorithm()\n",
        "\n",
        "# Використовуємо перехресну перевірку\n",
        "kf = KFold(n_splits=3)\n",
        "\n",
        "for trainset, testset in kf.split(data):\n",
        "    my_algo.fit(trainset)\n",
        "    predictions = my_algo.test(testset)\n",
        "    accuracy.mae(predictions)"
      ],
      "metadata": {
        "colab": {
          "base_uri": "https://localhost:8080/"
        },
        "id": "7zptaIh9cXue",
        "outputId": "f162f578-5a22-48ed-ef11-bbef2f2bd3ce"
      },
      "id": "7zptaIh9cXue",
      "execution_count": 13,
      "outputs": [
        {
          "output_type": "stream",
          "name": "stdout",
          "text": [
            "MAE:  0.9432\n",
            "MAE:  0.9466\n",
            "MAE:  0.9444\n"
          ]
        }
      ]
    },
    {
      "cell_type": "code",
      "source": [
        "user_id = str(17)\n",
        "user_inner_id = my_algo.trainset.to_inner_uid(user_id)\n",
        "\n",
        "# Створюємо список всіх фільмів\n",
        "all_items = my_algo.trainset.all_items()\n",
        "\n",
        "# Робимо прогнози для всіх фільмів для користувача 17\n",
        "recommendations = []\n",
        "for item in all_items:\n",
        "    try:\n",
        "        est = my_algo.estimate(user_inner_id, item)\n",
        "        recommendations.append((item, est))\n",
        "    except PredictionImpossible:\n",
        "        continue\n",
        "\n",
        "# Сортуємо рекомендації за прогнозованим рейтингом\n",
        "recommendations.sort(key=lambda x: x[1], reverse=True)\n",
        "\n",
        "# Отримуємо ID фільмів\n",
        "top_recommendations = [my_algo.trainset.to_raw_iid(item_id) for item_id, _ in recommendations[:10]]\n",
        "print(\"Топ 10 рекомендацій для користувача 17:\", top_recommendations)"
      ],
      "metadata": {
        "colab": {
          "base_uri": "https://localhost:8080/"
        },
        "id": "nTxvUqEQcbg4",
        "outputId": "c7504c30-e748-4409-bdef-bf6d7d678860"
      },
      "id": "nTxvUqEQcbg4",
      "execution_count": 15,
      "outputs": [
        {
          "output_type": "stream",
          "name": "stdout",
          "text": [
            "Топ 10 рекомендацій для користувача 17: ['403', '31', '1119', '96', '195', '565', '744', '471', '410', '181']\n"
          ]
        }
      ]
    },
    {
      "cell_type": "markdown",
      "source": [
        "<p><b>Висновки:</b></p>\n",
        "<ul>\n",
        "<li>Ця система заснована на простому підході — поверненні середнього рейтингу для всіх фільмів.</li>\n",
        "<li>Алгоритм показав базовий рівень точності, що підходить як стартовий рівень для більш складних моделей.</li>\n",
        "<li>Покращити алгоритм можна шляхом введення складніших підходів для обчислення схожості між користувачами або елементами (наприклад, алгоритми, засновані на схожості cosine або Pearson).</li>\n",
        "</ul>"
      ],
      "metadata": {
        "id": "8Fk6Deg7xloJ"
      },
      "id": "8Fk6Deg7xloJ"
    }
  ],
  "metadata": {
    "kernelspec": {
      "display_name": "Python 3",
      "name": "python3"
    },
    "language_info": {
      "codemirror_mode": {
        "name": "ipython",
        "version": 3
      },
      "file_extension": ".py",
      "mimetype": "text/x-python",
      "name": "python",
      "nbconvert_exporter": "python",
      "pygments_lexer": "ipython3",
      "version": "3.12.0"
    },
    "colab": {
      "provenance": [],
      "gpuType": "T4",
      "include_colab_link": true
    },
    "accelerator": "GPU"
  },
  "nbformat": 4,
  "nbformat_minor": 5
}