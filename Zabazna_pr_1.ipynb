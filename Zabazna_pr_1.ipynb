{
 "cells": [
  {
   "cell_type": "markdown",
   "id": "8e1d2743-6ac7-4d1e-be1f-4ba6dc2c7f7f",
   "metadata": {},
   "source": [
    "# Лабораторна робота 1 "
   ]
  },
  {
   "cell_type": "markdown",
   "id": "0b1d2887-0b1f-464d-84e9-bba5510b1efd",
   "metadata": {},
   "source": [
    "## Завдання №5"
   ]
  },
  {
   "cell_type": "code",
   "execution_count": 1,
   "id": "6068377c-164a-4bb6-b47e-f7a2bbb9ec82",
   "metadata": {},
   "outputs": [],
   "source": [
    "import random \n",
    "import numpy as np"
   ]
  },
  {
   "cell_type": "markdown",
   "id": "eb052641-ac5b-4fff-aec7-7d46a5c273e9",
   "metadata": {},
   "source": [
    "<p>1. Створіть одновимірний масив (вектор) зі зворотнім порядком перших 10 натуральних \n",
    "чисел та виведіть його значення. . </p>"
   ]
  },
  {
   "cell_type": "code",
   "execution_count": 2,
   "id": "47fe7c8c-44e2-4602-98b2-9260327042f6",
   "metadata": {},
   "outputs": [
    {
     "data": {
      "text/plain": [
       "array([10,  9,  8,  7,  6,  5,  4,  3,  2,  1])"
      ]
     },
     "execution_count": 2,
     "metadata": {},
     "output_type": "execute_result"
    }
   ],
   "source": [
    "vector = np.arange(1, 11)[::-1]\n",
    "vector"
   ]
  },
  {
   "cell_type": "markdown",
   "id": "9e778df3-58c0-4a52-ac15-ae9ba2869166",
   "metadata": {},
   "source": [
    "<p>2. Створіть двовимірний масив (матрицю) розміром 3x3, заповніть його послідовністю \r\n",
    "чисел, де кожне наступне число менше попереднього на 3, та виведіть його значення. </p>"
   ]
  },
  {
   "cell_type": "code",
   "execution_count": 3,
   "id": "aa153589-2a9f-41d7-9fb2-dfc066a28bae",
   "metadata": {},
   "outputs": [
    {
     "name": "stdout",
     "output_type": "stream",
     "text": [
      "Матриця 3x3:\n",
      "[[27 24 21]\n",
      " [18 15 12]\n",
      " [ 9  6  3]]\n"
     ]
    }
   ],
   "source": [
    "start_number = 27\n",
    "sequence = np.arange(start_number, start_number - 9 * 3, -3)\n",
    "matrix = sequence.reshape((3, 3))\n",
    "print(\"Матриця 3x3:\")\n",
    "print(matrix)"
   ]
  },
  {
   "cell_type": "markdown",
   "id": "7f237043-086f-40b1-b0de-6345295c9b56",
   "metadata": {},
   "source": [
    "<p>3. Створіть масив розміром 3x3, заповніть його випадковими дійсними числами від 0 до \r\n",
    "1 та виведіть його значення.  </p>"
   ]
  },
  {
   "cell_type": "code",
   "execution_count": 17,
   "id": "d2fe5871-26af-421e-aeb0-fe056ce73bc3",
   "metadata": {},
   "outputs": [
    {
     "data": {
      "text/plain": [
       "array([[0.85793581, 0.60034732, 0.3398049 ],\n",
       "       [0.1029894 , 0.6165453 , 0.81623694],\n",
       "       [0.07742269, 0.49868171, 0.41114351]])"
      ]
     },
     "execution_count": 17,
     "metadata": {},
     "output_type": "execute_result"
    }
   ],
   "source": [
    "array1 = np.random.random((3, 3))\n",
    "array1"
   ]
  },
  {
   "cell_type": "markdown",
   "id": "353d83a6-8fe8-45d7-a296-15bce7797934",
   "metadata": {},
   "source": [
    "<p>4. Створіть масив розміром 3x3, заповніть його випадковими дійсними числами в \n",
    "діапазоні від 0 до 1 та обчисліть добуток всіх елементів. </p>"
   ]
  },
  {
   "cell_type": "code",
   "execution_count": 19,
   "id": "915c3dd0-d7dc-4fb4-9006-10f3e1346256",
   "metadata": {},
   "outputs": [
    {
     "data": {
      "text/plain": [
       "7.045221665743858e-06"
      ]
     },
     "execution_count": 19,
     "metadata": {},
     "output_type": "execute_result"
    }
   ],
   "source": [
    "array1 = np.random.random((3, 3))\n",
    "multiplication = np.prod(array1)\n",
    "multiplication"
   ]
  },
  {
   "cell_type": "markdown",
   "id": "0499ba43-35ab-4ef6-bd4e-b44a9558c07b",
   "metadata": {},
   "source": [
    "<p>5. Створіть два одновимірних масиви розміром 6, заповніть їх випадковими цілими \r\n",
    "числами в діапазоні від -20 до 20 та виконайте на них поелементні операції додавання, \r\n",
    "віднімання та множення. </p>"
   ]
  },
  {
   "cell_type": "code",
   "execution_count": 25,
   "id": "41d4bb76-c3e1-4154-bc7b-57aebf76448f",
   "metadata": {},
   "outputs": [
    {
     "name": "stdout",
     "output_type": "stream",
     "text": [
      "[ -9  -6  -3   0 -12 -16] \n",
      "[-14 -20  -8  13  -7 -13]\n"
     ]
    }
   ],
   "source": [
    "array1 = np.random.randint(-20, 20, size=6)\n",
    "array2 = np.random.randint(-20, 20, size=6)\n",
    "print(array1, f\"\\n{array2}\")"
   ]
  },
  {
   "cell_type": "code",
   "execution_count": 26,
   "id": "f9d316e8-71be-4587-955d-8c844091c461",
   "metadata": {},
   "outputs": [
    {
     "data": {
      "text/plain": [
       "array([-23, -26, -11,  13, -19, -29])"
      ]
     },
     "execution_count": 26,
     "metadata": {},
     "output_type": "execute_result"
    }
   ],
   "source": [
    "array1 + array2 "
   ]
  },
  {
   "cell_type": "code",
   "execution_count": 27,
   "id": "bc17a4fc-eb3e-48c0-828b-ee12c7621908",
   "metadata": {},
   "outputs": [
    {
     "data": {
      "text/plain": [
       "array([  5,  14,   5, -13,  -5,  -3])"
      ]
     },
     "execution_count": 27,
     "metadata": {},
     "output_type": "execute_result"
    }
   ],
   "source": [
    "array1 - array2 "
   ]
  },
  {
   "cell_type": "code",
   "execution_count": 28,
   "id": "e672f9af-3057-40eb-9cdd-a6f216f0eb8b",
   "metadata": {},
   "outputs": [
    {
     "data": {
      "text/plain": [
       "array([126, 120,  24,   0,  84, 208])"
      ]
     },
     "execution_count": 28,
     "metadata": {},
     "output_type": "execute_result"
    }
   ],
   "source": [
    "array1 * array2 "
   ]
  },
  {
   "cell_type": "markdown",
   "id": "b79f1e2c-347c-4c3c-8445-f8a2a236dcba",
   "metadata": {},
   "source": [
    "<p>6. Створіть дві матриці 2x2, заповніть їх довільними цілими числами від 6 до 10 та \r\n",
    "знайдіть їх добуток.</p>"
   ]
  },
  {
   "cell_type": "code",
   "execution_count": 35,
   "id": "0ec878a7-d5df-42c8-9268-d2ae5fbfd477",
   "metadata": {},
   "outputs": [
    {
     "name": "stdout",
     "output_type": "stream",
     "text": [
      "[[6 8 8]\n",
      " [8 8 6]\n",
      " [9 7 7]] \n",
      "\n",
      "[[8 6 6]\n",
      " [9 8 7]\n",
      " [6 6 8]]\n"
     ]
    }
   ],
   "source": [
    "array1 = np.random.randint(6, 10, size=9).reshape(3,3)\n",
    "array2 = np.random.randint(6, 10, size=9).reshape(3,3)\n",
    "print(array1, f'\\n\\n{array2}')"
   ]
  },
  {
   "cell_type": "code",
   "execution_count": 36,
   "id": "43ef21f9-a3ba-4052-b7b7-bd1713ef7953",
   "metadata": {},
   "outputs": [
    {
     "data": {
      "text/plain": [
       "array([[48, 48, 48],\n",
       "       [72, 64, 42],\n",
       "       [54, 42, 56]])"
      ]
     },
     "execution_count": 36,
     "metadata": {},
     "output_type": "execute_result"
    }
   ],
   "source": [
    "array1 * array2"
   ]
  },
  {
   "cell_type": "markdown",
   "id": "371d1f27-d14a-4695-9b59-4a3e7c98db2d",
   "metadata": {},
   "source": [
    "<p>7. Створіть дві матриці розміром 3x2 та 2x2, заповніть їх випадковими цілими числами \r\n",
    "в діапазоні від 1 до 8 та перемножте їх між собою.</p>"
   ]
  },
  {
   "cell_type": "code",
   "execution_count": 37,
   "id": "f2b2ca0a-bb3d-4f61-8a83-d333c05afaa8",
   "metadata": {},
   "outputs": [
    {
     "name": "stdout",
     "output_type": "stream",
     "text": [
      "[[6 3]\n",
      " [1 2]\n",
      " [5 5]] \n",
      "\n",
      "[[1 1]\n",
      " [3 2]]\n"
     ]
    }
   ],
   "source": [
    "array1 = np.random.randint(1, 8, size=6).reshape(3,2)\n",
    "array2 = np.random.randint(1, 8, size=4).reshape(2,2)\n",
    "print(array1, f'\\n\\n{array2}')"
   ]
  },
  {
   "cell_type": "code",
   "execution_count": 41,
   "id": "c518ef55-149d-40b1-a688-89363f391ccd",
   "metadata": {},
   "outputs": [
    {
     "data": {
      "text/plain": [
       "array([[15, 12],\n",
       "       [ 7,  5],\n",
       "       [20, 15]])"
      ]
     },
     "execution_count": 41,
     "metadata": {},
     "output_type": "execute_result"
    }
   ],
   "source": [
    "product = np.matmul(array1, array2)\n",
    "product"
   ]
  },
  {
   "cell_type": "markdown",
   "id": "d3e8ffba-912f-4c0d-8830-0010acdbb0ff",
   "metadata": {},
   "source": [
    "<p>8. Створіть матрицю розміром 2x2, заповніть її випадковими цілими числами в діапазоні \r\n",
    "від 1 до 10 та знайдіть її обернену матрицю. </p>"
   ]
  },
  {
   "cell_type": "code",
   "execution_count": 43,
   "id": "7769bdcd-1406-497e-9f05-0505e00e2231",
   "metadata": {},
   "outputs": [
    {
     "data": {
      "text/plain": [
       "array([[4, 5],\n",
       "       [5, 8]])"
      ]
     },
     "execution_count": 43,
     "metadata": {},
     "output_type": "execute_result"
    }
   ],
   "source": [
    "array1 = np.random.randint(1, 10, size=4).reshape(2,2)\n",
    "array1"
   ]
  },
  {
   "cell_type": "code",
   "execution_count": 44,
   "id": "ee8a56ef-3a9c-476f-8d1a-8486296c8c75",
   "metadata": {},
   "outputs": [
    {
     "data": {
      "text/plain": [
       "array([[ 1.14285714, -0.71428571],\n",
       "       [-0.71428571,  0.57142857]])"
      ]
     },
     "execution_count": 44,
     "metadata": {},
     "output_type": "execute_result"
    }
   ],
   "source": [
    "np.linalg.inv(array1)"
   ]
  },
  {
   "cell_type": "markdown",
   "id": "274cc742-3544-4752-b894-c325c8ba5447",
   "metadata": {},
   "source": [
    "<p>9. Створіть матрицю розміром 3x3, заповніть її випадковими цілими числами в діапазоні \r\n",
    "від 0 до 1 та транспонуйте її. </p>"
   ]
  },
  {
   "cell_type": "code",
   "execution_count": 45,
   "id": "af50454b-5dea-45be-806e-4798e83c728f",
   "metadata": {},
   "outputs": [
    {
     "data": {
      "text/plain": [
       "array([[0.86476026, 0.46807254, 0.58807728],\n",
       "       [0.35136679, 0.90155515, 0.71596249],\n",
       "       [0.76610506, 0.0800661 , 0.02158829]])"
      ]
     },
     "execution_count": 45,
     "metadata": {},
     "output_type": "execute_result"
    }
   ],
   "source": [
    "array1 = np.random.random(9).reshape(3,3)\n",
    "array1"
   ]
  },
  {
   "cell_type": "code",
   "execution_count": 46,
   "id": "847299e6-a6d6-4c41-8c92-89325e383cbf",
   "metadata": {},
   "outputs": [
    {
     "data": {
      "text/plain": [
       "array([[0.86476026, 0.35136679, 0.76610506],\n",
       "       [0.46807254, 0.90155515, 0.0800661 ],\n",
       "       [0.58807728, 0.71596249, 0.02158829]])"
      ]
     },
     "execution_count": 46,
     "metadata": {},
     "output_type": "execute_result"
    }
   ],
   "source": [
    "np.transpose(array1)"
   ]
  },
  {
   "cell_type": "markdown",
   "id": "3ddc4ad9-ee85-4336-9a89-4a98405122df",
   "metadata": {},
   "source": [
    "<p>10. Створіть матрицю розміром 3x4 та вектор розміром 4x1, заповніть матрицю \r\n",
    "випадковими дійсними числами від 0 до 1, а вектор - випадковими цілими числами в \r\n",
    "діапазоні від 1 до 10, і знайдіть добуток матриці на вектор. </p>"
   ]
  },
  {
   "cell_type": "code",
   "execution_count": 47,
   "id": "6f5cc427-911f-4beb-b3e6-d869aa5a73dc",
   "metadata": {},
   "outputs": [
    {
     "data": {
      "text/plain": [
       "array([[0.04179454, 0.46728596, 0.90234693, 0.3686469 ],\n",
       "       [0.51021021, 0.73101019, 0.47108108, 0.59369194],\n",
       "       [0.33743986, 0.82671053, 0.64581731, 0.75310024]])"
      ]
     },
     "execution_count": 47,
     "metadata": {},
     "output_type": "execute_result"
    }
   ],
   "source": [
    "array1 = np.random.random(12).reshape(3,4)\n",
    "array1"
   ]
  },
  {
   "cell_type": "code",
   "execution_count": 50,
   "id": "1b486fc7-fb35-4c38-a081-05ce6c448122",
   "metadata": {},
   "outputs": [
    {
     "data": {
      "text/plain": [
       "array([[2],\n",
       "       [9],\n",
       "       [5],\n",
       "       [1]])"
      ]
     },
     "execution_count": 50,
     "metadata": {},
     "output_type": "execute_result"
    }
   ],
   "source": [
    "vector = np.random.randint(1, 10, size=4).reshape(4,1)\n",
    "vector"
   ]
  },
  {
   "cell_type": "code",
   "execution_count": 51,
   "id": "086fc770-55a3-4067-9930-65ace11f4d7a",
   "metadata": {},
   "outputs": [
    {
     "data": {
      "text/plain": [
       "array([[ 9.16954426],\n",
       "       [10.54860946],\n",
       "       [12.09746129]])"
      ]
     },
     "execution_count": 51,
     "metadata": {},
     "output_type": "execute_result"
    }
   ],
   "source": [
    "product = np.matmul(array1, vector)\n",
    "product"
   ]
  },
  {
   "cell_type": "markdown",
   "id": "f8282f9f-193d-441e-a76c-62e1a21538c9",
   "metadata": {},
   "source": [
    "<p>11. Створіть матрицю розміром 2x3 та вектор розміром 3x1, заповніть матрицю \r\n",
    "випадковими цілими числами в діапазоні від 1 до 10, а вектор - випадковими цілими \r\n",
    "числами в діапазоні від 1 до 10, і знайдіть добуток матриці на вектор.</p>"
   ]
  },
  {
   "cell_type": "code",
   "execution_count": 53,
   "id": "f0fee34d-0cdf-4ddc-bb1c-c293f067d696",
   "metadata": {},
   "outputs": [
    {
     "name": "stdout",
     "output_type": "stream",
     "text": [
      "[[4 8 1]\n",
      " [2 2 7]] \n",
      "\n",
      "[[4]\n",
      " [7]\n",
      " [6]]\n"
     ]
    }
   ],
   "source": [
    "array1 = np.random.randint(1, 10, size=6).reshape(2,3)\n",
    "vector = np.random.randint(1, 10, size=3).reshape(3,1)\n",
    "print(array1, f'\\n\\n{vector}')"
   ]
  },
  {
   "cell_type": "code",
   "execution_count": 54,
   "id": "56eb1f4d-0f4d-4c42-9f45-cb4a62e35fa9",
   "metadata": {},
   "outputs": [
    {
     "data": {
      "text/plain": [
       "array([[78],\n",
       "       [64]])"
      ]
     },
     "execution_count": 54,
     "metadata": {},
     "output_type": "execute_result"
    }
   ],
   "source": [
    "np.matmul(array1, vector)"
   ]
  },
  {
   "cell_type": "markdown",
   "id": "4f303b4c-581e-4d90-a7c5-75436d45e098",
   "metadata": {},
   "source": [
    "<p>12. Створіть дві матриці розміром 6x6, заповніть їх випадковими цілими числами в \r\n",
    "діапазоні від 1 до 10 та знайдіть їхню суму. </p>"
   ]
  },
  {
   "cell_type": "code",
   "execution_count": 56,
   "id": "a5b325ab-0ae4-4e85-b4a7-3ee3802d32ff",
   "metadata": {},
   "outputs": [
    {
     "name": "stdout",
     "output_type": "stream",
     "text": [
      "[[6 7 2 3 8 2]\n",
      " [6 7 8 6 4 9]\n",
      " [7 8 5 2 2 2]\n",
      " [4 4 6 4 7 1]\n",
      " [2 7 9 6 6 1]\n",
      " [2 5 5 2 6 9]] \n",
      "\n",
      "[[7 6 6 4 8 8]\n",
      " [5 1 2 5 6 2]\n",
      " [6 6 9 1 2 3]\n",
      " [1 8 5 6 1 5]\n",
      " [3 6 2 1 4 8]\n",
      " [6 7 9 9 6 8]]\n"
     ]
    }
   ],
   "source": [
    "array1 = np.random.randint(1, 10, size=36).reshape(6,6)\n",
    "array2 = np.random.randint(1, 10, size=36).reshape(6,6)\n",
    "print(array1, f'\\n\\n{array2}')"
   ]
  },
  {
   "cell_type": "code",
   "execution_count": 57,
   "id": "aebf3558-f580-48b8-9461-ae3b3731b034",
   "metadata": {},
   "outputs": [
    {
     "data": {
      "text/plain": [
       "array([[13, 13,  8,  7, 16, 10],\n",
       "       [11,  8, 10, 11, 10, 11],\n",
       "       [13, 14, 14,  3,  4,  5],\n",
       "       [ 5, 12, 11, 10,  8,  6],\n",
       "       [ 5, 13, 11,  7, 10,  9],\n",
       "       [ 8, 12, 14, 11, 12, 17]])"
      ]
     },
     "execution_count": 57,
     "metadata": {},
     "output_type": "execute_result"
    }
   ],
   "source": [
    "array1 + array2"
   ]
  },
  {
   "cell_type": "markdown",
   "id": "5ad13e2d-09f8-42a7-817b-9f24e13a0d95",
   "metadata": {},
   "source": [
    "<p>13. Створіть дві матриці розміром 6x6, заповніть їх випадковими дійсними числами в \r\n",
    "діапазоні від 0 до 1 та знайдіть різницю їх елементів </p>"
   ]
  },
  {
   "cell_type": "code",
   "execution_count": 58,
   "id": "92a46b94-cf54-40ae-8e97-a61244089201",
   "metadata": {},
   "outputs": [
    {
     "name": "stdout",
     "output_type": "stream",
     "text": [
      "[[0.77619074 0.68217369 0.43796263 0.23107601 0.68616142 0.20258151]\n",
      " [0.01869013 0.58102675 0.49252094 0.08554708 0.96698658 0.47068929]\n",
      " [0.72762108 0.7902444  0.55614516 0.73326982 0.34935665 0.2613525 ]\n",
      " [0.25677428 0.09110279 0.82350752 0.14820933 0.92569756 0.5173994 ]\n",
      " [0.06929282 0.85304216 0.75104931 0.64562868 0.17406472 0.04160404]\n",
      " [0.20264278 0.99526517 0.11645086 0.28398057 0.51070838 0.83422669]] \n",
      "\n",
      "[[0.54253243 0.80682636 0.43661035 0.15256485 0.78362834 0.25928513]\n",
      " [0.28499582 0.34333889 0.86580553 0.66753218 0.06551319 0.57853437]\n",
      " [0.95317753 0.10080833 0.61713323 0.71551166 0.92745369 0.52831481]\n",
      " [0.50344221 0.47405346 0.16201504 0.37215332 0.97828548 0.48045912]\n",
      " [0.49853836 0.97018863 0.6170928  0.78364242 0.39789752 0.16870125]\n",
      " [0.62193816 0.20213878 0.86557061 0.51714185 0.49496284 0.77544647]]\n"
     ]
    }
   ],
   "source": [
    "array1 = np.random.random(size=36).reshape(6,6)\n",
    "array2 = np.random.random(size=36).reshape(6,6)\n",
    "print(array1, f'\\n\\n{array2}')"
   ]
  },
  {
   "cell_type": "code",
   "execution_count": 59,
   "id": "7a95ba6c-1635-4337-b180-3cc0bbf0cbec",
   "metadata": {},
   "outputs": [
    {
     "data": {
      "text/plain": [
       "array([[ 0.23365832, -0.12465267,  0.00135229,  0.07851116, -0.09746692,\n",
       "        -0.05670362],\n",
       "       [-0.2663057 ,  0.23768786, -0.37328459, -0.58198509,  0.90147339,\n",
       "        -0.10784508],\n",
       "       [-0.22555645,  0.68943607, -0.06098806,  0.01775816, -0.57809703,\n",
       "        -0.26696231],\n",
       "       [-0.24666793, -0.38295067,  0.66149248, -0.22394399, -0.05258792,\n",
       "         0.03694028],\n",
       "       [-0.42924555, -0.11714647,  0.13395651, -0.13801374, -0.2238328 ,\n",
       "        -0.12709721],\n",
       "       [-0.41929538,  0.79312639, -0.74911975, -0.23316128,  0.01574554,\n",
       "         0.05878023]])"
      ]
     },
     "execution_count": 59,
     "metadata": {},
     "output_type": "execute_result"
    }
   ],
   "source": [
    "array1 - array2 "
   ]
  },
  {
   "cell_type": "markdown",
   "id": "9ca723cb-94e2-48a5-b371-4f7e72d2f687",
   "metadata": {},
   "source": [
    "<p>14. Створіть матрицю розміром 3x3, заповніть її випадковими дійсними числами в \r\n",
    "діапазоні від -5 до 5 та знайдіть добуток елементів матриці. </p>"
   ]
  },
  {
   "cell_type": "code",
   "execution_count": 60,
   "id": "abe4b2d6-fab4-4319-9202-0ca278d13197",
   "metadata": {},
   "outputs": [
    {
     "data": {
      "text/plain": [
       "array([[ 0, -3, -4],\n",
       "       [-4, -5,  1],\n",
       "       [ 1,  3,  4]])"
      ]
     },
     "execution_count": 60,
     "metadata": {},
     "output_type": "execute_result"
    }
   ],
   "source": [
    "array1 = np.random.randint(-5, 5, size=9).reshape(3,3)\n",
    "array1"
   ]
  },
  {
   "cell_type": "code",
   "execution_count": 61,
   "id": "af478ce6-d482-4dcc-a71f-1746eb6caee7",
   "metadata": {},
   "outputs": [
    {
     "data": {
      "text/plain": [
       "0"
      ]
     },
     "execution_count": 61,
     "metadata": {},
     "output_type": "execute_result"
    }
   ],
   "source": [
    "product = np.prod(array1)\n",
    "product"
   ]
  },
  {
   "cell_type": "markdown",
   "id": "fe4a3945-2fa0-4e67-a34d-e82bf75c54c9",
   "metadata": {},
   "source": [
    "<p>15. Створіть матрицю розміром 7x7, заповніть її випадковими дійсними числами в \r\n",
    "діапазоні від 0 до 1 та знайдіть вектор-стовпчик, що містить найбільший елемент у \r\n",
    "кожному рядку матриці. </p>"
   ]
  },
  {
   "cell_type": "code",
   "execution_count": 64,
   "id": "59fa87e4-31ed-412c-b91c-8f43b5249221",
   "metadata": {},
   "outputs": [
    {
     "data": {
      "text/plain": [
       "array([[0.73919403],\n",
       "       [0.64074262],\n",
       "       [0.81975277],\n",
       "       [0.84243056],\n",
       "       [0.85621772],\n",
       "       [0.85127488],\n",
       "       [0.92726321]])"
      ]
     },
     "execution_count": 64,
     "metadata": {},
     "output_type": "execute_result"
    }
   ],
   "source": [
    "array1 = np.random.random(size=49).reshape(7, 7)\n",
    "max_elements = np.max(array1, axis=1)\n",
    "max_vector = max_elements.reshape(-1, 1)\n",
    "max_vector"
   ]
  },
  {
   "cell_type": "markdown",
   "id": "3d09abbc-154b-4b7f-a356-c3dbb4ac481f",
   "metadata": {},
   "source": [
    "<p>Висновок:\n",
    "<ul>\n",
    "    <li>було опрацьовано бібліотеку Numpy</li>\n",
    "    <li>згадано, як працювати з різними масивами</li>\n",
    "    <li>використано функції пайтон для роботи з даними</li>\n",
    "</ul></p>"
   ]
  }
 ],
 "metadata": {
  "kernelspec": {
   "display_name": "Python 3 (ipykernel)",
   "language": "python",
   "name": "python3"
  },
  "language_info": {
   "codemirror_mode": {
    "name": "ipython",
    "version": 3
   },
   "file_extension": ".py",
   "mimetype": "text/x-python",
   "name": "python",
   "nbconvert_exporter": "python",
   "pygments_lexer": "ipython3",
   "version": "3.12.0"
  }
 },
 "nbformat": 4,
 "nbformat_minor": 5
}
